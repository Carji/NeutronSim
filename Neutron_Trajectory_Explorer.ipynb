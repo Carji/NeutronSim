{
 "cells": [
  {
   "cell_type": "code",
   "execution_count": 1,
   "id": "other-pride",
   "metadata": {},
   "outputs": [],
   "source": [
    "import pandas as pd"
   ]
  },
  {
   "cell_type": "code",
   "execution_count": 2,
   "id": "ranking-schedule",
   "metadata": {},
   "outputs": [],
   "source": [
    "import matplotlib.pyplot as plt"
   ]
  },
  {
   "cell_type": "code",
   "execution_count": null,
   "id": "monetary-shoot",
   "metadata": {},
   "outputs": [],
   "source": []
  },
  {
   "cell_type": "code",
   "execution_count": null,
   "id": "hydraulic-coverage",
   "metadata": {},
   "outputs": [],
   "source": []
  },
  {
   "cell_type": "code",
   "execution_count": null,
   "id": "floating-explorer",
   "metadata": {},
   "outputs": [],
   "source": []
  },
  {
   "cell_type": "code",
   "execution_count": 3,
   "id": "digital-rebecca",
   "metadata": {},
   "outputs": [],
   "source": [
    "df=pd.read_csv('xyz.dat') #, sep='\\t')"
   ]
  },
  {
   "cell_type": "code",
   "execution_count": 4,
   "id": "resistant-excess",
   "metadata": {},
   "outputs": [
    {
     "data": {
      "text/html": [
       "<div>\n",
       "<style scoped>\n",
       "    .dataframe tbody tr th:only-of-type {\n",
       "        vertical-align: middle;\n",
       "    }\n",
       "\n",
       "    .dataframe tbody tr th {\n",
       "        vertical-align: top;\n",
       "    }\n",
       "\n",
       "    .dataframe thead th {\n",
       "        text-align: right;\n",
       "    }\n",
       "</style>\n",
       "<table border=\"1\" class=\"dataframe\">\n",
       "  <thead>\n",
       "    <tr style=\"text-align: right;\">\n",
       "      <th></th>\n",
       "      <th>Unnamed: 0</th>\n",
       "      <th>particle</th>\n",
       "      <th>x</th>\n",
       "      <th>y</th>\n",
       "      <th>z</th>\n",
       "      <th>Unnamed: 5</th>\n",
       "    </tr>\n",
       "  </thead>\n",
       "  <tbody>\n",
       "    <tr>\n",
       "      <th>0</th>\n",
       "      <td>NaN</td>\n",
       "      <td>1</td>\n",
       "      <td>0.000000</td>\n",
       "      <td>0.000000</td>\n",
       "      <td>0.000000</td>\n",
       "      <td>NaN</td>\n",
       "    </tr>\n",
       "    <tr>\n",
       "      <th>1</th>\n",
       "      <td>NaN</td>\n",
       "      <td>1</td>\n",
       "      <td>0.000000</td>\n",
       "      <td>0.000000</td>\n",
       "      <td>0.902354</td>\n",
       "      <td>NaN</td>\n",
       "    </tr>\n",
       "    <tr>\n",
       "      <th>2</th>\n",
       "      <td>NaN</td>\n",
       "      <td>1</td>\n",
       "      <td>-0.120165</td>\n",
       "      <td>0.011496</td>\n",
       "      <td>1.210227</td>\n",
       "      <td>NaN</td>\n",
       "    </tr>\n",
       "    <tr>\n",
       "      <th>3</th>\n",
       "      <td>NaN</td>\n",
       "      <td>1</td>\n",
       "      <td>-0.186020</td>\n",
       "      <td>-0.163311</td>\n",
       "      <td>1.322422</td>\n",
       "      <td>NaN</td>\n",
       "    </tr>\n",
       "    <tr>\n",
       "      <th>4</th>\n",
       "      <td>NaN</td>\n",
       "      <td>1</td>\n",
       "      <td>-0.347692</td>\n",
       "      <td>-0.490056</td>\n",
       "      <td>1.448691</td>\n",
       "      <td>NaN</td>\n",
       "    </tr>\n",
       "    <tr>\n",
       "      <th>...</th>\n",
       "      <td>...</td>\n",
       "      <td>...</td>\n",
       "      <td>...</td>\n",
       "      <td>...</td>\n",
       "      <td>...</td>\n",
       "      <td>...</td>\n",
       "    </tr>\n",
       "    <tr>\n",
       "      <th>137818</th>\n",
       "      <td>NaN</td>\n",
       "      <td>10000</td>\n",
       "      <td>3.814324</td>\n",
       "      <td>-1.297286</td>\n",
       "      <td>5.183453</td>\n",
       "      <td>NaN</td>\n",
       "    </tr>\n",
       "    <tr>\n",
       "      <th>137819</th>\n",
       "      <td>NaN</td>\n",
       "      <td>10000</td>\n",
       "      <td>4.098811</td>\n",
       "      <td>-2.087377</td>\n",
       "      <td>5.555161</td>\n",
       "      <td>NaN</td>\n",
       "    </tr>\n",
       "    <tr>\n",
       "      <th>137820</th>\n",
       "      <td>NaN</td>\n",
       "      <td>10000</td>\n",
       "      <td>3.657094</td>\n",
       "      <td>-2.896172</td>\n",
       "      <td>5.577089</td>\n",
       "      <td>NaN</td>\n",
       "    </tr>\n",
       "    <tr>\n",
       "      <th>137821</th>\n",
       "      <td>NaN</td>\n",
       "      <td>10000</td>\n",
       "      <td>3.203748</td>\n",
       "      <td>-3.266494</td>\n",
       "      <td>5.577399</td>\n",
       "      <td>NaN</td>\n",
       "    </tr>\n",
       "    <tr>\n",
       "      <th>137822</th>\n",
       "      <td>NaN</td>\n",
       "      <td>10000</td>\n",
       "      <td>2.365727</td>\n",
       "      <td>-3.028387</td>\n",
       "      <td>6.705103</td>\n",
       "      <td>NaN</td>\n",
       "    </tr>\n",
       "  </tbody>\n",
       "</table>\n",
       "<p>137823 rows × 6 columns</p>\n",
       "</div>"
      ],
      "text/plain": [
       "        Unnamed: 0  particle         x         y         z  Unnamed: 5\n",
       "0              NaN         1  0.000000  0.000000  0.000000         NaN\n",
       "1              NaN         1  0.000000  0.000000  0.902354         NaN\n",
       "2              NaN         1 -0.120165  0.011496  1.210227         NaN\n",
       "3              NaN         1 -0.186020 -0.163311  1.322422         NaN\n",
       "4              NaN         1 -0.347692 -0.490056  1.448691         NaN\n",
       "...            ...       ...       ...       ...       ...         ...\n",
       "137818         NaN     10000  3.814324 -1.297286  5.183453         NaN\n",
       "137819         NaN     10000  4.098811 -2.087377  5.555161         NaN\n",
       "137820         NaN     10000  3.657094 -2.896172  5.577089         NaN\n",
       "137821         NaN     10000  3.203748 -3.266494  5.577399         NaN\n",
       "137822         NaN     10000  2.365727 -3.028387  6.705103         NaN\n",
       "\n",
       "[137823 rows x 6 columns]"
      ]
     },
     "execution_count": 4,
     "metadata": {},
     "output_type": "execute_result"
    }
   ],
   "source": [
    "df"
   ]
  },
  {
   "cell_type": "code",
   "execution_count": 5,
   "id": "simple-chuck",
   "metadata": {},
   "outputs": [
    {
     "data": {
      "text/plain": [
       "Unnamed: 0         NaN\n",
       "particle      1.000000\n",
       "x            -0.120165\n",
       "y             0.011496\n",
       "z             1.210227\n",
       "Unnamed: 5         NaN\n",
       "Name: 2, dtype: float64"
      ]
     },
     "execution_count": 5,
     "metadata": {},
     "output_type": "execute_result"
    }
   ],
   "source": [
    "df.loc[2]"
   ]
  },
  {
   "cell_type": "code",
   "execution_count": 6,
   "id": "liked-patent",
   "metadata": {},
   "outputs": [
    {
     "data": {
      "text/plain": [
       "<AxesSubplot:>"
      ]
     },
     "execution_count": 6,
     "metadata": {},
     "output_type": "execute_result"
    },
    {
     "data": {
      "image/png": "[encoded data removed]",
      "text/plain": [
       "<Figure size 432x288 with 1 Axes>"
      ]
     },
     "metadata": {
      "needs_background": "light"
     },
     "output_type": "display_data"
    }
   ],
   "source": [
    "plt.figure()\n",
    "\n",
    "df.loc[1].plot()"
   ]
  },
  {
   "cell_type": "code",
   "execution_count": 7,
   "id": "brutal-compiler",
   "metadata": {},
   "outputs": [
    {
     "data": {
      "text/html": [
       "<div>\n",
       "<style scoped>\n",
       "    .dataframe tbody tr th:only-of-type {\n",
       "        vertical-align: middle;\n",
       "    }\n",
       "\n",
       "    .dataframe tbody tr th {\n",
       "        vertical-align: top;\n",
       "    }\n",
       "\n",
       "    .dataframe thead th {\n",
       "        text-align: right;\n",
       "    }\n",
       "</style>\n",
       "<table border=\"1\" class=\"dataframe\">\n",
       "  <thead>\n",
       "    <tr style=\"text-align: right;\">\n",
       "      <th></th>\n",
       "      <th>Unnamed: 0</th>\n",
       "      <th>particle</th>\n",
       "      <th>x</th>\n",
       "      <th>y</th>\n",
       "      <th>z</th>\n",
       "      <th>Unnamed: 5</th>\n",
       "    </tr>\n",
       "  </thead>\n",
       "  <tbody>\n",
       "    <tr>\n",
       "      <th>0</th>\n",
       "      <td>NaN</td>\n",
       "      <td>1</td>\n",
       "      <td>0.000000</td>\n",
       "      <td>0.000000</td>\n",
       "      <td>0.000000</td>\n",
       "      <td>NaN</td>\n",
       "    </tr>\n",
       "    <tr>\n",
       "      <th>1</th>\n",
       "      <td>NaN</td>\n",
       "      <td>1</td>\n",
       "      <td>0.000000</td>\n",
       "      <td>0.000000</td>\n",
       "      <td>0.902354</td>\n",
       "      <td>NaN</td>\n",
       "    </tr>\n",
       "    <tr>\n",
       "      <th>2</th>\n",
       "      <td>NaN</td>\n",
       "      <td>1</td>\n",
       "      <td>-0.120165</td>\n",
       "      <td>0.011496</td>\n",
       "      <td>1.210227</td>\n",
       "      <td>NaN</td>\n",
       "    </tr>\n",
       "    <tr>\n",
       "      <th>3</th>\n",
       "      <td>NaN</td>\n",
       "      <td>1</td>\n",
       "      <td>-0.186020</td>\n",
       "      <td>-0.163311</td>\n",
       "      <td>1.322422</td>\n",
       "      <td>NaN</td>\n",
       "    </tr>\n",
       "    <tr>\n",
       "      <th>4</th>\n",
       "      <td>NaN</td>\n",
       "      <td>1</td>\n",
       "      <td>-0.347692</td>\n",
       "      <td>-0.490056</td>\n",
       "      <td>1.448691</td>\n",
       "      <td>NaN</td>\n",
       "    </tr>\n",
       "    <tr>\n",
       "      <th>5</th>\n",
       "      <td>NaN</td>\n",
       "      <td>1</td>\n",
       "      <td>-1.118675</td>\n",
       "      <td>-0.847141</td>\n",
       "      <td>1.904861</td>\n",
       "      <td>NaN</td>\n",
       "    </tr>\n",
       "    <tr>\n",
       "      <th>6</th>\n",
       "      <td>NaN</td>\n",
       "      <td>1</td>\n",
       "      <td>-1.358032</td>\n",
       "      <td>-0.795512</td>\n",
       "      <td>2.221136</td>\n",
       "      <td>NaN</td>\n",
       "    </tr>\n",
       "    <tr>\n",
       "      <th>7</th>\n",
       "      <td>NaN</td>\n",
       "      <td>1</td>\n",
       "      <td>-1.912051</td>\n",
       "      <td>-0.070638</td>\n",
       "      <td>2.335048</td>\n",
       "      <td>NaN</td>\n",
       "    </tr>\n",
       "    <tr>\n",
       "      <th>8</th>\n",
       "      <td>NaN</td>\n",
       "      <td>1</td>\n",
       "      <td>-3.034136</td>\n",
       "      <td>0.241689</td>\n",
       "      <td>2.417813</td>\n",
       "      <td>NaN</td>\n",
       "    </tr>\n",
       "    <tr>\n",
       "      <th>9</th>\n",
       "      <td>NaN</td>\n",
       "      <td>1</td>\n",
       "      <td>-3.050217</td>\n",
       "      <td>0.845330</td>\n",
       "      <td>2.629611</td>\n",
       "      <td>NaN</td>\n",
       "    </tr>\n",
       "    <tr>\n",
       "      <th>10</th>\n",
       "      <td>NaN</td>\n",
       "      <td>1</td>\n",
       "      <td>-3.542328</td>\n",
       "      <td>2.462639</td>\n",
       "      <td>3.049811</td>\n",
       "      <td>NaN</td>\n",
       "    </tr>\n",
       "    <tr>\n",
       "      <th>11</th>\n",
       "      <td>NaN</td>\n",
       "      <td>1</td>\n",
       "      <td>-3.680440</td>\n",
       "      <td>5.183022</td>\n",
       "      <td>5.803809</td>\n",
       "      <td>NaN</td>\n",
       "    </tr>\n",
       "    <tr>\n",
       "      <th>12</th>\n",
       "      <td>NaN</td>\n",
       "      <td>1</td>\n",
       "      <td>-3.568198</td>\n",
       "      <td>5.273950</td>\n",
       "      <td>5.876195</td>\n",
       "      <td>NaN</td>\n",
       "    </tr>\n",
       "    <tr>\n",
       "      <th>13</th>\n",
       "      <td>NaN</td>\n",
       "      <td>1</td>\n",
       "      <td>-3.512569</td>\n",
       "      <td>5.402052</td>\n",
       "      <td>6.070910</td>\n",
       "      <td>NaN</td>\n",
       "    </tr>\n",
       "    <tr>\n",
       "      <th>14</th>\n",
       "      <td>NaN</td>\n",
       "      <td>1</td>\n",
       "      <td>3.553460</td>\n",
       "      <td>9.101469</td>\n",
       "      <td>7.228416</td>\n",
       "      <td>NaN</td>\n",
       "    </tr>\n",
       "  </tbody>\n",
       "</table>\n",
       "</div>"
      ],
      "text/plain": [
       "    Unnamed: 0  particle         x         y         z  Unnamed: 5\n",
       "0          NaN         1  0.000000  0.000000  0.000000         NaN\n",
       "1          NaN         1  0.000000  0.000000  0.902354         NaN\n",
       "2          NaN         1 -0.120165  0.011496  1.210227         NaN\n",
       "3          NaN         1 -0.186020 -0.163311  1.322422         NaN\n",
       "4          NaN         1 -0.347692 -0.490056  1.448691         NaN\n",
       "5          NaN         1 -1.118675 -0.847141  1.904861         NaN\n",
       "6          NaN         1 -1.358032 -0.795512  2.221136         NaN\n",
       "7          NaN         1 -1.912051 -0.070638  2.335048         NaN\n",
       "8          NaN         1 -3.034136  0.241689  2.417813         NaN\n",
       "9          NaN         1 -3.050217  0.845330  2.629611         NaN\n",
       "10         NaN         1 -3.542328  2.462639  3.049811         NaN\n",
       "11         NaN         1 -3.680440  5.183022  5.803809         NaN\n",
       "12         NaN         1 -3.568198  5.273950  5.876195         NaN\n",
       "13         NaN         1 -3.512569  5.402052  6.070910         NaN\n",
       "14         NaN         1  3.553460  9.101469  7.228416         NaN"
      ]
     },
     "execution_count": 7,
     "metadata": {},
     "output_type": "execute_result"
    }
   ],
   "source": [
    "df[df['particle']==1]"
   ]
  },
  {
   "cell_type": "code",
   "execution_count": 8,
   "id": "normal-violence",
   "metadata": {},
   "outputs": [],
   "source": [
    "xyz=df"
   ]
  },
  {
   "cell_type": "code",
   "execution_count": 9,
   "id": "numerous-herald",
   "metadata": {},
   "outputs": [
    {
     "data": {
      "text/html": [
       "<div>\n",
       "<style scoped>\n",
       "    .dataframe tbody tr th:only-of-type {\n",
       "        vertical-align: middle;\n",
       "    }\n",
       "\n",
       "    .dataframe tbody tr th {\n",
       "        vertical-align: top;\n",
       "    }\n",
       "\n",
       "    .dataframe thead th {\n",
       "        text-align: right;\n",
       "    }\n",
       "</style>\n",
       "<table border=\"1\" class=\"dataframe\">\n",
       "  <thead>\n",
       "    <tr style=\"text-align: right;\">\n",
       "      <th></th>\n",
       "      <th>Unnamed: 0</th>\n",
       "      <th>particle</th>\n",
       "      <th>x</th>\n",
       "      <th>y</th>\n",
       "      <th>z</th>\n",
       "      <th>Unnamed: 5</th>\n",
       "    </tr>\n",
       "  </thead>\n",
       "  <tbody>\n",
       "    <tr>\n",
       "      <th>0</th>\n",
       "      <td>NaN</td>\n",
       "      <td>1</td>\n",
       "      <td>0.000000</td>\n",
       "      <td>0.000000</td>\n",
       "      <td>0.000000</td>\n",
       "      <td>NaN</td>\n",
       "    </tr>\n",
       "    <tr>\n",
       "      <th>1</th>\n",
       "      <td>NaN</td>\n",
       "      <td>1</td>\n",
       "      <td>0.000000</td>\n",
       "      <td>0.000000</td>\n",
       "      <td>0.902354</td>\n",
       "      <td>NaN</td>\n",
       "    </tr>\n",
       "    <tr>\n",
       "      <th>2</th>\n",
       "      <td>NaN</td>\n",
       "      <td>1</td>\n",
       "      <td>-0.120165</td>\n",
       "      <td>0.011496</td>\n",
       "      <td>1.210227</td>\n",
       "      <td>NaN</td>\n",
       "    </tr>\n",
       "    <tr>\n",
       "      <th>3</th>\n",
       "      <td>NaN</td>\n",
       "      <td>1</td>\n",
       "      <td>-0.186020</td>\n",
       "      <td>-0.163311</td>\n",
       "      <td>1.322422</td>\n",
       "      <td>NaN</td>\n",
       "    </tr>\n",
       "    <tr>\n",
       "      <th>4</th>\n",
       "      <td>NaN</td>\n",
       "      <td>1</td>\n",
       "      <td>-0.347692</td>\n",
       "      <td>-0.490056</td>\n",
       "      <td>1.448691</td>\n",
       "      <td>NaN</td>\n",
       "    </tr>\n",
       "    <tr>\n",
       "      <th>...</th>\n",
       "      <td>...</td>\n",
       "      <td>...</td>\n",
       "      <td>...</td>\n",
       "      <td>...</td>\n",
       "      <td>...</td>\n",
       "      <td>...</td>\n",
       "    </tr>\n",
       "    <tr>\n",
       "      <th>137818</th>\n",
       "      <td>NaN</td>\n",
       "      <td>10000</td>\n",
       "      <td>3.814324</td>\n",
       "      <td>-1.297286</td>\n",
       "      <td>5.183453</td>\n",
       "      <td>NaN</td>\n",
       "    </tr>\n",
       "    <tr>\n",
       "      <th>137819</th>\n",
       "      <td>NaN</td>\n",
       "      <td>10000</td>\n",
       "      <td>4.098811</td>\n",
       "      <td>-2.087377</td>\n",
       "      <td>5.555161</td>\n",
       "      <td>NaN</td>\n",
       "    </tr>\n",
       "    <tr>\n",
       "      <th>137820</th>\n",
       "      <td>NaN</td>\n",
       "      <td>10000</td>\n",
       "      <td>3.657094</td>\n",
       "      <td>-2.896172</td>\n",
       "      <td>5.577089</td>\n",
       "      <td>NaN</td>\n",
       "    </tr>\n",
       "    <tr>\n",
       "      <th>137821</th>\n",
       "      <td>NaN</td>\n",
       "      <td>10000</td>\n",
       "      <td>3.203748</td>\n",
       "      <td>-3.266494</td>\n",
       "      <td>5.577399</td>\n",
       "      <td>NaN</td>\n",
       "    </tr>\n",
       "    <tr>\n",
       "      <th>137822</th>\n",
       "      <td>NaN</td>\n",
       "      <td>10000</td>\n",
       "      <td>2.365727</td>\n",
       "      <td>-3.028387</td>\n",
       "      <td>6.705103</td>\n",
       "      <td>NaN</td>\n",
       "    </tr>\n",
       "  </tbody>\n",
       "</table>\n",
       "<p>137823 rows × 6 columns</p>\n",
       "</div>"
      ],
      "text/plain": [
       "        Unnamed: 0  particle         x         y         z  Unnamed: 5\n",
       "0              NaN         1  0.000000  0.000000  0.000000         NaN\n",
       "1              NaN         1  0.000000  0.000000  0.902354         NaN\n",
       "2              NaN         1 -0.120165  0.011496  1.210227         NaN\n",
       "3              NaN         1 -0.186020 -0.163311  1.322422         NaN\n",
       "4              NaN         1 -0.347692 -0.490056  1.448691         NaN\n",
       "...            ...       ...       ...       ...       ...         ...\n",
       "137818         NaN     10000  3.814324 -1.297286  5.183453         NaN\n",
       "137819         NaN     10000  4.098811 -2.087377  5.555161         NaN\n",
       "137820         NaN     10000  3.657094 -2.896172  5.577089         NaN\n",
       "137821         NaN     10000  3.203748 -3.266494  5.577399         NaN\n",
       "137822         NaN     10000  2.365727 -3.028387  6.705103         NaN\n",
       "\n",
       "[137823 rows x 6 columns]"
      ]
     },
     "execution_count": 9,
     "metadata": {},
     "output_type": "execute_result"
    }
   ],
   "source": [
    "xyz"
   ]
  },
  {
   "cell_type": "code",
   "execution_count": 10,
   "id": "broad-equity",
   "metadata": {},
   "outputs": [],
   "source": [
    "#for n in range(0,2):\n",
    "xyz=df[df['particle']==1]"
   ]
  },
  {
   "cell_type": "code",
   "execution_count": 11,
   "id": "occupied-concert",
   "metadata": {},
   "outputs": [
    {
     "data": {
      "text/html": [
       "<div>\n",
       "<style scoped>\n",
       "    .dataframe tbody tr th:only-of-type {\n",
       "        vertical-align: middle;\n",
       "    }\n",
       "\n",
       "    .dataframe tbody tr th {\n",
       "        vertical-align: top;\n",
       "    }\n",
       "\n",
       "    .dataframe thead th {\n",
       "        text-align: right;\n",
       "    }\n",
       "</style>\n",
       "<table border=\"1\" class=\"dataframe\">\n",
       "  <thead>\n",
       "    <tr style=\"text-align: right;\">\n",
       "      <th></th>\n",
       "      <th>Unnamed: 0</th>\n",
       "      <th>particle</th>\n",
       "      <th>x</th>\n",
       "      <th>y</th>\n",
       "      <th>z</th>\n",
       "      <th>Unnamed: 5</th>\n",
       "    </tr>\n",
       "  </thead>\n",
       "  <tbody>\n",
       "    <tr>\n",
       "      <th>0</th>\n",
       "      <td>NaN</td>\n",
       "      <td>1</td>\n",
       "      <td>0.000000</td>\n",
       "      <td>0.000000</td>\n",
       "      <td>0.000000</td>\n",
       "      <td>NaN</td>\n",
       "    </tr>\n",
       "    <tr>\n",
       "      <th>1</th>\n",
       "      <td>NaN</td>\n",
       "      <td>1</td>\n",
       "      <td>0.000000</td>\n",
       "      <td>0.000000</td>\n",
       "      <td>0.902354</td>\n",
       "      <td>NaN</td>\n",
       "    </tr>\n",
       "    <tr>\n",
       "      <th>2</th>\n",
       "      <td>NaN</td>\n",
       "      <td>1</td>\n",
       "      <td>-0.120165</td>\n",
       "      <td>0.011496</td>\n",
       "      <td>1.210227</td>\n",
       "      <td>NaN</td>\n",
       "    </tr>\n",
       "    <tr>\n",
       "      <th>3</th>\n",
       "      <td>NaN</td>\n",
       "      <td>1</td>\n",
       "      <td>-0.186020</td>\n",
       "      <td>-0.163311</td>\n",
       "      <td>1.322422</td>\n",
       "      <td>NaN</td>\n",
       "    </tr>\n",
       "    <tr>\n",
       "      <th>4</th>\n",
       "      <td>NaN</td>\n",
       "      <td>1</td>\n",
       "      <td>-0.347692</td>\n",
       "      <td>-0.490056</td>\n",
       "      <td>1.448691</td>\n",
       "      <td>NaN</td>\n",
       "    </tr>\n",
       "    <tr>\n",
       "      <th>5</th>\n",
       "      <td>NaN</td>\n",
       "      <td>1</td>\n",
       "      <td>-1.118675</td>\n",
       "      <td>-0.847141</td>\n",
       "      <td>1.904861</td>\n",
       "      <td>NaN</td>\n",
       "    </tr>\n",
       "    <tr>\n",
       "      <th>6</th>\n",
       "      <td>NaN</td>\n",
       "      <td>1</td>\n",
       "      <td>-1.358032</td>\n",
       "      <td>-0.795512</td>\n",
       "      <td>2.221136</td>\n",
       "      <td>NaN</td>\n",
       "    </tr>\n",
       "    <tr>\n",
       "      <th>7</th>\n",
       "      <td>NaN</td>\n",
       "      <td>1</td>\n",
       "      <td>-1.912051</td>\n",
       "      <td>-0.070638</td>\n",
       "      <td>2.335048</td>\n",
       "      <td>NaN</td>\n",
       "    </tr>\n",
       "    <tr>\n",
       "      <th>8</th>\n",
       "      <td>NaN</td>\n",
       "      <td>1</td>\n",
       "      <td>-3.034136</td>\n",
       "      <td>0.241689</td>\n",
       "      <td>2.417813</td>\n",
       "      <td>NaN</td>\n",
       "    </tr>\n",
       "    <tr>\n",
       "      <th>9</th>\n",
       "      <td>NaN</td>\n",
       "      <td>1</td>\n",
       "      <td>-3.050217</td>\n",
       "      <td>0.845330</td>\n",
       "      <td>2.629611</td>\n",
       "      <td>NaN</td>\n",
       "    </tr>\n",
       "    <tr>\n",
       "      <th>10</th>\n",
       "      <td>NaN</td>\n",
       "      <td>1</td>\n",
       "      <td>-3.542328</td>\n",
       "      <td>2.462639</td>\n",
       "      <td>3.049811</td>\n",
       "      <td>NaN</td>\n",
       "    </tr>\n",
       "    <tr>\n",
       "      <th>11</th>\n",
       "      <td>NaN</td>\n",
       "      <td>1</td>\n",
       "      <td>-3.680440</td>\n",
       "      <td>5.183022</td>\n",
       "      <td>5.803809</td>\n",
       "      <td>NaN</td>\n",
       "    </tr>\n",
       "    <tr>\n",
       "      <th>12</th>\n",
       "      <td>NaN</td>\n",
       "      <td>1</td>\n",
       "      <td>-3.568198</td>\n",
       "      <td>5.273950</td>\n",
       "      <td>5.876195</td>\n",
       "      <td>NaN</td>\n",
       "    </tr>\n",
       "    <tr>\n",
       "      <th>13</th>\n",
       "      <td>NaN</td>\n",
       "      <td>1</td>\n",
       "      <td>-3.512569</td>\n",
       "      <td>5.402052</td>\n",
       "      <td>6.070910</td>\n",
       "      <td>NaN</td>\n",
       "    </tr>\n",
       "    <tr>\n",
       "      <th>14</th>\n",
       "      <td>NaN</td>\n",
       "      <td>1</td>\n",
       "      <td>3.553460</td>\n",
       "      <td>9.101469</td>\n",
       "      <td>7.228416</td>\n",
       "      <td>NaN</td>\n",
       "    </tr>\n",
       "  </tbody>\n",
       "</table>\n",
       "</div>"
      ],
      "text/plain": [
       "    Unnamed: 0  particle         x         y         z  Unnamed: 5\n",
       "0          NaN         1  0.000000  0.000000  0.000000         NaN\n",
       "1          NaN         1  0.000000  0.000000  0.902354         NaN\n",
       "2          NaN         1 -0.120165  0.011496  1.210227         NaN\n",
       "3          NaN         1 -0.186020 -0.163311  1.322422         NaN\n",
       "4          NaN         1 -0.347692 -0.490056  1.448691         NaN\n",
       "5          NaN         1 -1.118675 -0.847141  1.904861         NaN\n",
       "6          NaN         1 -1.358032 -0.795512  2.221136         NaN\n",
       "7          NaN         1 -1.912051 -0.070638  2.335048         NaN\n",
       "8          NaN         1 -3.034136  0.241689  2.417813         NaN\n",
       "9          NaN         1 -3.050217  0.845330  2.629611         NaN\n",
       "10         NaN         1 -3.542328  2.462639  3.049811         NaN\n",
       "11         NaN         1 -3.680440  5.183022  5.803809         NaN\n",
       "12         NaN         1 -3.568198  5.273950  5.876195         NaN\n",
       "13         NaN         1 -3.512569  5.402052  6.070910         NaN\n",
       "14         NaN         1  3.553460  9.101469  7.228416         NaN"
      ]
     },
     "execution_count": 11,
     "metadata": {},
     "output_type": "execute_result"
    }
   ],
   "source": [
    "xyz"
   ]
  },
  {
   "cell_type": "code",
   "execution_count": 12,
   "id": "atlantic-teaching",
   "metadata": {},
   "outputs": [],
   "source": [
    "df=df.drop(['Unnamed: 0', 'Unnamed: 5'], axis=1)"
   ]
  },
  {
   "cell_type": "code",
   "execution_count": 13,
   "id": "biblical-draft",
   "metadata": {},
   "outputs": [
    {
     "data": {
      "text/html": [
       "<div>\n",
       "<style scoped>\n",
       "    .dataframe tbody tr th:only-of-type {\n",
       "        vertical-align: middle;\n",
       "    }\n",
       "\n",
       "    .dataframe tbody tr th {\n",
       "        vertical-align: top;\n",
       "    }\n",
       "\n",
       "    .dataframe thead th {\n",
       "        text-align: right;\n",
       "    }\n",
       "</style>\n",
       "<table border=\"1\" class=\"dataframe\">\n",
       "  <thead>\n",
       "    <tr style=\"text-align: right;\">\n",
       "      <th></th>\n",
       "      <th>particle</th>\n",
       "      <th>x</th>\n",
       "      <th>y</th>\n",
       "      <th>z</th>\n",
       "    </tr>\n",
       "  </thead>\n",
       "  <tbody>\n",
       "    <tr>\n",
       "      <th>0</th>\n",
       "      <td>1</td>\n",
       "      <td>0.000000</td>\n",
       "      <td>0.000000</td>\n",
       "      <td>0.000000</td>\n",
       "    </tr>\n",
       "    <tr>\n",
       "      <th>1</th>\n",
       "      <td>1</td>\n",
       "      <td>0.000000</td>\n",
       "      <td>0.000000</td>\n",
       "      <td>0.902354</td>\n",
       "    </tr>\n",
       "    <tr>\n",
       "      <th>2</th>\n",
       "      <td>1</td>\n",
       "      <td>-0.120165</td>\n",
       "      <td>0.011496</td>\n",
       "      <td>1.210227</td>\n",
       "    </tr>\n",
       "    <tr>\n",
       "      <th>3</th>\n",
       "      <td>1</td>\n",
       "      <td>-0.186020</td>\n",
       "      <td>-0.163311</td>\n",
       "      <td>1.322422</td>\n",
       "    </tr>\n",
       "    <tr>\n",
       "      <th>4</th>\n",
       "      <td>1</td>\n",
       "      <td>-0.347692</td>\n",
       "      <td>-0.490056</td>\n",
       "      <td>1.448691</td>\n",
       "    </tr>\n",
       "    <tr>\n",
       "      <th>...</th>\n",
       "      <td>...</td>\n",
       "      <td>...</td>\n",
       "      <td>...</td>\n",
       "      <td>...</td>\n",
       "    </tr>\n",
       "    <tr>\n",
       "      <th>137818</th>\n",
       "      <td>10000</td>\n",
       "      <td>3.814324</td>\n",
       "      <td>-1.297286</td>\n",
       "      <td>5.183453</td>\n",
       "    </tr>\n",
       "    <tr>\n",
       "      <th>137819</th>\n",
       "      <td>10000</td>\n",
       "      <td>4.098811</td>\n",
       "      <td>-2.087377</td>\n",
       "      <td>5.555161</td>\n",
       "    </tr>\n",
       "    <tr>\n",
       "      <th>137820</th>\n",
       "      <td>10000</td>\n",
       "      <td>3.657094</td>\n",
       "      <td>-2.896172</td>\n",
       "      <td>5.577089</td>\n",
       "    </tr>\n",
       "    <tr>\n",
       "      <th>137821</th>\n",
       "      <td>10000</td>\n",
       "      <td>3.203748</td>\n",
       "      <td>-3.266494</td>\n",
       "      <td>5.577399</td>\n",
       "    </tr>\n",
       "    <tr>\n",
       "      <th>137822</th>\n",
       "      <td>10000</td>\n",
       "      <td>2.365727</td>\n",
       "      <td>-3.028387</td>\n",
       "      <td>6.705103</td>\n",
       "    </tr>\n",
       "  </tbody>\n",
       "</table>\n",
       "<p>137823 rows × 4 columns</p>\n",
       "</div>"
      ],
      "text/plain": [
       "        particle         x         y         z\n",
       "0              1  0.000000  0.000000  0.000000\n",
       "1              1  0.000000  0.000000  0.902354\n",
       "2              1 -0.120165  0.011496  1.210227\n",
       "3              1 -0.186020 -0.163311  1.322422\n",
       "4              1 -0.347692 -0.490056  1.448691\n",
       "...          ...       ...       ...       ...\n",
       "137818     10000  3.814324 -1.297286  5.183453\n",
       "137819     10000  4.098811 -2.087377  5.555161\n",
       "137820     10000  3.657094 -2.896172  5.577089\n",
       "137821     10000  3.203748 -3.266494  5.577399\n",
       "137822     10000  2.365727 -3.028387  6.705103\n",
       "\n",
       "[137823 rows x 4 columns]"
      ]
     },
     "execution_count": 13,
     "metadata": {},
     "output_type": "execute_result"
    }
   ],
   "source": [
    "df"
   ]
  },
  {
   "cell_type": "code",
   "execution_count": 14,
   "id": "waiting-incidence",
   "metadata": {
    "scrolled": true
   },
   "outputs": [
    {
     "data": {
      "image/png": "[encoded data removed]",
      "text/plain": [
       "<Figure size 720x720 with 1 Axes>"
      ]
     },
     "metadata": {
      "needs_background": "light"
     },
     "output_type": "display_data"
    }
   ],
   "source": [
    "fig = plt.figure(figsize=(10.0, 10.0))\n",
    "ax = fig.add_subplot(111, projection='3d')\n",
    "\n",
    "ax.set_xlabel('z')\n",
    "\n",
    "\n",
    "ax.set_ylabel('y')\n",
    "\n",
    "\n",
    "ax.set_zlabel('x')\n",
    "\n",
    "ax.set_title('3D Test')\n",
    "for n in range(1,20):\n",
    "    xyz=df[df['particle']==n]\n",
    "    ax.plot(xyz[\"z\"], xyz[\"y\"],xyz[\"x\"])\n",
    "#ax.plot(trajs[\"particle_position_x\"][8], trajs[\"particle_position_y\"][8], trajs[\"particle_position_z\"][8])\n",
    "#ax.plot(trajs[\"particle_position_x\"][25], trajs[\"particle_position_y\"][25], trajs[\"particle_position_z\"][25])"
   ]
  },
  {
   "cell_type": "code",
   "execution_count": 15,
   "id": "married-extent",
   "metadata": {},
   "outputs": [],
   "source": [
    "#!pip install plotly"
   ]
  },
  {
   "cell_type": "code",
   "execution_count": 16,
   "id": "strong-discretion",
   "metadata": {},
   "outputs": [],
   "source": [
    "import plotly.express as px"
   ]
  },
  {
   "cell_type": "code",
   "execution_count": 17,
   "id": "broad-hello",
   "metadata": {},
   "outputs": [],
   "source": [
    "#fig = px.scatter_3d(df, x=\"x\", y=\"y\", z=\"z\", color=\"z\", hover_name=\"particle\")\n",
    "#                  symbol=\"score\")#, color_discrete_map = {\"Joly\": \"blue\", \"Bergeron\": \"green\", \"Coderre\":\"red\"})\n",
    "#fig.show()"
   ]
  },
  {
   "cell_type": "code",
   "execution_count": 18,
   "id": "visible-railway",
   "metadata": {},
   "outputs": [],
   "source": [
    "lineDF=df"
   ]
  },
  {
   "cell_type": "code",
   "execution_count": 19,
   "id": "proprietary-walnut",
   "metadata": {},
   "outputs": [
    {
     "data": {
      "text/html": [
       "<div>\n",
       "<style scoped>\n",
       "    .dataframe tbody tr th:only-of-type {\n",
       "        vertical-align: middle;\n",
       "    }\n",
       "\n",
       "    .dataframe tbody tr th {\n",
       "        vertical-align: top;\n",
       "    }\n",
       "\n",
       "    .dataframe thead th {\n",
       "        text-align: right;\n",
       "    }\n",
       "</style>\n",
       "<table border=\"1\" class=\"dataframe\">\n",
       "  <thead>\n",
       "    <tr style=\"text-align: right;\">\n",
       "      <th></th>\n",
       "      <th>particle</th>\n",
       "      <th>x</th>\n",
       "      <th>y</th>\n",
       "      <th>z</th>\n",
       "    </tr>\n",
       "  </thead>\n",
       "  <tbody>\n",
       "    <tr>\n",
       "      <th>0</th>\n",
       "      <td>1</td>\n",
       "      <td>0.000000</td>\n",
       "      <td>0.000000</td>\n",
       "      <td>0.000000</td>\n",
       "    </tr>\n",
       "    <tr>\n",
       "      <th>1</th>\n",
       "      <td>1</td>\n",
       "      <td>0.000000</td>\n",
       "      <td>0.000000</td>\n",
       "      <td>0.902354</td>\n",
       "    </tr>\n",
       "    <tr>\n",
       "      <th>2</th>\n",
       "      <td>1</td>\n",
       "      <td>-0.120165</td>\n",
       "      <td>0.011496</td>\n",
       "      <td>1.210227</td>\n",
       "    </tr>\n",
       "    <tr>\n",
       "      <th>3</th>\n",
       "      <td>1</td>\n",
       "      <td>-0.186020</td>\n",
       "      <td>-0.163311</td>\n",
       "      <td>1.322422</td>\n",
       "    </tr>\n",
       "    <tr>\n",
       "      <th>4</th>\n",
       "      <td>1</td>\n",
       "      <td>-0.347692</td>\n",
       "      <td>-0.490056</td>\n",
       "      <td>1.448691</td>\n",
       "    </tr>\n",
       "    <tr>\n",
       "      <th>...</th>\n",
       "      <td>...</td>\n",
       "      <td>...</td>\n",
       "      <td>...</td>\n",
       "      <td>...</td>\n",
       "    </tr>\n",
       "    <tr>\n",
       "      <th>137818</th>\n",
       "      <td>10000</td>\n",
       "      <td>3.814324</td>\n",
       "      <td>-1.297286</td>\n",
       "      <td>5.183453</td>\n",
       "    </tr>\n",
       "    <tr>\n",
       "      <th>137819</th>\n",
       "      <td>10000</td>\n",
       "      <td>4.098811</td>\n",
       "      <td>-2.087377</td>\n",
       "      <td>5.555161</td>\n",
       "    </tr>\n",
       "    <tr>\n",
       "      <th>137820</th>\n",
       "      <td>10000</td>\n",
       "      <td>3.657094</td>\n",
       "      <td>-2.896172</td>\n",
       "      <td>5.577089</td>\n",
       "    </tr>\n",
       "    <tr>\n",
       "      <th>137821</th>\n",
       "      <td>10000</td>\n",
       "      <td>3.203748</td>\n",
       "      <td>-3.266494</td>\n",
       "      <td>5.577399</td>\n",
       "    </tr>\n",
       "    <tr>\n",
       "      <th>137822</th>\n",
       "      <td>10000</td>\n",
       "      <td>2.365727</td>\n",
       "      <td>-3.028387</td>\n",
       "      <td>6.705103</td>\n",
       "    </tr>\n",
       "  </tbody>\n",
       "</table>\n",
       "<p>137823 rows × 4 columns</p>\n",
       "</div>"
      ],
      "text/plain": [
       "        particle         x         y         z\n",
       "0              1  0.000000  0.000000  0.000000\n",
       "1              1  0.000000  0.000000  0.902354\n",
       "2              1 -0.120165  0.011496  1.210227\n",
       "3              1 -0.186020 -0.163311  1.322422\n",
       "4              1 -0.347692 -0.490056  1.448691\n",
       "...          ...       ...       ...       ...\n",
       "137818     10000  3.814324 -1.297286  5.183453\n",
       "137819     10000  4.098811 -2.087377  5.555161\n",
       "137820     10000  3.657094 -2.896172  5.577089\n",
       "137821     10000  3.203748 -3.266494  5.577399\n",
       "137822     10000  2.365727 -3.028387  6.705103\n",
       "\n",
       "[137823 rows x 4 columns]"
      ]
     },
     "execution_count": 19,
     "metadata": {},
     "output_type": "execute_result"
    }
   ],
   "source": [
    "lineDF"
   ]
  },
  {
   "cell_type": "code",
   "execution_count": 26,
   "id": "partial-stereo",
   "metadata": {},
   "outputs": [],
   "source": [
    "lineDF=df.head(n=400)"
   ]
  },
  {
   "cell_type": "code",
   "execution_count": 27,
   "id": "vertical-bernard",
   "metadata": {},
   "outputs": [
    {
     "data": {
      "text/html": [
       "<div>\n",
       "<style scoped>\n",
       "    .dataframe tbody tr th:only-of-type {\n",
       "        vertical-align: middle;\n",
       "    }\n",
       "\n",
       "    .dataframe tbody tr th {\n",
       "        vertical-align: top;\n",
       "    }\n",
       "\n",
       "    .dataframe thead th {\n",
       "        text-align: right;\n",
       "    }\n",
       "</style>\n",
       "<table border=\"1\" class=\"dataframe\">\n",
       "  <thead>\n",
       "    <tr style=\"text-align: right;\">\n",
       "      <th></th>\n",
       "      <th>particle</th>\n",
       "      <th>x</th>\n",
       "      <th>y</th>\n",
       "      <th>z</th>\n",
       "    </tr>\n",
       "  </thead>\n",
       "  <tbody>\n",
       "    <tr>\n",
       "      <th>0</th>\n",
       "      <td>1</td>\n",
       "      <td>0.000000</td>\n",
       "      <td>0.000000</td>\n",
       "      <td>0.000000</td>\n",
       "    </tr>\n",
       "    <tr>\n",
       "      <th>1</th>\n",
       "      <td>1</td>\n",
       "      <td>0.000000</td>\n",
       "      <td>0.000000</td>\n",
       "      <td>0.902354</td>\n",
       "    </tr>\n",
       "    <tr>\n",
       "      <th>2</th>\n",
       "      <td>1</td>\n",
       "      <td>-0.120165</td>\n",
       "      <td>0.011496</td>\n",
       "      <td>1.210227</td>\n",
       "    </tr>\n",
       "    <tr>\n",
       "      <th>3</th>\n",
       "      <td>1</td>\n",
       "      <td>-0.186020</td>\n",
       "      <td>-0.163311</td>\n",
       "      <td>1.322422</td>\n",
       "    </tr>\n",
       "    <tr>\n",
       "      <th>4</th>\n",
       "      <td>1</td>\n",
       "      <td>-0.347692</td>\n",
       "      <td>-0.490056</td>\n",
       "      <td>1.448691</td>\n",
       "    </tr>\n",
       "    <tr>\n",
       "      <th>...</th>\n",
       "      <td>...</td>\n",
       "      <td>...</td>\n",
       "      <td>...</td>\n",
       "      <td>...</td>\n",
       "    </tr>\n",
       "    <tr>\n",
       "      <th>395</th>\n",
       "      <td>28</td>\n",
       "      <td>0.544217</td>\n",
       "      <td>0.336099</td>\n",
       "      <td>1.878979</td>\n",
       "    </tr>\n",
       "    <tr>\n",
       "      <th>396</th>\n",
       "      <td>28</td>\n",
       "      <td>0.729439</td>\n",
       "      <td>0.708362</td>\n",
       "      <td>2.130579</td>\n",
       "    </tr>\n",
       "    <tr>\n",
       "      <th>397</th>\n",
       "      <td>28</td>\n",
       "      <td>3.796674</td>\n",
       "      <td>2.213775</td>\n",
       "      <td>3.461190</td>\n",
       "    </tr>\n",
       "    <tr>\n",
       "      <th>398</th>\n",
       "      <td>28</td>\n",
       "      <td>3.824350</td>\n",
       "      <td>2.381042</td>\n",
       "      <td>3.523266</td>\n",
       "    </tr>\n",
       "    <tr>\n",
       "      <th>399</th>\n",
       "      <td>28</td>\n",
       "      <td>4.381111</td>\n",
       "      <td>2.469343</td>\n",
       "      <td>3.687065</td>\n",
       "    </tr>\n",
       "  </tbody>\n",
       "</table>\n",
       "<p>400 rows × 4 columns</p>\n",
       "</div>"
      ],
      "text/plain": [
       "     particle         x         y         z\n",
       "0           1  0.000000  0.000000  0.000000\n",
       "1           1  0.000000  0.000000  0.902354\n",
       "2           1 -0.120165  0.011496  1.210227\n",
       "3           1 -0.186020 -0.163311  1.322422\n",
       "4           1 -0.347692 -0.490056  1.448691\n",
       "..        ...       ...       ...       ...\n",
       "395        28  0.544217  0.336099  1.878979\n",
       "396        28  0.729439  0.708362  2.130579\n",
       "397        28  3.796674  2.213775  3.461190\n",
       "398        28  3.824350  2.381042  3.523266\n",
       "399        28  4.381111  2.469343  3.687065\n",
       "\n",
       "[400 rows x 4 columns]"
      ]
     },
     "execution_count": 27,
     "metadata": {},
     "output_type": "execute_result"
    }
   ],
   "source": [
    "lineDF"
   ]
  },
  {
   "cell_type": "code",
   "execution_count": 53,
   "id": "documented-portrait",
   "metadata": {},
   "outputs": [],
   "source": [
    "pd.options.mode.chained_assignment = None "
   ]
  },
  {
   "cell_type": "code",
   "execution_count": 58,
   "id": "trained-suspect",
   "metadata": {
    "scrolled": true
   },
   "outputs": [],
   "source": [
    "lineDF['group']='6'"
   ]
  },
  {
   "cell_type": "code",
   "execution_count": 59,
   "id": "determined-appraisal",
   "metadata": {},
   "outputs": [
    {
     "data": {
      "text/html": [
       "<div>\n",
       "<style scoped>\n",
       "    .dataframe tbody tr th:only-of-type {\n",
       "        vertical-align: middle;\n",
       "    }\n",
       "\n",
       "    .dataframe tbody tr th {\n",
       "        vertical-align: top;\n",
       "    }\n",
       "\n",
       "    .dataframe thead th {\n",
       "        text-align: right;\n",
       "    }\n",
       "</style>\n",
       "<table border=\"1\" class=\"dataframe\">\n",
       "  <thead>\n",
       "    <tr style=\"text-align: right;\">\n",
       "      <th></th>\n",
       "      <th>particle</th>\n",
       "      <th>x</th>\n",
       "      <th>y</th>\n",
       "      <th>z</th>\n",
       "      <th>group</th>\n",
       "    </tr>\n",
       "  </thead>\n",
       "  <tbody>\n",
       "    <tr>\n",
       "      <th>0</th>\n",
       "      <td>1</td>\n",
       "      <td>0.000000</td>\n",
       "      <td>0.000000</td>\n",
       "      <td>0.000000</td>\n",
       "      <td>6</td>\n",
       "    </tr>\n",
       "    <tr>\n",
       "      <th>1</th>\n",
       "      <td>1</td>\n",
       "      <td>0.000000</td>\n",
       "      <td>0.000000</td>\n",
       "      <td>0.902354</td>\n",
       "      <td>6</td>\n",
       "    </tr>\n",
       "    <tr>\n",
       "      <th>2</th>\n",
       "      <td>1</td>\n",
       "      <td>-0.120165</td>\n",
       "      <td>0.011496</td>\n",
       "      <td>1.210227</td>\n",
       "      <td>6</td>\n",
       "    </tr>\n",
       "    <tr>\n",
       "      <th>3</th>\n",
       "      <td>1</td>\n",
       "      <td>-0.186020</td>\n",
       "      <td>-0.163311</td>\n",
       "      <td>1.322422</td>\n",
       "      <td>6</td>\n",
       "    </tr>\n",
       "    <tr>\n",
       "      <th>4</th>\n",
       "      <td>1</td>\n",
       "      <td>-0.347692</td>\n",
       "      <td>-0.490056</td>\n",
       "      <td>1.448691</td>\n",
       "      <td>6</td>\n",
       "    </tr>\n",
       "    <tr>\n",
       "      <th>...</th>\n",
       "      <td>...</td>\n",
       "      <td>...</td>\n",
       "      <td>...</td>\n",
       "      <td>...</td>\n",
       "      <td>...</td>\n",
       "    </tr>\n",
       "    <tr>\n",
       "      <th>395</th>\n",
       "      <td>28</td>\n",
       "      <td>0.544217</td>\n",
       "      <td>0.336099</td>\n",
       "      <td>1.878979</td>\n",
       "      <td>6</td>\n",
       "    </tr>\n",
       "    <tr>\n",
       "      <th>396</th>\n",
       "      <td>28</td>\n",
       "      <td>0.729439</td>\n",
       "      <td>0.708362</td>\n",
       "      <td>2.130579</td>\n",
       "      <td>6</td>\n",
       "    </tr>\n",
       "    <tr>\n",
       "      <th>397</th>\n",
       "      <td>28</td>\n",
       "      <td>3.796674</td>\n",
       "      <td>2.213775</td>\n",
       "      <td>3.461190</td>\n",
       "      <td>6</td>\n",
       "    </tr>\n",
       "    <tr>\n",
       "      <th>398</th>\n",
       "      <td>28</td>\n",
       "      <td>3.824350</td>\n",
       "      <td>2.381042</td>\n",
       "      <td>3.523266</td>\n",
       "      <td>6</td>\n",
       "    </tr>\n",
       "    <tr>\n",
       "      <th>399</th>\n",
       "      <td>28</td>\n",
       "      <td>4.381111</td>\n",
       "      <td>2.469343</td>\n",
       "      <td>3.687065</td>\n",
       "      <td>6</td>\n",
       "    </tr>\n",
       "  </tbody>\n",
       "</table>\n",
       "<p>400 rows × 5 columns</p>\n",
       "</div>"
      ],
      "text/plain": [
       "     particle         x         y         z group\n",
       "0           1  0.000000  0.000000  0.000000     6\n",
       "1           1  0.000000  0.000000  0.902354     6\n",
       "2           1 -0.120165  0.011496  1.210227     6\n",
       "3           1 -0.186020 -0.163311  1.322422     6\n",
       "4           1 -0.347692 -0.490056  1.448691     6\n",
       "..        ...       ...       ...       ...   ...\n",
       "395        28  0.544217  0.336099  1.878979     6\n",
       "396        28  0.729439  0.708362  2.130579     6\n",
       "397        28  3.796674  2.213775  3.461190     6\n",
       "398        28  3.824350  2.381042  3.523266     6\n",
       "399        28  4.381111  2.469343  3.687065     6\n",
       "\n",
       "[400 rows x 5 columns]"
      ]
     },
     "execution_count": 59,
     "metadata": {},
     "output_type": "execute_result"
    }
   ],
   "source": [
    "lineDF"
   ]
  },
  {
   "cell_type": "code",
   "execution_count": null,
   "id": "given-refund",
   "metadata": {},
   "outputs": [],
   "source": []
  },
  {
   "cell_type": "code",
   "execution_count": null,
   "id": "adolescent-butter",
   "metadata": {},
   "outputs": [],
   "source": []
  },
  {
   "cell_type": "code",
   "execution_count": null,
   "id": "textile-sucking",
   "metadata": {},
   "outputs": [],
   "source": []
  },
  {
   "cell_type": "code",
   "execution_count": 68,
   "id": "funny-musician",
   "metadata": {},
   "outputs": [
    {
     "data": {
      "application/vnd.plotly.v1+json": {
       "config": {
        "plotlyServerURL": "https://plot.ly"
       },
       "data": [
        {
         "hovertemplate": "<b>%{hovertext}</b><br><br>x=%{x}<br>y=%{y}<br>z=%{z}<extra></extra>",
         "hovertext": [
          1,
          1,
          1,
          1,
          1,
          1,
          1,
          1,
          1,
          1,
          1,
          1,
          1,
          1,
          1,
          2,
          2,
          2,
          2,
          2,
          2,
          2,
          2,
          2,
          2,
          2,
          2,
          3,
          3,
          3,
          3,
          3,
          3,
          3,
          3,
          3,
          3,
          3,
          3,
          4,
          4,
          4,
          4,
          4,
          4,
          4,
          4,
          4,
          4,
          4,
          4,
          4,
          4,
          4,
          5,
          5,
          5,
          5,
          5,
          5,
          5,
          5,
          5,
          5,
          5,
          5,
          5,
          6,
          6,
          6,
          6,
          6,
          6,
          6,
          6,
          6,
          6,
          6,
          7,
          7,
          7,
          7,
          7,
          7,
          7,
          7,
          7,
          7,
          7,
          7,
          7,
          7,
          7,
          7,
          8,
          8,
          8,
          8,
          8,
          8,
          8,
          8,
          8,
          8,
          8,
          9,
          9,
          9,
          9,
          9,
          9,
          9,
          9,
          9,
          9,
          9,
          9,
          9,
          9,
          9,
          9,
          10,
          10,
          10,
          10,
          10,
          10,
          10,
          10,
          10,
          10,
          10,
          10,
          10,
          10,
          10,
          10,
          10,
          10,
          10,
          10,
          10,
          10,
          11,
          11,
          11,
          11,
          11,
          11,
          11,
          11,
          11,
          11,
          11,
          11,
          11,
          11,
          12,
          12,
          12,
          12,
          12,
          12,
          12,
          12,
          12,
          12,
          12,
          12,
          12,
          12,
          12,
          13,
          13,
          13,
          13,
          13,
          13,
          13,
          13,
          13,
          13,
          13,
          13,
          13,
          13,
          13,
          14,
          14,
          14,
          14,
          14,
          14,
          14,
          14,
          14,
          14,
          14,
          14,
          15,
          15,
          15,
          15,
          15,
          15,
          15,
          15,
          15,
          15,
          15,
          15,
          15,
          15,
          15,
          15,
          15,
          15,
          15,
          15,
          16,
          16,
          16,
          16,
          16,
          16,
          16,
          16,
          16,
          17,
          17,
          17,
          17,
          17,
          17,
          17,
          17,
          17,
          18,
          18,
          18,
          18,
          18,
          18,
          18,
          18,
          18,
          18,
          18,
          18,
          18,
          18,
          18,
          18,
          18,
          18,
          18,
          18,
          19,
          19,
          19,
          19,
          19,
          19,
          19,
          19,
          19,
          19,
          19,
          19,
          19,
          19,
          19,
          19,
          19,
          20,
          20,
          20,
          20,
          20,
          20,
          20,
          20,
          20,
          20,
          20,
          20,
          20,
          20,
          21,
          21,
          21,
          21,
          21,
          21,
          21,
          21,
          21,
          21,
          21,
          21,
          21,
          21,
          22,
          22,
          22,
          22,
          22,
          22,
          22,
          22,
          22,
          22,
          22,
          22,
          22,
          22,
          22,
          23,
          23,
          23,
          23,
          23,
          23,
          23,
          23,
          23,
          23,
          23,
          23,
          24,
          24,
          24,
          24,
          24,
          24,
          24,
          24,
          25,
          25,
          25,
          25,
          25,
          25,
          25,
          25,
          26,
          26,
          26,
          26,
          26,
          26,
          26,
          26,
          26,
          26,
          26,
          26,
          26,
          26,
          26,
          26,
          26,
          26,
          26,
          27,
          27,
          27,
          27,
          27,
          27,
          27,
          27,
          27,
          27,
          27,
          27,
          27,
          27,
          27,
          27,
          27,
          27,
          27,
          27,
          27,
          27,
          27,
          27,
          27,
          28,
          28,
          28,
          28,
          28,
          28,
          28,
          28,
          28,
          28,
          28
         ],
         "legendgroup": "",
         "line": {
          "color": "#636efa",
          "dash": "solid"
         },
         "mode": "lines",
         "name": "",
         "scene": "scene",
         "showlegend": false,
         "type": "scatter3d",
         "x": [
          0,
          0,
          -0.12016467406302413,
          -0.186019578152938,
          -0.34769175556103066,
          -1.1186753956045128,
          -1.358032122656638,
          -1.9120514933151056,
          -3.034136400750428,
          -3.0502171814509134,
          -3.542327982914184,
          -3.680439708747429,
          -3.5681975877082497,
          -3.5125693432931286,
          3.553459562457756,
          0,
          0,
          -0.3656768236202069,
          0.6198896898694943,
          1.0053214599402815,
          1.0552326117697737,
          1.4136289157380224,
          2.143763683486817,
          2.580801231159802,
          3.0007012492849774,
          4.120964600300464,
          4.572993260281674,
          0,
          0,
          0.25106081830405835,
          0.9075696107943948,
          0.9838182384258785,
          1.0958508913460372,
          1.1560896822896096,
          1.5381142889985118,
          0.46323247199586,
          1.3712546291361312,
          1.390207392403643,
          1.4471206522963938,
          0,
          0,
          0.05034756368659792,
          1.9605207837562224,
          1.9851582369545673,
          2.0559115165195294,
          2.289350693373147,
          2.289139344747428,
          1.5249095279982463,
          0.6750213984258129,
          0.1628289848933328,
          -0.13596504188215194,
          -1.7628982462668863,
          -2.999473537082832,
          -2.9857584490047246,
          0,
          0,
          -0.27571696298744386,
          -0.39661969160244853,
          0.4573254013964052,
          0.6636867801504907,
          1.1496449911057145,
          1.2477038635164546,
          2.087834825152004,
          2.1933829332689125,
          2.3988071942964884,
          2.5502232802184683,
          2.5072300195659207,
          0,
          0,
          -0.027386003339725174,
          -0.2422416953596083,
          -0.4094507643743335,
          -0.17548747072756832,
          1.0884476073441165,
          1.49300071558097,
          1.5846576099476393,
          1.784817740813106,
          3.508362910506636,
          0,
          0,
          -1.9358351332379768,
          -2.565417112484212,
          -2.570135465191152,
          -2.304735080380554,
          0.4929607228590863,
          0.7694708045714302,
          1.4552873011014773,
          1.7979459868132854,
          1.8121957734012453,
          2.2117966544547683,
          2.9927124337021955,
          3.138627812274653,
          3.948450195326272,
          4.134967601247856,
          0,
          0,
          1.1176125628754916,
          1.1680722114128894,
          1.4789697850128505,
          1.2946200087665676,
          1.3439500024998017,
          2.5085193861286728,
          2.0752270599713585,
          2.0418725006113947,
          0.907878018278294,
          0,
          0,
          -0.503860418771476,
          -0.9087947510007576,
          -1.0110384020699057,
          -1.0487688575450702,
          -0.7034774527018473,
          -0.4813137935236709,
          -0.671240124784698,
          -0.019043740576763654,
          -0.9054807446294744,
          -1.6339097853833275,
          -2.536916867129046,
          -2.6773791689079323,
          -2.398592769235066,
          -2.3829283443655687,
          0,
          0,
          -0.22190149492413647,
          0.0384735024800098,
          0.2403193529598731,
          2.646453208765182,
          3.651836441082241,
          4.596797749229465,
          5.789298020754706,
          9.469776498130269,
          9.447025531802048,
          8.741195976842315,
          8.72953743995006,
          8.895194618972418,
          9.113468605712162,
          9.287749174961922,
          9.304133357762842,
          9.705628911663746,
          9.779466032857203,
          9.785027458867935,
          9.900804825577058,
          10.00251881832803,
          0,
          0,
          -1.385532437113679,
          -0.9688920137628872,
          -0.8951798876460504,
          0.11028629731228773,
          0.8760593410906563,
          2.2824869325846984,
          2.3103548572306427,
          2.311589684184871,
          2.007218556928504,
          2.1717529285908928,
          3.198499425348996,
          4.447402487164691,
          0,
          0,
          -1.8254445913086303,
          -2.0076657054605853,
          -2.257020138626303,
          -3.027177529799996,
          -3.4860740985469665,
          -3.368155094800517,
          -3.1648547390033848,
          -2.172199078291114,
          -2.162341503693916,
          -2.19131065575738,
          -3.669312231185157,
          -3.626814357271512,
          -3.3198434968950865,
          0,
          0,
          -0.4547915318626566,
          -0.3755005381424824,
          0.4031623861949468,
          0.6953123664345744,
          1.1642863283352418,
          1.1750150746525878,
          1.5654224105121954,
          1.9302758927552317,
          2.3317856578075062,
          3.4093891876640976,
          0.27103943509562634,
          -0.0835879045258856,
          0.7831983875855163,
          0,
          0,
          0.5734470123913925,
          0.7923944405336182,
          0.8472662787785189,
          0.9688655381551492,
          1.2402485869562805,
          1.5534421362747732,
          2.4541169047405726,
          2.3291982001953144,
          3.6887623853603215,
          3.680182527157677,
          0,
          0,
          0.3608104459706652,
          0.9921951741680431,
          1.047804180356691,
          0.9483387792535596,
          0.899958109064329,
          0.7954792687247139,
          0.7559739014308429,
          2.0378600544950327,
          2.993811308980343,
          4.030511914464559,
          6.93231366532628,
          8.054545996301778,
          8.324817805467992,
          9.349099805555568,
          11.550064644619374,
          11.761692298151024,
          12.475480316664724,
          12.264147474627874,
          0,
          0,
          0.4733212419264802,
          0.5780108532767432,
          1.4025554303496508,
          1.3451533003771612,
          0.9964153790145516,
          2.0683317028120887,
          1.7529584325559766,
          0,
          0,
          0.8213035843400318,
          0.3643417310819109,
          0.3294061632131913,
          -0.9384007241783276,
          1.263642679106297,
          -0.09893524292337971,
          -1.3134512034117665,
          0,
          0,
          0.12739966862150795,
          0.6110985099974318,
          0.7987512096064587,
          1.263406253906432,
          2.1808275113029763,
          2.7292096526871608,
          2.667718932270516,
          3.5742369089414634,
          3.9115200481884833,
          3.909230420560569,
          3.625203205246639,
          2.9199540375154003,
          2.259404015447209,
          2.211073761741836,
          1.670738263697665,
          1.558672608005965,
          1.5428469644216487,
          1.095756423196233,
          0,
          0,
          -0.1708043265432082,
          -0.17724541413335573,
          -0.729684254729195,
          -1.1234987512533876,
          -2.368963932742294,
          -2.585831138187785,
          -3.981091467700856,
          -4.006027592599343,
          -3.5971580062329345,
          -3.4220292892030573,
          -4.05577364430126,
          -4.2809530352769976,
          -4.197518373572871,
          -4.953510307103029,
          -4.55432103020408,
          0,
          0,
          0.9035795187821452,
          0.9260742748777424,
          0.9869662006859397,
          1.1151239703611804,
          3.4926558865609683,
          3.6513849957458544,
          3.430328691822559,
          2.92423420106728,
          2.917395880755939,
          2.9721452500391865,
          2.9630762003982936,
          3.7244615989671246,
          0,
          0,
          1.7035871725396583,
          1.8083701840724504,
          2.2602588068095613,
          2.36289457719032,
          2.413514926630538,
          2.5385196415424023,
          3.5273310415781256,
          3.675800733064584,
          3.6933413459397806,
          3.692291462455709,
          4.444389613179368,
          4.190026258645232,
          0,
          0,
          -0.7170505023034381,
          -0.6903605240449613,
          -1.8991121001335771,
          -1.9743894859833284,
          -2.9974212569609486,
          -3.2298312877226723,
          -3.197440594139528,
          -3.8499281523993374,
          -3.950722007607171,
          -4.370927634524128,
          -3.6558604717380168,
          -3.6420285932975993,
          -3.592105255200404,
          0,
          0,
          0.7887204391214514,
          0.8744734935342446,
          0.1641055647300702,
          0.18705225602689354,
          0.5288746376779516,
          0.883200720295597,
          1.3866719839306982,
          2.03762967590511,
          2.04414921966053,
          2.10717568989796,
          0,
          0,
          -0.21271341397468888,
          -0.5928756050341055,
          -0.9438979019755612,
          -1.0289167893615387,
          -1.3944362959722427,
          -1.2569515641464108,
          0,
          0,
          0.925730828773458,
          0.9217481059334014,
          0.8962000083428538,
          0.0694064371440588,
          0.05972067337375726,
          0.11743175231207745,
          0,
          0,
          -0.00947751121762373,
          -1.3453735936023623,
          -1.364633747256942,
          -1.308933632560541,
          -1.3076091960195606,
          0.7113453886607386,
          1.024613898790622,
          0.7595574806331425,
          0.8739637453184147,
          2.673118720261604,
          2.5669879721530324,
          1.9891553462648872,
          2.1411799116196555,
          2.051469215235143,
          2.0383041868191203,
          1.9924951285462684,
          1.4813724026187391,
          0,
          0,
          -0.04135978805754385,
          -0.8459082528324638,
          -0.8705550822167064,
          -1.0052247077043466,
          -1.238792794374212,
          -1.9715533154376257,
          -2.3081663476344643,
          -2.8017568767164422,
          -2.7636530704119315,
          -2.6379696072544,
          -2.506144819814199,
          -1.979985822379886,
          -1.2268321577235357,
          -1.1530464372221894,
          -1.039435519962432,
          -0.6270314504404106,
          0.3456784947542525,
          1.5622457226345494,
          1.766251574265432,
          1.7889097515376344,
          1.7186618644812333,
          2.1070626611940466,
          1.606362520621202,
          0,
          0,
          -0.1908989192002576,
          -0.2785052576405492,
          -0.2426531564447364,
          0.19616053900863856,
          0.5442165881509937,
          0.7294388564347034,
          3.796674446562693,
          3.824349728013068,
          4.381111264000434
         ],
         "y": [
          0,
          0,
          0.011495905282586007,
          -0.16331128319918964,
          -0.4900556125538286,
          -0.8471411003223246,
          -0.7955122014028477,
          -0.07063827133085158,
          0.24168901282607055,
          0.8453300533588542,
          2.4626393055504345,
          5.183022328884782,
          5.273949810155369,
          5.402051508685895,
          9.101468899944836,
          0,
          0,
          -0.7717957679628221,
          -2.3062222864081763,
          -2.721321963478999,
          -2.722241322855921,
          -2.8035509052144216,
          -2.2976426895148667,
          -2.387489048648991,
          -2.0917512617608947,
          -1.944945510094668,
          -0.625635209776124,
          0,
          0,
          0.4515184646653459,
          0.5430979015420727,
          0.8170184948466246,
          0.8138320409737461,
          0.8478330697141317,
          1.741318526999774,
          2.6867940921653,
          3.4831827943948106,
          3.531927215542411,
          3.9130638294918234,
          0,
          0,
          0.009003262840474424,
          0.5766794162960789,
          0.7780616339830694,
          1.0071522582584356,
          1.358577534037508,
          1.3597441864877964,
          1.7444683870139182,
          1.272336246084829,
          0.22543806347045625,
          0.2211239604362908,
          -0.04463126861806922,
          1.1316460734947251,
          1.1527730387991038,
          0,
          0,
          2.5003276477555216,
          2.4308178876068705,
          1.5924554515446547,
          1.6715667896288533,
          1.885531673035782,
          1.7934614071351345,
          1.420077518559092,
          1.1974843879862809,
          0.986354460934585,
          0.09862346901590896,
          0.08405251548062516,
          0,
          0,
          -0.4657923897242534,
          -0.5341029494324049,
          -1.2574241444960694,
          -1.27040398813767,
          -1.308108404177316,
          -1.3143232554183135,
          -1.2805962996240394,
          -1.2713186239932093,
          -0.5668009294505102,
          0,
          0,
          -1.4356262055881208,
          -2.7745394371438405,
          -3.0626065407909837,
          -3.49158990170215,
          -5.756090626205294,
          -9.271420968967009,
          -9.9343561493292,
          -11.48453560578008,
          -11.911801900617965,
          -11.819015580045388,
          -11.66326731895027,
          -11.775792167984912,
          -12.029076746324732,
          -12.043521986683151,
          0,
          0,
          -0.16468554022956353,
          0.33269799845638875,
          0.460307518000333,
          -0.03828919200245149,
          -0.06604189555908392,
          -1.4422781523416892,
          -1.6761891167536545,
          -1.6812477700453805,
          -1.2657619773144593,
          0,
          0,
          0.16030062125055278,
          0.13781200962266035,
          0.1869092959471464,
          0.33635101852545995,
          0.8177789242963925,
          2.7762408818225137,
          3.07572488823736,
          4.046549315569754,
          6.946499472466296,
          7.446361987312273,
          7.541661824393131,
          7.716381787255243,
          8.248114329700286,
          8.793609713133117,
          0,
          0,
          0.3962026932107519,
          0.34245303430200813,
          0.1497026534598163,
          0.03014276182445392,
          -0.29812958502797854,
          -0.17167587017855312,
          -0.3073444749639028,
          -3.061721055931652,
          -3.8558683546248975,
          -6.336483895110627,
          -6.391022203595639,
          -6.576762314944047,
          -6.547617562450881,
          -6.188798778324966,
          -6.1819810922113065,
          -6.1489378437655535,
          -6.162053881778584,
          -6.292304300853824,
          -6.340468686566733,
          -6.294829763565001,
          0,
          0,
          0.365821760552928,
          0.9255065048265028,
          1.0524094544318048,
          1.4134839968792907,
          1.695116453466044,
          2.013060986648,
          2.063945860725812,
          2.065834667984141,
          2.415810014209566,
          2.430689605902604,
          3.9398875615230575,
          4.49282231163235,
          0,
          0,
          -0.15483806425730198,
          -0.6921628398811182,
          -0.913046310696611,
          -2.0448921700166003,
          -3.1196122589059407,
          -3.2785565072563867,
          -3.7501872349995327,
          -5.91072250027724,
          -5.932892866513088,
          -5.954851548217582,
          -10.556472421806946,
          -10.635399849154293,
          -11.185771964613645,
          0,
          0,
          -0.989582551066394,
          -1.0881274389195776,
          -1.7463881437519906,
          -1.6196177123216364,
          -1.5944153685577684,
          -1.565140909161608,
          -1.2269549244521871,
          -1.1951558914833813,
          -0.4046017513607557,
          0.5510764292367405,
          2.067524170863424,
          2.4155212073514685,
          2.463876245276119,
          0,
          0,
          0.24941602322438636,
          0.5427073035400194,
          0.7077187785338193,
          0.454412290213309,
          0.4098527671861287,
          0.24906293463157686,
          -2.4263614510418448,
          -3.947102378157236,
          -5.466932371061398,
          -5.883516557815771,
          0,
          0,
          1.3158133427658687,
          1.9676619320444864,
          2.35040305035245,
          2.3900614250812584,
          2.430527971385577,
          3.086947703166259,
          3.9542173252371287,
          5.088909276535359,
          5.449522061028532,
          4.7535412109734505,
          4.449732567070537,
          5.636451442145472,
          5.722330273995228,
          6.001259465275736,
          4.9858692281536685,
          5.233262544170904,
          5.0101403314298185,
          4.1401231158789455,
          0,
          0,
          -0.10373266768516014,
          -0.12491321883282737,
          -2.308514104044224,
          -3.1048738972133014,
          -3.3358925975373173,
          -5.1400206842792615,
          -5.546603019008955,
          0,
          0,
          1.8835193491138555,
          3.3214050467103124,
          3.3312571664996886,
          3.2853641690649167,
          2.920058774062239,
          2.8432682343210307,
          2.5366713056696657,
          0,
          0,
          -0.22443211422426096,
          -1.3983090197831252,
          -2.0586823055897887,
          -2.410274094559668,
          -2.234495011452435,
          -0.835291433588965,
          0.3968347945716641,
          0.7319416466787699,
          2.1418404291665234,
          2.553035080563072,
          2.7640313347605074,
          3.1120742526881906,
          2.9784984351150947,
          2.9763914056244647,
          2.9762708615865607,
          2.869926838705455,
          2.812401734215284,
          1.9434312864410692,
          0,
          0,
          0.2298799942427171,
          0.2353594596046664,
          0.6847803505661304,
          0.5237956218696038,
          -0.19630155026166116,
          -0.3435435812416143,
          -1.029530403684572,
          -0.9889889527270108,
          -0.6193871199549688,
          -0.471141457228385,
          1.0679317574115643,
          1.1651285935032594,
          0.5203928747271466,
          0.3751359057875063,
          0.5164280354443586,
          0,
          0,
          0.580676349779852,
          0.5404387399329814,
          0.5136378146002991,
          0.42963836895182655,
          -1.0146825987345591,
          -1.1896195078169844,
          -2.411210349509558,
          -2.343935515045375,
          -2.3336577262278326,
          -1.969463114137262,
          -1.9535467264105952,
          -1.0171976165808885,
          0,
          0,
          -0.65785136171625,
          -0.5434186991608284,
          -1.3018431868425415,
          -1.3022852031023806,
          -1.3685497104579505,
          -2.878811241375079,
          -5.165586156415433,
          -5.243442342150249,
          -5.3804481906667085,
          -5.394197036264416,
          -6.986330674648399,
          -7.095711371517697,
          0,
          0,
          -1.8310742369437945,
          -2.0877955272110973,
          -1.867818003752307,
          -1.3244743770785288,
          -0.901530511415544,
          -1.0947317455400372,
          -1.2212858789339447,
          -1.502246426613424,
          -1.6739615292364367,
          -1.730990381349072,
          -1.95310718539686,
          -1.9528484032396487,
          -1.3499681697813253,
          0,
          0,
          2.646090528402158,
          3.303726704057607,
          3.2559043843865703,
          3.0092684858408183,
          2.92753140493148,
          3.1184362391749043,
          2.5940616280103015,
          0.27049562662502186,
          0.2613338519004931,
          0.6711194970217909,
          0,
          0,
          -0.06912398698819144,
          -0.4409963022172444,
          -0.14839938187762616,
          0.00518334692833778,
          -0.011313675502669695,
          -0.08331087304035846,
          0,
          0,
          0.7172474489598978,
          1.0043116070896507,
          2.415422954541263,
          2.475313048461921,
          2.4734844567538907,
          0.3737548768977083,
          0,
          0,
          0.5948547797469512,
          0.16307358501048475,
          0.18157066854455725,
          0.19286750183973367,
          0.19213159130765453,
          -1.2460465940878174,
          -1.6443282195455813,
          -2.101096564859623,
          -2.351347087347964,
          -4.08412977860332,
          -4.182065861948313,
          -4.7629405025720315,
          -4.715600596131067,
          -4.14699208836829,
          -4.131105715611869,
          -4.130752585198276,
          -4.671065925569899,
          0,
          0,
          0.08587235762477961,
          1.0580417037308685,
          1.1210120004478514,
          1.1836322275171207,
          1.1595270456422826,
          1.1756807386810104,
          0.7773032612488949,
          -0.29436937353802445,
          -0.38939735886593463,
          -0.6344067484414012,
          -1.1272989031040097,
          -1.2457115505556062,
          -1.0583690547554545,
          -1.04967915088032,
          -0.7364185642986057,
          -0.5966442612665158,
          -0.12703172374431054,
          -0.4712926893464777,
          -0.3714974690442001,
          -0.4086992862958615,
          -0.3605275787130111,
          0.03734248873738678,
          -0.6016329984526048,
          0,
          0,
          0.11215847379088173,
          0.2328972168244416,
          0.2950653802042327,
          0.4685151125336137,
          0.3360988039989317,
          0.7083620758634948,
          2.2137748458078335,
          2.381042388689106,
          2.469343207358919
         ],
         "z": [
          0,
          0.9023538087836064,
          1.2102272784223511,
          1.3224218270648147,
          1.448690531654036,
          1.9048613882174357,
          2.221135550507955,
          2.3350480330125283,
          2.417812654678403,
          2.6296112453630505,
          3.0498108798938657,
          5.803809488656412,
          5.876194553960496,
          6.0709096975617,
          7.22841622577697,
          0,
          2.0494244277317955,
          3.1004307800633955,
          3.2466839111776955,
          3.709374439157091,
          3.712231011351832,
          3.932280415964637,
          4.088111776968157,
          4.097892041261264,
          4.472496770799494,
          4.603162195200198,
          4.821951903274121,
          0,
          0.1663868269808662,
          0.720422086197333,
          1.7142610542431365,
          1.9256261170479831,
          1.9822273758930864,
          1.9897572923916915,
          2.970398487585227,
          4.075701053906164,
          6.531947590793542,
          6.623272219725171,
          6.740458512439326,
          0,
          3.0556574659233138,
          3.1132695349028703,
          3.6674876902979983,
          3.794232297878666,
          3.810760916632992,
          3.965687831147216,
          3.966006682341928,
          4.000028485734364,
          4.398559790347467,
          4.789235672388222,
          4.869042853928828,
          5.8836573602383515,
          6.55889149778447,
          6.599758624938022,
          0,
          0.16143306634020355,
          3.567256776158484,
          4.785235784917569,
          5.34383906020584,
          5.427431213725101,
          5.471839038646859,
          5.503200352292626,
          6.581867175677126,
          7.438417071237053,
          7.564512093637779,
          7.650100277922861,
          7.65094012796583,
          0,
          1.4380321340885789,
          2.3873283361301887,
          2.5966108933639647,
          3.123886385196279,
          3.4250409178486727,
          3.5573955955702523,
          4.243367849234549,
          4.53740060909759,
          4.680269977785797,
          6.3032179697193165,
          0,
          0.14680773637226768,
          0.8230071223116434,
          1.252093994538947,
          1.3652636267906726,
          1.4136495779368077,
          3.035033212402596,
          4.290226487115323,
          4.94184643854307,
          5.244391933134368,
          5.551625476526083,
          6.388530200381991,
          7.418613154999725,
          7.730564362218613,
          7.97771036125448,
          8.47553010271145,
          0,
          0.6994306210475096,
          1.3256771743739073,
          1.6818174836756337,
          2.288485874301652,
          2.943908933878301,
          2.959834000388041,
          3.895564544900432,
          4.392369567027966,
          4.392413586149685,
          6.490111507368964,
          0,
          0.2838785459417575,
          0.7563426093256781,
          1.3763329120616077,
          1.4204708540486957,
          1.4259136703988944,
          1.5138217978819462,
          2.385020210723803,
          2.6003640837787447,
          3.020964379820193,
          3.915051494827644,
          5.027622398492141,
          5.5827817111947216,
          5.712995928750497,
          5.896860435885712,
          6.000582174741457,
          0,
          1.1510562346380089,
          1.632233046702661,
          2.39075821070534,
          2.5346985440522136,
          2.546964167350211,
          3.0298783647883454,
          3.123553195066624,
          3.654702032276985,
          3.8473407759849967,
          4.877972664217913,
          5.900302983737757,
          5.9848432456271246,
          6.083237097714898,
          6.169064599246815,
          6.509755413132313,
          6.520589234194811,
          6.785436938947801,
          6.852231915855447,
          6.981337488616799,
          7.1242866268444685,
          7.144741805177626,
          0,
          1.6253625883164085,
          3.063194569796434,
          3.7530308439901714,
          3.8157386125489303,
          4.169351707639659,
          4.517035758226521,
          5.465132053096744,
          5.587476637683494,
          5.591071044534812,
          6.525862266568588,
          6.65270430218439,
          8.448752028463863,
          8.727945713449948,
          0,
          1.4743910149984647,
          2.5415129299937327,
          2.9905309215163864,
          3.010117844708608,
          3.7650074860235994,
          4.316789201495543,
          4.430906391132521,
          5.40591195720214,
          7.155820575359687,
          7.172595302915127,
          7.180862688777864,
          9.31313432858581,
          9.317486244449746,
          9.752244066816083,
          0,
          0.8326969862476582,
          1.3992468351683278,
          1.4837170208597434,
          1.6895603029431352,
          1.814788730600441,
          1.892018985430216,
          1.9024617304753817,
          2.1248824943707607,
          2.5463662697568226,
          3.468345430804433,
          5.373155013745105,
          8.944819102496414,
          9.328893509371513,
          11.072111940227394,
          0,
          0.3186871259510931,
          1.0539597220204775,
          1.3174628417470091,
          1.4958662483908431,
          1.754418673716852,
          2.224171198299894,
          2.325748084803772,
          3.4907133475096663,
          4.2191093104010635,
          4.3454857721223545,
          4.754061681304093,
          0,
          4.252828268320193,
          6.112542426433561,
          7.802749464974104,
          8.548968011316918,
          8.711602954363286,
          8.717358115214223,
          9.091407966349385,
          9.493459854985444,
          10.078575782550805,
          10.371442886663038,
          11.53756406495768,
          12.724034207759338,
          12.98666029833551,
          12.992881931920117,
          13.502200356972587,
          14.617790540147706,
          15.479585907950367,
          15.917658301989427,
          17.391949304096233,
          0,
          0.06884688513545352,
          0.699482008105856,
          0.8555304073384322,
          1.9851113723232048,
          3.2491477957038266,
          4.182139015193662,
          5.61367884475696,
          5.6410613791252215,
          0,
          0.22078356650128814,
          0.6922519455252333,
          1.633978540477432,
          1.6545437462279289,
          4.485233530425704,
          6.257030007047041,
          8.017433075998898,
          8.318960495041686,
          0,
          0.9648260116882698,
          1.057320538567378,
          1.1674499618042733,
          1.4525200696601288,
          1.4985105772365246,
          1.6345898396753518,
          1.772556643169038,
          2.0204183694122366,
          2.1878212651065967,
          3.5561635234299125,
          3.687897335664608,
          3.8618417402708034,
          4.5632880821576105,
          4.858764446072764,
          4.878326687016314,
          5.0785378356869675,
          5.11511312182995,
          5.115481745129415,
          6.513370881971391,
          0,
          0.03795807479844605,
          0.41952494540710705,
          0.42626557714448415,
          1.8876035240765745,
          2.444169735608849,
          2.7973042283096783,
          2.936480881394673,
          4.317345860820707,
          4.388082808702976,
          4.8574282172792485,
          5.558380912795704,
          7.797009633659503,
          8.421330673431267,
          9.141926348585791,
          10.637184487566225,
          11.154525522393048,
          0,
          1.5262897575972638,
          2.1402725323180225,
          2.167415915950437,
          2.208677290923552,
          2.3599115662826757,
          3.5161363815997326,
          3.6293700097494255,
          4.243254683487261,
          5.63346064238967,
          5.677220975953207,
          5.870708340133662,
          5.882743084617863,
          6.14382672907836,
          0,
          2.9877662015184296,
          7.961758332498933,
          8.274711959119843,
          8.611066033064299,
          8.668881058463262,
          8.699879900912425,
          9.653516425436118,
          11.626179475227584,
          11.63829806537557,
          11.935198933965347,
          11.93613061712283,
          12.319141038942654,
          13.05052079684909,
          0,
          0.9107279429758196,
          1.4969198381324924,
          1.5784479860313347,
          2.8821247052389305,
          3.462881182045912,
          4.280750254479878,
          4.616441453030793,
          4.7737499002918415,
          5.58615959793635,
          5.959381378195546,
          7.451051360353015,
          8.728259562823462,
          8.735698388628046,
          9.15860804320746,
          0,
          0.2856210976285242,
          1.0764280572595388,
          1.4451592936386746,
          2.700539690268985,
          2.812896833551244,
          3.2110679750925346,
          4.51476184401124,
          5.566910449310647,
          7.933384795672373,
          7.952154653728499,
          8.226556729281036,
          0,
          0.7104604989382522,
          1.0003858579103628,
          1.3665434253732722,
          2.1851258629710744,
          2.189052279681937,
          2.7091081048979064,
          2.8189106172298404,
          0,
          0.04250222942865069,
          1.3068196219248378,
          1.3647991753398712,
          1.6093250552442138,
          2.1883860388290306,
          2.191728224806012,
          3.5497646803233622,
          0,
          0.27590867859443235,
          0.7082394970626724,
          3.025154290761884,
          3.078193676553925,
          3.280713749059227,
          3.2830283777418976,
          3.4997880949625544,
          3.7795539445918767,
          3.891209540123519,
          3.9953359016712904,
          4.669054621004558,
          5.144146162133036,
          5.870144368015209,
          6.230933323644626,
          6.466883685020636,
          6.512982453064452,
          6.567252174976675,
          6.77094451073522,
          0,
          0.100318757524668,
          0.1543462878206685,
          0.4345942575830593,
          0.4841017693808861,
          0.6404646804875055,
          0.7730867299898923,
          1.7900361593485203,
          2.003868988389529,
          2.061806039772886,
          2.092549984053341,
          2.202536574595231,
          2.5072209792123448,
          2.6075329269449767,
          3.6016209913091974,
          3.6725079637322735,
          4.595650197549695,
          8.003561816543161,
          9.166384385427955,
          9.601165714209143,
          10.651995116987386,
          10.906016672996637,
          11.281530310658374,
          13.797671708750356,
          14.353627146829824,
          0,
          0.19695823581784933,
          0.4566968958866674,
          0.5667394100701821,
          0.6545676724521861,
          1.5213496644308495,
          1.8789789986356444,
          2.130578686101973,
          3.461190366868659,
          3.5232659903671344,
          3.6870652300744178
         ]
        }
       ],
       "layout": {
        "legend": {
         "tracegroupgap": 0
        },
        "margin": {
         "t": 60
        },
        "scene": {
         "domain": {
          "x": [
           0,
           1
          ],
          "y": [
           0,
           1
          ]
         },
         "xaxis": {
          "title": {
           "text": "x"
          }
         },
         "yaxis": {
          "title": {
           "text": "y"
          }
         },
         "zaxis": {
          "title": {
           "text": "z"
          }
         }
        },
        "template": {
         "data": {
          "bar": [
           {
            "error_x": {
             "color": "#2a3f5f"
            },
            "error_y": {
             "color": "#2a3f5f"
            },
            "marker": {
             "line": {
              "color": "#E5ECF6",
              "width": 0.5
             }
            },
            "type": "bar"
           }
          ],
          "barpolar": [
           {
            "marker": {
             "line": {
              "color": "#E5ECF6",
              "width": 0.5
             }
            },
            "type": "barpolar"
           }
          ],
          "carpet": [
           {
            "aaxis": {
             "endlinecolor": "#2a3f5f",
             "gridcolor": "white",
             "linecolor": "white",
             "minorgridcolor": "white",
             "startlinecolor": "#2a3f5f"
            },
            "baxis": {
             "endlinecolor": "#2a3f5f",
             "gridcolor": "white",
             "linecolor": "white",
             "minorgridcolor": "white",
             "startlinecolor": "#2a3f5f"
            },
            "type": "carpet"
           }
          ],
          "choropleth": [
           {
            "colorbar": {
             "outlinewidth": 0,
             "ticks": ""
            },
            "type": "choropleth"
           }
          ],
          "contour": [
           {
            "colorbar": {
             "outlinewidth": 0,
             "ticks": ""
            },
            "colorscale": [
             [
              0,
              "#0d0887"
             ],
             [
              0.1111111111111111,
              "#46039f"
             ],
             [
              0.2222222222222222,
              "#7201a8"
             ],
             [
              0.3333333333333333,
              "#9c179e"
             ],
             [
              0.4444444444444444,
              "#bd3786"
             ],
             [
              0.5555555555555556,
              "#d8576b"
             ],
             [
              0.6666666666666666,
              "#ed7953"
             ],
             [
              0.7777777777777778,
              "#fb9f3a"
             ],
             [
              0.8888888888888888,
              "#fdca26"
             ],
             [
              1,
              "#f0f921"
             ]
            ],
            "type": "contour"
           }
          ],
          "contourcarpet": [
           {
            "colorbar": {
             "outlinewidth": 0,
             "ticks": ""
            },
            "type": "contourcarpet"
           }
          ],
          "heatmap": [
           {
            "colorbar": {
             "outlinewidth": 0,
             "ticks": ""
            },
            "colorscale": [
             [
              0,
              "#0d0887"
             ],
             [
              0.1111111111111111,
              "#46039f"
             ],
             [
              0.2222222222222222,
              "#7201a8"
             ],
             [
              0.3333333333333333,
              "#9c179e"
             ],
             [
              0.4444444444444444,
              "#bd3786"
             ],
             [
              0.5555555555555556,
              "#d8576b"
             ],
             [
              0.6666666666666666,
              "#ed7953"
             ],
             [
              0.7777777777777778,
              "#fb9f3a"
             ],
             [
              0.8888888888888888,
              "#fdca26"
             ],
             [
              1,
              "#f0f921"
             ]
            ],
            "type": "heatmap"
           }
          ],
          "heatmapgl": [
           {
            "colorbar": {
             "outlinewidth": 0,
             "ticks": ""
            },
            "colorscale": [
             [
              0,
              "#0d0887"
             ],
             [
              0.1111111111111111,
              "#46039f"
             ],
             [
              0.2222222222222222,
              "#7201a8"
             ],
             [
              0.3333333333333333,
              "#9c179e"
             ],
             [
              0.4444444444444444,
              "#bd3786"
             ],
             [
              0.5555555555555556,
              "#d8576b"
             ],
             [
              0.6666666666666666,
              "#ed7953"
             ],
             [
              0.7777777777777778,
              "#fb9f3a"
             ],
             [
              0.8888888888888888,
              "#fdca26"
             ],
             [
              1,
              "#f0f921"
             ]
            ],
            "type": "heatmapgl"
           }
          ],
          "histogram": [
           {
            "marker": {
             "colorbar": {
              "outlinewidth": 0,
              "ticks": ""
             }
            },
            "type": "histogram"
           }
          ],
          "histogram2d": [
           {
            "colorbar": {
             "outlinewidth": 0,
             "ticks": ""
            },
            "colorscale": [
             [
              0,
              "#0d0887"
             ],
             [
              0.1111111111111111,
              "#46039f"
             ],
             [
              0.2222222222222222,
              "#7201a8"
             ],
             [
              0.3333333333333333,
              "#9c179e"
             ],
             [
              0.4444444444444444,
              "#bd3786"
             ],
             [
              0.5555555555555556,
              "#d8576b"
             ],
             [
              0.6666666666666666,
              "#ed7953"
             ],
             [
              0.7777777777777778,
              "#fb9f3a"
             ],
             [
              0.8888888888888888,
              "#fdca26"
             ],
             [
              1,
              "#f0f921"
             ]
            ],
            "type": "histogram2d"
           }
          ],
          "histogram2dcontour": [
           {
            "colorbar": {
             "outlinewidth": 0,
             "ticks": ""
            },
            "colorscale": [
             [
              0,
              "#0d0887"
             ],
             [
              0.1111111111111111,
              "#46039f"
             ],
             [
              0.2222222222222222,
              "#7201a8"
             ],
             [
              0.3333333333333333,
              "#9c179e"
             ],
             [
              0.4444444444444444,
              "#bd3786"
             ],
             [
              0.5555555555555556,
              "#d8576b"
             ],
             [
              0.6666666666666666,
              "#ed7953"
             ],
             [
              0.7777777777777778,
              "#fb9f3a"
             ],
             [
              0.8888888888888888,
              "#fdca26"
             ],
             [
              1,
              "#f0f921"
             ]
            ],
            "type": "histogram2dcontour"
           }
          ],
          "mesh3d": [
           {
            "colorbar": {
             "outlinewidth": 0,
             "ticks": ""
            },
            "type": "mesh3d"
           }
          ],
          "parcoords": [
           {
            "line": {
             "colorbar": {
              "outlinewidth": 0,
              "ticks": ""
             }
            },
            "type": "parcoords"
           }
          ],
          "pie": [
           {
            "automargin": true,
            "type": "pie"
           }
          ],
          "scatter": [
           {
            "marker": {
             "colorbar": {
              "outlinewidth": 0,
              "ticks": ""
             }
            },
            "type": "scatter"
           }
          ],
          "scatter3d": [
           {
            "line": {
             "colorbar": {
              "outlinewidth": 0,
              "ticks": ""
             }
            },
            "marker": {
             "colorbar": {
              "outlinewidth": 0,
              "ticks": ""
             }
            },
            "type": "scatter3d"
           }
          ],
          "scattercarpet": [
           {
            "marker": {
             "colorbar": {
              "outlinewidth": 0,
              "ticks": ""
             }
            },
            "type": "scattercarpet"
           }
          ],
          "scattergeo": [
           {
            "marker": {
             "colorbar": {
              "outlinewidth": 0,
              "ticks": ""
             }
            },
            "type": "scattergeo"
           }
          ],
          "scattergl": [
           {
            "marker": {
             "colorbar": {
              "outlinewidth": 0,
              "ticks": ""
             }
            },
            "type": "scattergl"
           }
          ],
          "scattermapbox": [
           {
            "marker": {
             "colorbar": {
              "outlinewidth": 0,
              "ticks": ""
             }
            },
            "type": "scattermapbox"
           }
          ],
          "scatterpolar": [
           {
            "marker": {
             "colorbar": {
              "outlinewidth": 0,
              "ticks": ""
             }
            },
            "type": "scatterpolar"
           }
          ],
          "scatterpolargl": [
           {
            "marker": {
             "colorbar": {
              "outlinewidth": 0,
              "ticks": ""
             }
            },
            "type": "scatterpolargl"
           }
          ],
          "scatterternary": [
           {
            "marker": {
             "colorbar": {
              "outlinewidth": 0,
              "ticks": ""
             }
            },
            "type": "scatterternary"
           }
          ],
          "surface": [
           {
            "colorbar": {
             "outlinewidth": 0,
             "ticks": ""
            },
            "colorscale": [
             [
              0,
              "#0d0887"
             ],
             [
              0.1111111111111111,
              "#46039f"
             ],
             [
              0.2222222222222222,
              "#7201a8"
             ],
             [
              0.3333333333333333,
              "#9c179e"
             ],
             [
              0.4444444444444444,
              "#bd3786"
             ],
             [
              0.5555555555555556,
              "#d8576b"
             ],
             [
              0.6666666666666666,
              "#ed7953"
             ],
             [
              0.7777777777777778,
              "#fb9f3a"
             ],
             [
              0.8888888888888888,
              "#fdca26"
             ],
             [
              1,
              "#f0f921"
             ]
            ],
            "type": "surface"
           }
          ],
          "table": [
           {
            "cells": {
             "fill": {
              "color": "#EBF0F8"
             },
             "line": {
              "color": "white"
             }
            },
            "header": {
             "fill": {
              "color": "#C8D4E3"
             },
             "line": {
              "color": "white"
             }
            },
            "type": "table"
           }
          ]
         },
         "layout": {
          "annotationdefaults": {
           "arrowcolor": "#2a3f5f",
           "arrowhead": 0,
           "arrowwidth": 1
          },
          "autotypenumbers": "strict",
          "coloraxis": {
           "colorbar": {
            "outlinewidth": 0,
            "ticks": ""
           }
          },
          "colorscale": {
           "diverging": [
            [
             0,
             "#8e0152"
            ],
            [
             0.1,
             "#c51b7d"
            ],
            [
             0.2,
             "#de77ae"
            ],
            [
             0.3,
             "#f1b6da"
            ],
            [
             0.4,
             "#fde0ef"
            ],
            [
             0.5,
             "#f7f7f7"
            ],
            [
             0.6,
             "#e6f5d0"
            ],
            [
             0.7,
             "#b8e186"
            ],
            [
             0.8,
             "#7fbc41"
            ],
            [
             0.9,
             "#4d9221"
            ],
            [
             1,
             "#276419"
            ]
           ],
           "sequential": [
            [
             0,
             "#0d0887"
            ],
            [
             0.1111111111111111,
             "#46039f"
            ],
            [
             0.2222222222222222,
             "#7201a8"
            ],
            [
             0.3333333333333333,
             "#9c179e"
            ],
            [
             0.4444444444444444,
             "#bd3786"
            ],
            [
             0.5555555555555556,
             "#d8576b"
            ],
            [
             0.6666666666666666,
             "#ed7953"
            ],
            [
             0.7777777777777778,
             "#fb9f3a"
            ],
            [
             0.8888888888888888,
             "#fdca26"
            ],
            [
             1,
             "#f0f921"
            ]
           ],
           "sequentialminus": [
            [
             0,
             "#0d0887"
            ],
            [
             0.1111111111111111,
             "#46039f"
            ],
            [
             0.2222222222222222,
             "#7201a8"
            ],
            [
             0.3333333333333333,
             "#9c179e"
            ],
            [
             0.4444444444444444,
             "#bd3786"
            ],
            [
             0.5555555555555556,
             "#d8576b"
            ],
            [
             0.6666666666666666,
             "#ed7953"
            ],
            [
             0.7777777777777778,
             "#fb9f3a"
            ],
            [
             0.8888888888888888,
             "#fdca26"
            ],
            [
             1,
             "#f0f921"
            ]
           ]
          },
          "colorway": [
           "#636efa",
           "#EF553B",
           "#00cc96",
           "#ab63fa",
           "#FFA15A",
           "#19d3f3",
           "#FF6692",
           "#B6E880",
           "#FF97FF",
           "#FECB52"
          ],
          "font": {
           "color": "#2a3f5f"
          },
          "geo": {
           "bgcolor": "white",
           "lakecolor": "white",
           "landcolor": "#E5ECF6",
           "showlakes": true,
           "showland": true,
           "subunitcolor": "white"
          },
          "hoverlabel": {
           "align": "left"
          },
          "hovermode": "closest",
          "mapbox": {
           "style": "light"
          },
          "paper_bgcolor": "white",
          "plot_bgcolor": "#E5ECF6",
          "polar": {
           "angularaxis": {
            "gridcolor": "white",
            "linecolor": "white",
            "ticks": ""
           },
           "bgcolor": "#E5ECF6",
           "radialaxis": {
            "gridcolor": "white",
            "linecolor": "white",
            "ticks": ""
           }
          },
          "scene": {
           "xaxis": {
            "backgroundcolor": "#E5ECF6",
            "gridcolor": "white",
            "gridwidth": 2,
            "linecolor": "white",
            "showbackground": true,
            "ticks": "",
            "zerolinecolor": "white"
           },
           "yaxis": {
            "backgroundcolor": "#E5ECF6",
            "gridcolor": "white",
            "gridwidth": 2,
            "linecolor": "white",
            "showbackground": true,
            "ticks": "",
            "zerolinecolor": "white"
           },
           "zaxis": {
            "backgroundcolor": "#E5ECF6",
            "gridcolor": "white",
            "gridwidth": 2,
            "linecolor": "white",
            "showbackground": true,
            "ticks": "",
            "zerolinecolor": "white"
           }
          },
          "shapedefaults": {
           "line": {
            "color": "#2a3f5f"
           }
          },
          "ternary": {
           "aaxis": {
            "gridcolor": "white",
            "linecolor": "white",
            "ticks": ""
           },
           "baxis": {
            "gridcolor": "white",
            "linecolor": "white",
            "ticks": ""
           },
           "bgcolor": "#E5ECF6",
           "caxis": {
            "gridcolor": "white",
            "linecolor": "white",
            "ticks": ""
           }
          },
          "title": {
           "x": 0.05
          },
          "xaxis": {
           "automargin": true,
           "gridcolor": "white",
           "linecolor": "white",
           "ticks": "",
           "title": {
            "standoff": 15
           },
           "zerolinecolor": "white",
           "zerolinewidth": 2
          },
          "yaxis": {
           "automargin": true,
           "gridcolor": "white",
           "linecolor": "white",
           "ticks": "",
           "title": {
            "standoff": 15
           },
           "zerolinecolor": "white",
           "zerolinewidth": 2
          }
         }
        }
       }
      },
      "text/html": [
       "<div>                            <div id=\"fca378e0-708c-4a3f-a346-26966e340884\" class=\"plotly-graph-div\" style=\"height:525px; width:100%;\"></div>            <script type=\"text/javascript\">                require([\"plotly\"], function(Plotly) {                    window.PLOTLYENV=window.PLOTLYENV || {};                                    if (document.getElementById(\"fca378e0-708c-4a3f-a346-26966e340884\")) {                    Plotly.newPlot(                        \"fca378e0-708c-4a3f-a346-26966e340884\",                        [{\"hovertemplate\": \"<b>%{hovertext}</b><br><br>x=%{x}<br>y=%{y}<br>z=%{z}<extra></extra>\", \"hovertext\": [1.0, 1.0, 1.0, 1.0, 1.0, 1.0, 1.0, 1.0, 1.0, 1.0, 1.0, 1.0, 1.0, 1.0, 1.0, 2.0, 2.0, 2.0, 2.0, 2.0, 2.0, 2.0, 2.0, 2.0, 2.0, 2.0, 2.0, 3.0, 3.0, 3.0, 3.0, 3.0, 3.0, 3.0, 3.0, 3.0, 3.0, 3.0, 3.0, 4.0, 4.0, 4.0, 4.0, 4.0, 4.0, 4.0, 4.0, 4.0, 4.0, 4.0, 4.0, 4.0, 4.0, 4.0, 5.0, 5.0, 5.0, 5.0, 5.0, 5.0, 5.0, 5.0, 5.0, 5.0, 5.0, 5.0, 5.0, 6.0, 6.0, 6.0, 6.0, 6.0, 6.0, 6.0, 6.0, 6.0, 6.0, 6.0, 7.0, 7.0, 7.0, 7.0, 7.0, 7.0, 7.0, 7.0, 7.0, 7.0, 7.0, 7.0, 7.0, 7.0, 7.0, 7.0, 8.0, 8.0, 8.0, 8.0, 8.0, 8.0, 8.0, 8.0, 8.0, 8.0, 8.0, 9.0, 9.0, 9.0, 9.0, 9.0, 9.0, 9.0, 9.0, 9.0, 9.0, 9.0, 9.0, 9.0, 9.0, 9.0, 9.0, 10.0, 10.0, 10.0, 10.0, 10.0, 10.0, 10.0, 10.0, 10.0, 10.0, 10.0, 10.0, 10.0, 10.0, 10.0, 10.0, 10.0, 10.0, 10.0, 10.0, 10.0, 10.0, 11.0, 11.0, 11.0, 11.0, 11.0, 11.0, 11.0, 11.0, 11.0, 11.0, 11.0, 11.0, 11.0, 11.0, 12.0, 12.0, 12.0, 12.0, 12.0, 12.0, 12.0, 12.0, 12.0, 12.0, 12.0, 12.0, 12.0, 12.0, 12.0, 13.0, 13.0, 13.0, 13.0, 13.0, 13.0, 13.0, 13.0, 13.0, 13.0, 13.0, 13.0, 13.0, 13.0, 13.0, 14.0, 14.0, 14.0, 14.0, 14.0, 14.0, 14.0, 14.0, 14.0, 14.0, 14.0, 14.0, 15.0, 15.0, 15.0, 15.0, 15.0, 15.0, 15.0, 15.0, 15.0, 15.0, 15.0, 15.0, 15.0, 15.0, 15.0, 15.0, 15.0, 15.0, 15.0, 15.0, 16.0, 16.0, 16.0, 16.0, 16.0, 16.0, 16.0, 16.0, 16.0, 17.0, 17.0, 17.0, 17.0, 17.0, 17.0, 17.0, 17.0, 17.0, 18.0, 18.0, 18.0, 18.0, 18.0, 18.0, 18.0, 18.0, 18.0, 18.0, 18.0, 18.0, 18.0, 18.0, 18.0, 18.0, 18.0, 18.0, 18.0, 18.0, 19.0, 19.0, 19.0, 19.0, 19.0, 19.0, 19.0, 19.0, 19.0, 19.0, 19.0, 19.0, 19.0, 19.0, 19.0, 19.0, 19.0, 20.0, 20.0, 20.0, 20.0, 20.0, 20.0, 20.0, 20.0, 20.0, 20.0, 20.0, 20.0, 20.0, 20.0, 21.0, 21.0, 21.0, 21.0, 21.0, 21.0, 21.0, 21.0, 21.0, 21.0, 21.0, 21.0, 21.0, 21.0, 22.0, 22.0, 22.0, 22.0, 22.0, 22.0, 22.0, 22.0, 22.0, 22.0, 22.0, 22.0, 22.0, 22.0, 22.0, 23.0, 23.0, 23.0, 23.0, 23.0, 23.0, 23.0, 23.0, 23.0, 23.0, 23.0, 23.0, 24.0, 24.0, 24.0, 24.0, 24.0, 24.0, 24.0, 24.0, 25.0, 25.0, 25.0, 25.0, 25.0, 25.0, 25.0, 25.0, 26.0, 26.0, 26.0, 26.0, 26.0, 26.0, 26.0, 26.0, 26.0, 26.0, 26.0, 26.0, 26.0, 26.0, 26.0, 26.0, 26.0, 26.0, 26.0, 27.0, 27.0, 27.0, 27.0, 27.0, 27.0, 27.0, 27.0, 27.0, 27.0, 27.0, 27.0, 27.0, 27.0, 27.0, 27.0, 27.0, 27.0, 27.0, 27.0, 27.0, 27.0, 27.0, 27.0, 27.0, 28.0, 28.0, 28.0, 28.0, 28.0, 28.0, 28.0, 28.0, 28.0, 28.0, 28.0], \"legendgroup\": \"\", \"line\": {\"color\": \"#636efa\", \"dash\": \"solid\"}, \"mode\": \"lines\", \"name\": \"\", \"scene\": \"scene\", \"showlegend\": false, \"type\": \"scatter3d\", \"x\": [0.0, 0.0, -0.12016467406302413, -0.186019578152938, -0.34769175556103066, -1.1186753956045128, -1.358032122656638, -1.9120514933151056, -3.034136400750428, -3.0502171814509134, -3.542327982914184, -3.680439708747429, -3.5681975877082497, -3.5125693432931286, 3.553459562457756, 0.0, 0.0, -0.3656768236202069, 0.6198896898694943, 1.0053214599402815, 1.0552326117697737, 1.4136289157380224, 2.143763683486817, 2.580801231159802, 3.0007012492849774, 4.120964600300464, 4.572993260281674, 0.0, 0.0, 0.25106081830405835, 0.9075696107943948, 0.9838182384258785, 1.0958508913460372, 1.1560896822896096, 1.5381142889985118, 0.46323247199586, 1.3712546291361312, 1.390207392403643, 1.4471206522963938, 0.0, 0.0, 0.05034756368659792, 1.9605207837562224, 1.9851582369545673, 2.0559115165195294, 2.289350693373147, 2.289139344747428, 1.5249095279982463, 0.6750213984258129, 0.1628289848933328, -0.13596504188215194, -1.7628982462668863, -2.999473537082832, -2.9857584490047246, 0.0, 0.0, -0.27571696298744386, -0.39661969160244853, 0.4573254013964052, 0.6636867801504907, 1.1496449911057145, 1.2477038635164546, 2.087834825152004, 2.1933829332689125, 2.3988071942964884, 2.5502232802184683, 2.5072300195659207, 0.0, 0.0, -0.027386003339725174, -0.2422416953596083, -0.4094507643743335, -0.17548747072756832, 1.0884476073441165, 1.49300071558097, 1.5846576099476393, 1.784817740813106, 3.508362910506636, 0.0, 0.0, -1.9358351332379768, -2.565417112484212, -2.570135465191152, -2.304735080380554, 0.4929607228590863, 0.7694708045714302, 1.4552873011014773, 1.7979459868132854, 1.8121957734012453, 2.2117966544547683, 2.9927124337021955, 3.138627812274653, 3.948450195326272, 4.134967601247856, 0.0, 0.0, 1.1176125628754916, 1.1680722114128894, 1.4789697850128505, 1.2946200087665676, 1.3439500024998017, 2.5085193861286728, 2.0752270599713585, 2.0418725006113947, 0.907878018278294, 0.0, 0.0, -0.503860418771476, -0.9087947510007576, -1.0110384020699057, -1.0487688575450702, -0.7034774527018473, -0.4813137935236709, -0.671240124784698, -0.019043740576763654, -0.9054807446294744, -1.6339097853833275, -2.536916867129046, -2.6773791689079323, -2.398592769235066, -2.3829283443655687, 0.0, 0.0, -0.22190149492413647, 0.0384735024800098, 0.2403193529598731, 2.646453208765182, 3.651836441082241, 4.596797749229465, 5.789298020754706, 9.469776498130269, 9.447025531802048, 8.741195976842315, 8.72953743995006, 8.895194618972418, 9.113468605712162, 9.287749174961922, 9.304133357762842, 9.705628911663746, 9.779466032857203, 9.785027458867935, 9.900804825577058, 10.00251881832803, 0.0, 0.0, -1.385532437113679, -0.9688920137628872, -0.8951798876460504, 0.11028629731228773, 0.8760593410906563, 2.2824869325846984, 2.3103548572306427, 2.311589684184871, 2.007218556928504, 2.1717529285908928, 3.198499425348996, 4.447402487164691, 0.0, 0.0, -1.8254445913086303, -2.0076657054605853, -2.257020138626303, -3.027177529799996, -3.4860740985469665, -3.368155094800517, -3.1648547390033848, -2.172199078291114, -2.162341503693916, -2.19131065575738, -3.669312231185157, -3.626814357271512, -3.3198434968950865, 0.0, 0.0, -0.4547915318626566, -0.3755005381424824, 0.4031623861949468, 0.6953123664345744, 1.1642863283352418, 1.1750150746525878, 1.5654224105121954, 1.9302758927552317, 2.3317856578075062, 3.4093891876640976, 0.27103943509562634, -0.0835879045258856, 0.7831983875855163, 0.0, 0.0, 0.5734470123913925, 0.7923944405336182, 0.8472662787785189, 0.9688655381551492, 1.2402485869562805, 1.5534421362747732, 2.4541169047405726, 2.3291982001953144, 3.6887623853603215, 3.680182527157677, 0.0, 0.0, 0.3608104459706652, 0.9921951741680431, 1.047804180356691, 0.9483387792535596, 0.899958109064329, 0.7954792687247139, 0.7559739014308429, 2.0378600544950327, 2.993811308980343, 4.030511914464559, 6.93231366532628, 8.054545996301778, 8.324817805467992, 9.349099805555568, 11.550064644619374, 11.761692298151024, 12.475480316664724, 12.264147474627874, 0.0, 0.0, 0.4733212419264802, 0.5780108532767432, 1.4025554303496508, 1.3451533003771612, 0.9964153790145516, 2.0683317028120887, 1.7529584325559766, 0.0, 0.0, 0.8213035843400318, 0.3643417310819109, 0.3294061632131913, -0.9384007241783276, 1.263642679106297, -0.09893524292337971, -1.3134512034117665, 0.0, 0.0, 0.12739966862150795, 0.6110985099974318, 0.7987512096064587, 1.263406253906432, 2.1808275113029763, 2.7292096526871608, 2.667718932270516, 3.5742369089414634, 3.9115200481884833, 3.909230420560569, 3.625203205246639, 2.9199540375154003, 2.259404015447209, 2.211073761741836, 1.670738263697665, 1.558672608005965, 1.5428469644216487, 1.095756423196233, 0.0, 0.0, -0.1708043265432082, -0.17724541413335573, -0.729684254729195, -1.1234987512533876, -2.368963932742294, -2.585831138187785, -3.981091467700856, -4.006027592599343, -3.5971580062329345, -3.4220292892030573, -4.05577364430126, -4.2809530352769976, -4.197518373572871, -4.953510307103029, -4.55432103020408, 0.0, 0.0, 0.9035795187821452, 0.9260742748777424, 0.9869662006859397, 1.1151239703611804, 3.4926558865609683, 3.6513849957458544, 3.430328691822559, 2.92423420106728, 2.917395880755939, 2.9721452500391865, 2.9630762003982936, 3.7244615989671246, 0.0, 0.0, 1.7035871725396583, 1.8083701840724504, 2.2602588068095613, 2.36289457719032, 2.413514926630538, 2.5385196415424023, 3.5273310415781256, 3.675800733064584, 3.6933413459397806, 3.692291462455709, 4.444389613179368, 4.190026258645232, 0.0, 0.0, -0.7170505023034381, -0.6903605240449613, -1.8991121001335771, -1.9743894859833284, -2.9974212569609486, -3.2298312877226723, -3.197440594139528, -3.8499281523993374, -3.950722007607171, -4.370927634524128, -3.6558604717380168, -3.6420285932975993, -3.592105255200404, 0.0, 0.0, 0.7887204391214514, 0.8744734935342446, 0.1641055647300702, 0.18705225602689354, 0.5288746376779516, 0.883200720295597, 1.3866719839306982, 2.03762967590511, 2.04414921966053, 2.10717568989796, 0.0, 0.0, -0.21271341397468888, -0.5928756050341055, -0.9438979019755612, -1.0289167893615387, -1.3944362959722427, -1.2569515641464108, 0.0, 0.0, 0.925730828773458, 0.9217481059334014, 0.8962000083428538, 0.0694064371440588, 0.05972067337375726, 0.11743175231207745, 0.0, 0.0, -0.00947751121762373, -1.3453735936023623, -1.364633747256942, -1.308933632560541, -1.3076091960195606, 0.7113453886607386, 1.024613898790622, 0.7595574806331425, 0.8739637453184147, 2.673118720261604, 2.5669879721530324, 1.9891553462648872, 2.1411799116196555, 2.051469215235143, 2.0383041868191203, 1.9924951285462684, 1.4813724026187391, 0.0, 0.0, -0.04135978805754385, -0.8459082528324638, -0.8705550822167064, -1.0052247077043466, -1.238792794374212, -1.9715533154376257, -2.3081663476344643, -2.8017568767164422, -2.7636530704119315, -2.6379696072544, -2.506144819814199, -1.979985822379886, -1.2268321577235357, -1.1530464372221894, -1.039435519962432, -0.6270314504404106, 0.3456784947542525, 1.5622457226345494, 1.766251574265432, 1.7889097515376344, 1.7186618644812333, 2.1070626611940466, 1.606362520621202, 0.0, 0.0, -0.1908989192002576, -0.2785052576405492, -0.2426531564447364, 0.19616053900863856, 0.5442165881509937, 0.7294388564347034, 3.796674446562693, 3.824349728013068, 4.381111264000434], \"y\": [0.0, 0.0, 0.011495905282586007, -0.16331128319918964, -0.4900556125538286, -0.8471411003223246, -0.7955122014028477, -0.07063827133085158, 0.24168901282607055, 0.8453300533588542, 2.4626393055504345, 5.183022328884782, 5.273949810155369, 5.402051508685895, 9.101468899944836, 0.0, 0.0, -0.7717957679628221, -2.3062222864081763, -2.721321963478999, -2.722241322855921, -2.8035509052144216, -2.2976426895148667, -2.387489048648991, -2.0917512617608947, -1.944945510094668, -0.625635209776124, 0.0, 0.0, 0.4515184646653459, 0.5430979015420727, 0.8170184948466246, 0.8138320409737461, 0.8478330697141317, 1.741318526999774, 2.6867940921653, 3.4831827943948106, 3.531927215542411, 3.9130638294918234, 0.0, 0.0, 0.009003262840474424, 0.5766794162960789, 0.7780616339830694, 1.0071522582584356, 1.358577534037508, 1.3597441864877964, 1.7444683870139182, 1.272336246084829, 0.22543806347045625, 0.2211239604362908, -0.04463126861806922, 1.1316460734947251, 1.1527730387991038, 0.0, 0.0, 2.5003276477555216, 2.4308178876068705, 1.5924554515446547, 1.6715667896288533, 1.885531673035782, 1.7934614071351345, 1.420077518559092, 1.1974843879862809, 0.986354460934585, 0.09862346901590896, 0.08405251548062516, 0.0, 0.0, -0.4657923897242534, -0.5341029494324049, -1.2574241444960694, -1.27040398813767, -1.308108404177316, -1.3143232554183135, -1.2805962996240394, -1.2713186239932093, -0.5668009294505102, 0.0, 0.0, -1.4356262055881208, -2.7745394371438405, -3.0626065407909837, -3.49158990170215, -5.756090626205294, -9.271420968967009, -9.9343561493292, -11.48453560578008, -11.911801900617965, -11.819015580045388, -11.66326731895027, -11.775792167984912, -12.029076746324732, -12.043521986683151, 0.0, 0.0, -0.16468554022956353, 0.33269799845638875, 0.460307518000333, -0.03828919200245149, -0.06604189555908392, -1.4422781523416892, -1.6761891167536545, -1.6812477700453805, -1.2657619773144593, 0.0, 0.0, 0.16030062125055278, 0.13781200962266035, 0.1869092959471464, 0.33635101852545995, 0.8177789242963925, 2.7762408818225137, 3.07572488823736, 4.046549315569754, 6.946499472466296, 7.446361987312273, 7.541661824393131, 7.716381787255243, 8.248114329700286, 8.793609713133117, 0.0, 0.0, 0.3962026932107519, 0.34245303430200813, 0.1497026534598163, 0.03014276182445392, -0.29812958502797854, -0.17167587017855312, -0.3073444749639028, -3.061721055931652, -3.8558683546248975, -6.336483895110627, -6.391022203595639, -6.576762314944047, -6.547617562450881, -6.188798778324966, -6.1819810922113065, -6.1489378437655535, -6.162053881778584, -6.292304300853824, -6.340468686566733, -6.294829763565001, 0.0, 0.0, 0.365821760552928, 0.9255065048265028, 1.0524094544318048, 1.4134839968792907, 1.695116453466044, 2.013060986648, 2.063945860725812, 2.065834667984141, 2.415810014209566, 2.430689605902604, 3.9398875615230575, 4.49282231163235, 0.0, 0.0, -0.15483806425730198, -0.6921628398811182, -0.913046310696611, -2.0448921700166003, -3.1196122589059407, -3.2785565072563867, -3.7501872349995327, -5.91072250027724, -5.932892866513088, -5.954851548217582, -10.556472421806946, -10.635399849154293, -11.185771964613645, 0.0, 0.0, -0.989582551066394, -1.0881274389195776, -1.7463881437519906, -1.6196177123216364, -1.5944153685577684, -1.565140909161608, -1.2269549244521871, -1.1951558914833813, -0.4046017513607557, 0.5510764292367405, 2.067524170863424, 2.4155212073514685, 2.463876245276119, 0.0, 0.0, 0.24941602322438636, 0.5427073035400194, 0.7077187785338193, 0.454412290213309, 0.4098527671861287, 0.24906293463157686, -2.4263614510418448, -3.947102378157236, -5.466932371061398, -5.883516557815771, 0.0, 0.0, 1.3158133427658687, 1.9676619320444864, 2.35040305035245, 2.3900614250812584, 2.430527971385577, 3.086947703166259, 3.9542173252371287, 5.088909276535359, 5.449522061028532, 4.7535412109734505, 4.449732567070537, 5.636451442145472, 5.722330273995228, 6.001259465275736, 4.9858692281536685, 5.233262544170904, 5.0101403314298185, 4.1401231158789455, 0.0, 0.0, -0.10373266768516014, -0.12491321883282737, -2.308514104044224, -3.1048738972133014, -3.3358925975373173, -5.1400206842792615, -5.546603019008955, 0.0, 0.0, 1.8835193491138555, 3.3214050467103124, 3.3312571664996886, 3.2853641690649167, 2.920058774062239, 2.8432682343210307, 2.5366713056696657, 0.0, 0.0, -0.22443211422426096, -1.3983090197831252, -2.0586823055897887, -2.410274094559668, -2.234495011452435, -0.835291433588965, 0.3968347945716641, 0.7319416466787699, 2.1418404291665234, 2.553035080563072, 2.7640313347605074, 3.1120742526881906, 2.9784984351150947, 2.9763914056244647, 2.9762708615865607, 2.869926838705455, 2.812401734215284, 1.9434312864410692, 0.0, 0.0, 0.2298799942427171, 0.2353594596046664, 0.6847803505661304, 0.5237956218696038, -0.19630155026166116, -0.3435435812416143, -1.029530403684572, -0.9889889527270108, -0.6193871199549688, -0.471141457228385, 1.0679317574115643, 1.1651285935032594, 0.5203928747271466, 0.3751359057875063, 0.5164280354443586, 0.0, 0.0, 0.580676349779852, 0.5404387399329814, 0.5136378146002991, 0.42963836895182655, -1.0146825987345591, -1.1896195078169844, -2.411210349509558, -2.343935515045375, -2.3336577262278326, -1.969463114137262, -1.9535467264105952, -1.0171976165808885, 0.0, 0.0, -0.65785136171625, -0.5434186991608284, -1.3018431868425415, -1.3022852031023806, -1.3685497104579505, -2.878811241375079, -5.165586156415433, -5.243442342150249, -5.3804481906667085, -5.394197036264416, -6.986330674648399, -7.095711371517697, 0.0, 0.0, -1.8310742369437945, -2.0877955272110973, -1.867818003752307, -1.3244743770785288, -0.901530511415544, -1.0947317455400372, -1.2212858789339447, -1.502246426613424, -1.6739615292364367, -1.730990381349072, -1.95310718539686, -1.9528484032396487, -1.3499681697813253, 0.0, 0.0, 2.646090528402158, 3.303726704057607, 3.2559043843865703, 3.0092684858408183, 2.92753140493148, 3.1184362391749043, 2.5940616280103015, 0.27049562662502186, 0.2613338519004931, 0.6711194970217909, 0.0, 0.0, -0.06912398698819144, -0.4409963022172444, -0.14839938187762616, 0.00518334692833778, -0.011313675502669695, -0.08331087304035846, 0.0, 0.0, 0.7172474489598978, 1.0043116070896507, 2.415422954541263, 2.475313048461921, 2.4734844567538907, 0.3737548768977083, 0.0, 0.0, 0.5948547797469512, 0.16307358501048475, 0.18157066854455725, 0.19286750183973367, 0.19213159130765453, -1.2460465940878174, -1.6443282195455813, -2.101096564859623, -2.351347087347964, -4.08412977860332, -4.182065861948313, -4.7629405025720315, -4.715600596131067, -4.14699208836829, -4.131105715611869, -4.130752585198276, -4.671065925569899, 0.0, 0.0, 0.08587235762477961, 1.0580417037308685, 1.1210120004478514, 1.1836322275171207, 1.1595270456422826, 1.1756807386810104, 0.7773032612488949, -0.29436937353802445, -0.38939735886593463, -0.6344067484414012, -1.1272989031040097, -1.2457115505556062, -1.0583690547554545, -1.04967915088032, -0.7364185642986057, -0.5966442612665158, -0.12703172374431054, -0.4712926893464777, -0.3714974690442001, -0.4086992862958615, -0.3605275787130111, 0.03734248873738678, -0.6016329984526048, 0.0, 0.0, 0.11215847379088173, 0.2328972168244416, 0.2950653802042327, 0.4685151125336137, 0.3360988039989317, 0.7083620758634948, 2.2137748458078335, 2.381042388689106, 2.469343207358919], \"z\": [0.0, 0.9023538087836064, 1.2102272784223511, 1.3224218270648147, 1.448690531654036, 1.9048613882174357, 2.221135550507955, 2.3350480330125283, 2.417812654678403, 2.6296112453630505, 3.0498108798938657, 5.803809488656412, 5.876194553960496, 6.0709096975617, 7.22841622577697, 0.0, 2.0494244277317955, 3.1004307800633955, 3.2466839111776955, 3.709374439157091, 3.712231011351832, 3.932280415964637, 4.088111776968157, 4.097892041261264, 4.472496770799494, 4.603162195200198, 4.821951903274121, 0.0, 0.1663868269808662, 0.720422086197333, 1.7142610542431365, 1.9256261170479831, 1.9822273758930864, 1.9897572923916915, 2.970398487585227, 4.075701053906164, 6.531947590793542, 6.623272219725171, 6.740458512439326, 0.0, 3.0556574659233138, 3.1132695349028703, 3.6674876902979983, 3.794232297878666, 3.810760916632992, 3.965687831147216, 3.966006682341928, 4.000028485734364, 4.398559790347467, 4.789235672388222, 4.869042853928828, 5.8836573602383515, 6.55889149778447, 6.599758624938022, 0.0, 0.16143306634020355, 3.567256776158484, 4.785235784917569, 5.34383906020584, 5.427431213725101, 5.471839038646859, 5.503200352292626, 6.581867175677126, 7.438417071237053, 7.564512093637779, 7.650100277922861, 7.65094012796583, 0.0, 1.4380321340885789, 2.3873283361301887, 2.5966108933639647, 3.123886385196279, 3.4250409178486727, 3.5573955955702523, 4.243367849234549, 4.53740060909759, 4.680269977785797, 6.3032179697193165, 0.0, 0.14680773637226768, 0.8230071223116434, 1.252093994538947, 1.3652636267906726, 1.4136495779368077, 3.035033212402596, 4.290226487115323, 4.94184643854307, 5.244391933134368, 5.551625476526083, 6.388530200381991, 7.418613154999725, 7.730564362218613, 7.97771036125448, 8.47553010271145, 0.0, 0.6994306210475096, 1.3256771743739073, 1.6818174836756337, 2.288485874301652, 2.943908933878301, 2.959834000388041, 3.895564544900432, 4.392369567027966, 4.392413586149685, 6.490111507368964, 0.0, 0.2838785459417575, 0.7563426093256781, 1.3763329120616077, 1.4204708540486957, 1.4259136703988944, 1.5138217978819462, 2.385020210723803, 2.6003640837787447, 3.020964379820193, 3.915051494827644, 5.027622398492141, 5.5827817111947216, 5.712995928750497, 5.896860435885712, 6.000582174741457, 0.0, 1.1510562346380089, 1.632233046702661, 2.39075821070534, 2.5346985440522136, 2.546964167350211, 3.0298783647883454, 3.123553195066624, 3.654702032276985, 3.8473407759849967, 4.877972664217913, 5.900302983737757, 5.9848432456271246, 6.083237097714898, 6.169064599246815, 6.509755413132313, 6.520589234194811, 6.785436938947801, 6.852231915855447, 6.981337488616799, 7.1242866268444685, 7.144741805177626, 0.0, 1.6253625883164085, 3.063194569796434, 3.7530308439901714, 3.8157386125489303, 4.169351707639659, 4.517035758226521, 5.465132053096744, 5.587476637683494, 5.591071044534812, 6.525862266568588, 6.65270430218439, 8.448752028463863, 8.727945713449948, 0.0, 1.4743910149984647, 2.5415129299937327, 2.9905309215163864, 3.010117844708608, 3.7650074860235994, 4.316789201495543, 4.430906391132521, 5.40591195720214, 7.155820575359687, 7.172595302915127, 7.180862688777864, 9.31313432858581, 9.317486244449746, 9.752244066816083, 0.0, 0.8326969862476582, 1.3992468351683278, 1.4837170208597434, 1.6895603029431352, 1.814788730600441, 1.892018985430216, 1.9024617304753817, 2.1248824943707607, 2.5463662697568226, 3.468345430804433, 5.373155013745105, 8.944819102496414, 9.328893509371513, 11.072111940227394, 0.0, 0.3186871259510931, 1.0539597220204775, 1.3174628417470091, 1.4958662483908431, 1.754418673716852, 2.224171198299894, 2.325748084803772, 3.4907133475096663, 4.2191093104010635, 4.3454857721223545, 4.754061681304093, 0.0, 4.252828268320193, 6.112542426433561, 7.802749464974104, 8.548968011316918, 8.711602954363286, 8.717358115214223, 9.091407966349385, 9.493459854985444, 10.078575782550805, 10.371442886663038, 11.53756406495768, 12.724034207759338, 12.98666029833551, 12.992881931920117, 13.502200356972587, 14.617790540147706, 15.479585907950367, 15.917658301989427, 17.391949304096233, 0.0, 0.06884688513545352, 0.699482008105856, 0.8555304073384322, 1.9851113723232048, 3.2491477957038266, 4.182139015193662, 5.61367884475696, 5.6410613791252215, 0.0, 0.22078356650128814, 0.6922519455252333, 1.633978540477432, 1.6545437462279289, 4.485233530425704, 6.257030007047041, 8.017433075998898, 8.318960495041686, 0.0, 0.9648260116882698, 1.057320538567378, 1.1674499618042733, 1.4525200696601288, 1.4985105772365246, 1.6345898396753518, 1.772556643169038, 2.0204183694122366, 2.1878212651065967, 3.5561635234299125, 3.687897335664608, 3.8618417402708034, 4.5632880821576105, 4.858764446072764, 4.878326687016314, 5.0785378356869675, 5.11511312182995, 5.115481745129415, 6.513370881971391, 0.0, 0.03795807479844605, 0.41952494540710705, 0.42626557714448415, 1.8876035240765745, 2.444169735608849, 2.7973042283096783, 2.936480881394673, 4.317345860820707, 4.388082808702976, 4.8574282172792485, 5.558380912795704, 7.797009633659503, 8.421330673431267, 9.141926348585791, 10.637184487566225, 11.154525522393048, 0.0, 1.5262897575972638, 2.1402725323180225, 2.167415915950437, 2.208677290923552, 2.3599115662826757, 3.5161363815997326, 3.6293700097494255, 4.243254683487261, 5.63346064238967, 5.677220975953207, 5.870708340133662, 5.882743084617863, 6.14382672907836, 0.0, 2.9877662015184296, 7.961758332498933, 8.274711959119843, 8.611066033064299, 8.668881058463262, 8.699879900912425, 9.653516425436118, 11.626179475227584, 11.63829806537557, 11.935198933965347, 11.93613061712283, 12.319141038942654, 13.05052079684909, 0.0, 0.9107279429758196, 1.4969198381324924, 1.5784479860313347, 2.8821247052389305, 3.462881182045912, 4.280750254479878, 4.616441453030793, 4.7737499002918415, 5.58615959793635, 5.959381378195546, 7.451051360353015, 8.728259562823462, 8.735698388628046, 9.15860804320746, 0.0, 0.2856210976285242, 1.0764280572595388, 1.4451592936386746, 2.700539690268985, 2.812896833551244, 3.2110679750925346, 4.51476184401124, 5.566910449310647, 7.933384795672373, 7.952154653728499, 8.226556729281036, 0.0, 0.7104604989382522, 1.0003858579103628, 1.3665434253732722, 2.1851258629710744, 2.189052279681937, 2.7091081048979064, 2.8189106172298404, 0.0, 0.04250222942865069, 1.3068196219248378, 1.3647991753398712, 1.6093250552442138, 2.1883860388290306, 2.191728224806012, 3.5497646803233622, 0.0, 0.27590867859443235, 0.7082394970626724, 3.025154290761884, 3.078193676553925, 3.280713749059227, 3.2830283777418976, 3.4997880949625544, 3.7795539445918767, 3.891209540123519, 3.9953359016712904, 4.669054621004558, 5.144146162133036, 5.870144368015209, 6.230933323644626, 6.466883685020636, 6.512982453064452, 6.567252174976675, 6.77094451073522, 0.0, 0.100318757524668, 0.1543462878206685, 0.4345942575830593, 0.4841017693808861, 0.6404646804875055, 0.7730867299898923, 1.7900361593485203, 2.003868988389529, 2.061806039772886, 2.092549984053341, 2.202536574595231, 2.5072209792123448, 2.6075329269449767, 3.6016209913091974, 3.6725079637322735, 4.595650197549695, 8.003561816543161, 9.166384385427955, 9.601165714209143, 10.651995116987386, 10.906016672996637, 11.281530310658374, 13.797671708750356, 14.353627146829824, 0.0, 0.19695823581784933, 0.4566968958866674, 0.5667394100701821, 0.6545676724521861, 1.5213496644308495, 1.8789789986356444, 2.130578686101973, 3.461190366868659, 3.5232659903671344, 3.6870652300744178]}],                        {\"legend\": {\"tracegroupgap\": 0}, \"margin\": {\"t\": 60}, \"scene\": {\"domain\": {\"x\": [0.0, 1.0], \"y\": [0.0, 1.0]}, \"xaxis\": {\"title\": {\"text\": \"x\"}}, \"yaxis\": {\"title\": {\"text\": \"y\"}}, \"zaxis\": {\"title\": {\"text\": \"z\"}}}, \"template\": {\"data\": {\"bar\": [{\"error_x\": {\"color\": \"#2a3f5f\"}, \"error_y\": {\"color\": \"#2a3f5f\"}, \"marker\": {\"line\": {\"color\": \"#E5ECF6\", \"width\": 0.5}}, \"type\": \"bar\"}], \"barpolar\": [{\"marker\": {\"line\": {\"color\": \"#E5ECF6\", \"width\": 0.5}}, \"type\": \"barpolar\"}], \"carpet\": [{\"aaxis\": {\"endlinecolor\": \"#2a3f5f\", \"gridcolor\": \"white\", \"linecolor\": \"white\", \"minorgridcolor\": \"white\", \"startlinecolor\": \"#2a3f5f\"}, \"baxis\": {\"endlinecolor\": \"#2a3f5f\", \"gridcolor\": \"white\", \"linecolor\": \"white\", \"minorgridcolor\": \"white\", \"startlinecolor\": \"#2a3f5f\"}, \"type\": \"carpet\"}], \"choropleth\": [{\"colorbar\": {\"outlinewidth\": 0, \"ticks\": \"\"}, \"type\": \"choropleth\"}], \"contour\": [{\"colorbar\": {\"outlinewidth\": 0, \"ticks\": \"\"}, \"colorscale\": [[0.0, \"#0d0887\"], [0.1111111111111111, \"#46039f\"], [0.2222222222222222, \"#7201a8\"], [0.3333333333333333, \"#9c179e\"], [0.4444444444444444, \"#bd3786\"], [0.5555555555555556, \"#d8576b\"], [0.6666666666666666, \"#ed7953\"], [0.7777777777777778, \"#fb9f3a\"], [0.8888888888888888, \"#fdca26\"], [1.0, \"#f0f921\"]], \"type\": \"contour\"}], \"contourcarpet\": [{\"colorbar\": {\"outlinewidth\": 0, \"ticks\": \"\"}, \"type\": \"contourcarpet\"}], \"heatmap\": [{\"colorbar\": {\"outlinewidth\": 0, \"ticks\": \"\"}, \"colorscale\": [[0.0, \"#0d0887\"], [0.1111111111111111, \"#46039f\"], [0.2222222222222222, \"#7201a8\"], [0.3333333333333333, \"#9c179e\"], [0.4444444444444444, \"#bd3786\"], [0.5555555555555556, \"#d8576b\"], [0.6666666666666666, \"#ed7953\"], [0.7777777777777778, \"#fb9f3a\"], [0.8888888888888888, \"#fdca26\"], [1.0, \"#f0f921\"]], \"type\": \"heatmap\"}], \"heatmapgl\": [{\"colorbar\": {\"outlinewidth\": 0, \"ticks\": \"\"}, \"colorscale\": [[0.0, \"#0d0887\"], [0.1111111111111111, \"#46039f\"], [0.2222222222222222, \"#7201a8\"], [0.3333333333333333, \"#9c179e\"], [0.4444444444444444, \"#bd3786\"], [0.5555555555555556, \"#d8576b\"], [0.6666666666666666, \"#ed7953\"], [0.7777777777777778, \"#fb9f3a\"], [0.8888888888888888, \"#fdca26\"], [1.0, \"#f0f921\"]], \"type\": \"heatmapgl\"}], \"histogram\": [{\"marker\": {\"colorbar\": {\"outlinewidth\": 0, \"ticks\": \"\"}}, \"type\": \"histogram\"}], \"histogram2d\": [{\"colorbar\": {\"outlinewidth\": 0, \"ticks\": \"\"}, \"colorscale\": [[0.0, \"#0d0887\"], [0.1111111111111111, \"#46039f\"], [0.2222222222222222, \"#7201a8\"], [0.3333333333333333, \"#9c179e\"], [0.4444444444444444, \"#bd3786\"], [0.5555555555555556, \"#d8576b\"], [0.6666666666666666, \"#ed7953\"], [0.7777777777777778, \"#fb9f3a\"], [0.8888888888888888, \"#fdca26\"], [1.0, \"#f0f921\"]], \"type\": \"histogram2d\"}], \"histogram2dcontour\": [{\"colorbar\": {\"outlinewidth\": 0, \"ticks\": \"\"}, \"colorscale\": [[0.0, \"#0d0887\"], [0.1111111111111111, \"#46039f\"], [0.2222222222222222, \"#7201a8\"], [0.3333333333333333, \"#9c179e\"], [0.4444444444444444, \"#bd3786\"], [0.5555555555555556, \"#d8576b\"], [0.6666666666666666, \"#ed7953\"], [0.7777777777777778, \"#fb9f3a\"], [0.8888888888888888, \"#fdca26\"], [1.0, \"#f0f921\"]], \"type\": \"histogram2dcontour\"}], \"mesh3d\": [{\"colorbar\": {\"outlinewidth\": 0, \"ticks\": \"\"}, \"type\": \"mesh3d\"}], \"parcoords\": [{\"line\": {\"colorbar\": {\"outlinewidth\": 0, \"ticks\": \"\"}}, \"type\": \"parcoords\"}], \"pie\": [{\"automargin\": true, \"type\": \"pie\"}], \"scatter\": [{\"marker\": {\"colorbar\": {\"outlinewidth\": 0, \"ticks\": \"\"}}, \"type\": \"scatter\"}], \"scatter3d\": [{\"line\": {\"colorbar\": {\"outlinewidth\": 0, \"ticks\": \"\"}}, \"marker\": {\"colorbar\": {\"outlinewidth\": 0, \"ticks\": \"\"}}, \"type\": \"scatter3d\"}], \"scattercarpet\": [{\"marker\": {\"colorbar\": {\"outlinewidth\": 0, \"ticks\": \"\"}}, \"type\": \"scattercarpet\"}], \"scattergeo\": [{\"marker\": {\"colorbar\": {\"outlinewidth\": 0, \"ticks\": \"\"}}, \"type\": \"scattergeo\"}], \"scattergl\": [{\"marker\": {\"colorbar\": {\"outlinewidth\": 0, \"ticks\": \"\"}}, \"type\": \"scattergl\"}], \"scattermapbox\": [{\"marker\": {\"colorbar\": {\"outlinewidth\": 0, \"ticks\": \"\"}}, \"type\": \"scattermapbox\"}], \"scatterpolar\": [{\"marker\": {\"colorbar\": {\"outlinewidth\": 0, \"ticks\": \"\"}}, \"type\": \"scatterpolar\"}], \"scatterpolargl\": [{\"marker\": {\"colorbar\": {\"outlinewidth\": 0, \"ticks\": \"\"}}, \"type\": \"scatterpolargl\"}], \"scatterternary\": [{\"marker\": {\"colorbar\": {\"outlinewidth\": 0, \"ticks\": \"\"}}, \"type\": \"scatterternary\"}], \"surface\": [{\"colorbar\": {\"outlinewidth\": 0, \"ticks\": \"\"}, \"colorscale\": [[0.0, \"#0d0887\"], [0.1111111111111111, \"#46039f\"], [0.2222222222222222, \"#7201a8\"], [0.3333333333333333, \"#9c179e\"], [0.4444444444444444, \"#bd3786\"], [0.5555555555555556, \"#d8576b\"], [0.6666666666666666, \"#ed7953\"], [0.7777777777777778, \"#fb9f3a\"], [0.8888888888888888, \"#fdca26\"], [1.0, \"#f0f921\"]], \"type\": \"surface\"}], \"table\": [{\"cells\": {\"fill\": {\"color\": \"#EBF0F8\"}, \"line\": {\"color\": \"white\"}}, \"header\": {\"fill\": {\"color\": \"#C8D4E3\"}, \"line\": {\"color\": \"white\"}}, \"type\": \"table\"}]}, \"layout\": {\"annotationdefaults\": {\"arrowcolor\": \"#2a3f5f\", \"arrowhead\": 0, \"arrowwidth\": 1}, \"autotypenumbers\": \"strict\", \"coloraxis\": {\"colorbar\": {\"outlinewidth\": 0, \"ticks\": \"\"}}, \"colorscale\": {\"diverging\": [[0, \"#8e0152\"], [0.1, \"#c51b7d\"], [0.2, \"#de77ae\"], [0.3, \"#f1b6da\"], [0.4, \"#fde0ef\"], [0.5, \"#f7f7f7\"], [0.6, \"#e6f5d0\"], [0.7, \"#b8e186\"], [0.8, \"#7fbc41\"], [0.9, \"#4d9221\"], [1, \"#276419\"]], \"sequential\": [[0.0, \"#0d0887\"], [0.1111111111111111, \"#46039f\"], [0.2222222222222222, \"#7201a8\"], [0.3333333333333333, \"#9c179e\"], [0.4444444444444444, \"#bd3786\"], [0.5555555555555556, \"#d8576b\"], [0.6666666666666666, \"#ed7953\"], [0.7777777777777778, \"#fb9f3a\"], [0.8888888888888888, \"#fdca26\"], [1.0, \"#f0f921\"]], \"sequentialminus\": [[0.0, \"#0d0887\"], [0.1111111111111111, \"#46039f\"], [0.2222222222222222, \"#7201a8\"], [0.3333333333333333, \"#9c179e\"], [0.4444444444444444, \"#bd3786\"], [0.5555555555555556, \"#d8576b\"], [0.6666666666666666, \"#ed7953\"], [0.7777777777777778, \"#fb9f3a\"], [0.8888888888888888, \"#fdca26\"], [1.0, \"#f0f921\"]]}, \"colorway\": [\"#636efa\", \"#EF553B\", \"#00cc96\", \"#ab63fa\", \"#FFA15A\", \"#19d3f3\", \"#FF6692\", \"#B6E880\", \"#FF97FF\", \"#FECB52\"], \"font\": {\"color\": \"#2a3f5f\"}, \"geo\": {\"bgcolor\": \"white\", \"lakecolor\": \"white\", \"landcolor\": \"#E5ECF6\", \"showlakes\": true, \"showland\": true, \"subunitcolor\": \"white\"}, \"hoverlabel\": {\"align\": \"left\"}, \"hovermode\": \"closest\", \"mapbox\": {\"style\": \"light\"}, \"paper_bgcolor\": \"white\", \"plot_bgcolor\": \"#E5ECF6\", \"polar\": {\"angularaxis\": {\"gridcolor\": \"white\", \"linecolor\": \"white\", \"ticks\": \"\"}, \"bgcolor\": \"#E5ECF6\", \"radialaxis\": {\"gridcolor\": \"white\", \"linecolor\": \"white\", \"ticks\": \"\"}}, \"scene\": {\"xaxis\": {\"backgroundcolor\": \"#E5ECF6\", \"gridcolor\": \"white\", \"gridwidth\": 2, \"linecolor\": \"white\", \"showbackground\": true, \"ticks\": \"\", \"zerolinecolor\": \"white\"}, \"yaxis\": {\"backgroundcolor\": \"#E5ECF6\", \"gridcolor\": \"white\", \"gridwidth\": 2, \"linecolor\": \"white\", \"showbackground\": true, \"ticks\": \"\", \"zerolinecolor\": \"white\"}, \"zaxis\": {\"backgroundcolor\": \"#E5ECF6\", \"gridcolor\": \"white\", \"gridwidth\": 2, \"linecolor\": \"white\", \"showbackground\": true, \"ticks\": \"\", \"zerolinecolor\": \"white\"}}, \"shapedefaults\": {\"line\": {\"color\": \"#2a3f5f\"}}, \"ternary\": {\"aaxis\": {\"gridcolor\": \"white\", \"linecolor\": \"white\", \"ticks\": \"\"}, \"baxis\": {\"gridcolor\": \"white\", \"linecolor\": \"white\", \"ticks\": \"\"}, \"bgcolor\": \"#E5ECF6\", \"caxis\": {\"gridcolor\": \"white\", \"linecolor\": \"white\", \"ticks\": \"\"}}, \"title\": {\"x\": 0.05}, \"xaxis\": {\"automargin\": true, \"gridcolor\": \"white\", \"linecolor\": \"white\", \"ticks\": \"\", \"title\": {\"standoff\": 15}, \"zerolinecolor\": \"white\", \"zerolinewidth\": 2}, \"yaxis\": {\"automargin\": true, \"gridcolor\": \"white\", \"linecolor\": \"white\", \"ticks\": \"\", \"title\": {\"standoff\": 15}, \"zerolinecolor\": \"white\", \"zerolinewidth\": 2}}}},                        {\"responsive\": true}                    ).then(function(){\n",
       "                            \n",
       "var gd = document.getElementById('fca378e0-708c-4a3f-a346-26966e340884');\n",
       "var x = new MutationObserver(function (mutations, observer) {{\n",
       "        var display = window.getComputedStyle(gd).display;\n",
       "        if (!display || display === 'none') {{\n",
       "            console.log([gd, 'removed!']);\n",
       "            Plotly.purge(gd);\n",
       "            observer.disconnect();\n",
       "        }}\n",
       "}});\n",
       "\n",
       "// Listen for the removal of the full notebook cells\n",
       "var notebookContainer = gd.closest('#notebook-container');\n",
       "if (notebookContainer) {{\n",
       "    x.observe(notebookContainer, {childList: true});\n",
       "}}\n",
       "\n",
       "// Listen for the clearing of the current output cell\n",
       "var outputEl = gd.closest('.output');\n",
       "if (outputEl) {{\n",
       "    x.observe(outputEl, {childList: true});\n",
       "}}\n",
       "\n",
       "                        })                };                });            </script>        </div>"
      ]
     },
     "metadata": {},
     "output_type": "display_data"
    }
   ],
   "source": [
    "fig = px.line_3d(lineDF, x=\"x\", y=\"y\", z=\"z\", hover_name=\"particle\")#, color='spectral')\n",
    "#                  symbol=\"score\")#, color_discrete_map = {\"Joly\": \"blue\", \"Bergeron\": \"green\", \"Coderre\":\"red\"})\n",
    "fig.show()"
   ]
  },
  {
   "cell_type": "code",
   "execution_count": 70,
   "id": "subjective-boundary",
   "metadata": {},
   "outputs": [
    {
     "data": {
      "application/vnd.plotly.v1+json": {
       "config": {
        "plotlyServerURL": "https://plot.ly"
       },
       "data": [
        {
         "hovertemplate": "<b>%{hovertext}</b><br><br>particle=1<br>x=%{x}<br>y=%{y}<br>z=%{z}<extra></extra>",
         "hovertext": [
          1,
          1,
          1,
          1,
          1,
          1,
          1,
          1,
          1,
          1,
          1,
          1,
          1,
          1,
          1
         ],
         "ids": [
          "6",
          "6",
          "6",
          "6",
          "6",
          "6",
          "6",
          "6",
          "6",
          "6",
          "6",
          "6",
          "6",
          "6",
          "6"
         ],
         "legendgroup": "",
         "line": {
          "color": "#636efa",
          "dash": "solid"
         },
         "mode": "lines",
         "name": "",
         "scene": "scene",
         "showlegend": false,
         "type": "scatter3d",
         "x": [
          0,
          0,
          -0.12016467406302413,
          -0.186019578152938,
          -0.34769175556103066,
          -1.1186753956045128,
          -1.358032122656638,
          -1.9120514933151056,
          -3.034136400750428,
          -3.0502171814509134,
          -3.542327982914184,
          -3.680439708747429,
          -3.5681975877082497,
          -3.5125693432931286,
          3.553459562457756
         ],
         "y": [
          0,
          0,
          0.011495905282586007,
          -0.16331128319918964,
          -0.4900556125538286,
          -0.8471411003223246,
          -0.7955122014028477,
          -0.07063827133085158,
          0.24168901282607055,
          0.8453300533588542,
          2.4626393055504345,
          5.183022328884782,
          5.273949810155369,
          5.402051508685895,
          9.101468899944836
         ],
         "z": [
          0,
          0.9023538087836064,
          1.2102272784223511,
          1.3224218270648147,
          1.448690531654036,
          1.9048613882174357,
          2.221135550507955,
          2.3350480330125283,
          2.417812654678403,
          2.6296112453630505,
          3.0498108798938657,
          5.803809488656412,
          5.876194553960496,
          6.0709096975617,
          7.22841622577697
         ]
        }
       ],
       "frames": [
        {
         "data": [
          {
           "hovertemplate": "<b>%{hovertext}</b><br><br>particle=1<br>x=%{x}<br>y=%{y}<br>z=%{z}<extra></extra>",
           "hovertext": [
            1,
            1,
            1,
            1,
            1,
            1,
            1,
            1,
            1,
            1,
            1,
            1,
            1,
            1,
            1
           ],
           "ids": [
            "6",
            "6",
            "6",
            "6",
            "6",
            "6",
            "6",
            "6",
            "6",
            "6",
            "6",
            "6",
            "6",
            "6",
            "6"
           ],
           "legendgroup": "",
           "line": {
            "color": "#636efa",
            "dash": "solid"
           },
           "mode": "lines",
           "name": "",
           "scene": "scene",
           "showlegend": false,
           "type": "scatter3d",
           "x": [
            0,
            0,
            -0.12016467406302413,
            -0.186019578152938,
            -0.34769175556103066,
            -1.1186753956045128,
            -1.358032122656638,
            -1.9120514933151056,
            -3.034136400750428,
            -3.0502171814509134,
            -3.542327982914184,
            -3.680439708747429,
            -3.5681975877082497,
            -3.5125693432931286,
            3.553459562457756
           ],
           "y": [
            0,
            0,
            0.011495905282586007,
            -0.16331128319918964,
            -0.4900556125538286,
            -0.8471411003223246,
            -0.7955122014028477,
            -0.07063827133085158,
            0.24168901282607055,
            0.8453300533588542,
            2.4626393055504345,
            5.183022328884782,
            5.273949810155369,
            5.402051508685895,
            9.101468899944836
           ],
           "z": [
            0,
            0.9023538087836064,
            1.2102272784223511,
            1.3224218270648147,
            1.448690531654036,
            1.9048613882174357,
            2.221135550507955,
            2.3350480330125283,
            2.417812654678403,
            2.6296112453630505,
            3.0498108798938657,
            5.803809488656412,
            5.876194553960496,
            6.0709096975617,
            7.22841622577697
           ]
          }
         ],
         "name": "1"
        },
        {
         "data": [
          {
           "hovertemplate": "<b>%{hovertext}</b><br><br>particle=2<br>x=%{x}<br>y=%{y}<br>z=%{z}<extra></extra>",
           "hovertext": [
            2,
            2,
            2,
            2,
            2,
            2,
            2,
            2,
            2,
            2,
            2,
            2
           ],
           "ids": [
            "6",
            "6",
            "6",
            "6",
            "6",
            "6",
            "6",
            "6",
            "6",
            "6",
            "6",
            "6"
           ],
           "legendgroup": "",
           "line": {
            "color": "#636efa",
            "dash": "solid"
           },
           "mode": "lines",
           "name": "",
           "scene": "scene",
           "showlegend": false,
           "type": "scatter3d",
           "x": [
            0,
            0,
            -0.3656768236202069,
            0.6198896898694943,
            1.0053214599402815,
            1.0552326117697737,
            1.4136289157380224,
            2.143763683486817,
            2.580801231159802,
            3.0007012492849774,
            4.120964600300464,
            4.572993260281674
           ],
           "y": [
            0,
            0,
            -0.7717957679628221,
            -2.3062222864081763,
            -2.721321963478999,
            -2.722241322855921,
            -2.8035509052144216,
            -2.2976426895148667,
            -2.387489048648991,
            -2.0917512617608947,
            -1.944945510094668,
            -0.625635209776124
           ],
           "z": [
            0,
            2.0494244277317955,
            3.1004307800633955,
            3.2466839111776955,
            3.709374439157091,
            3.712231011351832,
            3.932280415964637,
            4.088111776968157,
            4.097892041261264,
            4.472496770799494,
            4.603162195200198,
            4.821951903274121
           ]
          }
         ],
         "name": "2"
        },
        {
         "data": [
          {
           "hovertemplate": "<b>%{hovertext}</b><br><br>particle=3<br>x=%{x}<br>y=%{y}<br>z=%{z}<extra></extra>",
           "hovertext": [
            3,
            3,
            3,
            3,
            3,
            3,
            3,
            3,
            3,
            3,
            3,
            3
           ],
           "ids": [
            "6",
            "6",
            "6",
            "6",
            "6",
            "6",
            "6",
            "6",
            "6",
            "6",
            "6",
            "6"
           ],
           "legendgroup": "",
           "line": {
            "color": "#636efa",
            "dash": "solid"
           },
           "mode": "lines",
           "name": "",
           "scene": "scene",
           "showlegend": false,
           "type": "scatter3d",
           "x": [
            0,
            0,
            0.25106081830405835,
            0.9075696107943948,
            0.9838182384258785,
            1.0958508913460372,
            1.1560896822896096,
            1.5381142889985118,
            0.46323247199586,
            1.3712546291361312,
            1.390207392403643,
            1.4471206522963938
           ],
           "y": [
            0,
            0,
            0.4515184646653459,
            0.5430979015420727,
            0.8170184948466246,
            0.8138320409737461,
            0.8478330697141317,
            1.741318526999774,
            2.6867940921653,
            3.4831827943948106,
            3.531927215542411,
            3.9130638294918234
           ],
           "z": [
            0,
            0.1663868269808662,
            0.720422086197333,
            1.7142610542431365,
            1.9256261170479831,
            1.9822273758930864,
            1.9897572923916915,
            2.970398487585227,
            4.075701053906164,
            6.531947590793542,
            6.623272219725171,
            6.740458512439326
           ]
          }
         ],
         "name": "3"
        },
        {
         "data": [
          {
           "hovertemplate": "<b>%{hovertext}</b><br><br>particle=4<br>x=%{x}<br>y=%{y}<br>z=%{z}<extra></extra>",
           "hovertext": [
            4,
            4,
            4,
            4,
            4,
            4,
            4,
            4,
            4,
            4,
            4,
            4,
            4,
            4,
            4
           ],
           "ids": [
            "6",
            "6",
            "6",
            "6",
            "6",
            "6",
            "6",
            "6",
            "6",
            "6",
            "6",
            "6",
            "6",
            "6",
            "6"
           ],
           "legendgroup": "",
           "line": {
            "color": "#636efa",
            "dash": "solid"
           },
           "mode": "lines",
           "name": "",
           "scene": "scene",
           "showlegend": false,
           "type": "scatter3d",
           "x": [
            0,
            0,
            0.05034756368659792,
            1.9605207837562224,
            1.9851582369545673,
            2.0559115165195294,
            2.289350693373147,
            2.289139344747428,
            1.5249095279982463,
            0.6750213984258129,
            0.1628289848933328,
            -0.13596504188215194,
            -1.7628982462668863,
            -2.999473537082832,
            -2.9857584490047246
           ],
           "y": [
            0,
            0,
            0.009003262840474424,
            0.5766794162960789,
            0.7780616339830694,
            1.0071522582584356,
            1.358577534037508,
            1.3597441864877964,
            1.7444683870139182,
            1.272336246084829,
            0.22543806347045625,
            0.2211239604362908,
            -0.04463126861806922,
            1.1316460734947251,
            1.1527730387991038
           ],
           "z": [
            0,
            3.0556574659233138,
            3.1132695349028703,
            3.6674876902979983,
            3.794232297878666,
            3.810760916632992,
            3.965687831147216,
            3.966006682341928,
            4.000028485734364,
            4.398559790347467,
            4.789235672388222,
            4.869042853928828,
            5.8836573602383515,
            6.55889149778447,
            6.599758624938022
           ]
          }
         ],
         "name": "4"
        },
        {
         "data": [
          {
           "hovertemplate": "<b>%{hovertext}</b><br><br>particle=5<br>x=%{x}<br>y=%{y}<br>z=%{z}<extra></extra>",
           "hovertext": [
            5,
            5,
            5,
            5,
            5,
            5,
            5,
            5,
            5,
            5,
            5,
            5,
            5
           ],
           "ids": [
            "6",
            "6",
            "6",
            "6",
            "6",
            "6",
            "6",
            "6",
            "6",
            "6",
            "6",
            "6",
            "6"
           ],
           "legendgroup": "",
           "line": {
            "color": "#636efa",
            "dash": "solid"
           },
           "mode": "lines",
           "name": "",
           "scene": "scene",
           "showlegend": false,
           "type": "scatter3d",
           "x": [
            0,
            0,
            -0.27571696298744386,
            -0.39661969160244853,
            0.4573254013964052,
            0.6636867801504907,
            1.1496449911057145,
            1.2477038635164546,
            2.087834825152004,
            2.1933829332689125,
            2.3988071942964884,
            2.5502232802184683,
            2.5072300195659207
           ],
           "y": [
            0,
            0,
            2.5003276477555216,
            2.4308178876068705,
            1.5924554515446547,
            1.6715667896288533,
            1.885531673035782,
            1.7934614071351345,
            1.420077518559092,
            1.1974843879862809,
            0.986354460934585,
            0.09862346901590896,
            0.08405251548062516
           ],
           "z": [
            0,
            0.16143306634020355,
            3.567256776158484,
            4.785235784917569,
            5.34383906020584,
            5.427431213725101,
            5.471839038646859,
            5.503200352292626,
            6.581867175677126,
            7.438417071237053,
            7.564512093637779,
            7.650100277922861,
            7.65094012796583
           ]
          }
         ],
         "name": "5"
        },
        {
         "data": [
          {
           "hovertemplate": "<b>%{hovertext}</b><br><br>particle=6<br>x=%{x}<br>y=%{y}<br>z=%{z}<extra></extra>",
           "hovertext": [
            6,
            6,
            6,
            6,
            6,
            6,
            6,
            6,
            6,
            6,
            6
           ],
           "ids": [
            "6",
            "6",
            "6",
            "6",
            "6",
            "6",
            "6",
            "6",
            "6",
            "6",
            "6"
           ],
           "legendgroup": "",
           "line": {
            "color": "#636efa",
            "dash": "solid"
           },
           "mode": "lines",
           "name": "",
           "scene": "scene",
           "showlegend": false,
           "type": "scatter3d",
           "x": [
            0,
            0,
            -0.027386003339725174,
            -0.2422416953596083,
            -0.4094507643743335,
            -0.17548747072756832,
            1.0884476073441165,
            1.49300071558097,
            1.5846576099476393,
            1.784817740813106,
            3.508362910506636
           ],
           "y": [
            0,
            0,
            -0.4657923897242534,
            -0.5341029494324049,
            -1.2574241444960694,
            -1.27040398813767,
            -1.308108404177316,
            -1.3143232554183135,
            -1.2805962996240394,
            -1.2713186239932093,
            -0.5668009294505102
           ],
           "z": [
            0,
            1.4380321340885789,
            2.3873283361301887,
            2.5966108933639647,
            3.123886385196279,
            3.4250409178486727,
            3.5573955955702523,
            4.243367849234549,
            4.53740060909759,
            4.680269977785797,
            6.3032179697193165
           ]
          }
         ],
         "name": "6"
        },
        {
         "data": [
          {
           "hovertemplate": "<b>%{hovertext}</b><br><br>particle=7<br>x=%{x}<br>y=%{y}<br>z=%{z}<extra></extra>",
           "hovertext": [
            7,
            7,
            7,
            7,
            7,
            7,
            7,
            7,
            7,
            7,
            7,
            7,
            7,
            7,
            7,
            7
           ],
           "ids": [
            "6",
            "6",
            "6",
            "6",
            "6",
            "6",
            "6",
            "6",
            "6",
            "6",
            "6",
            "6",
            "6",
            "6",
            "6",
            "6"
           ],
           "legendgroup": "",
           "line": {
            "color": "#636efa",
            "dash": "solid"
           },
           "mode": "lines",
           "name": "",
           "scene": "scene",
           "showlegend": false,
           "type": "scatter3d",
           "x": [
            0,
            0,
            -1.9358351332379768,
            -2.565417112484212,
            -2.570135465191152,
            -2.304735080380554,
            0.4929607228590863,
            0.7694708045714302,
            1.4552873011014773,
            1.7979459868132854,
            1.8121957734012453,
            2.2117966544547683,
            2.9927124337021955,
            3.138627812274653,
            3.948450195326272,
            4.134967601247856
           ],
           "y": [
            0,
            0,
            -1.4356262055881208,
            -2.7745394371438405,
            -3.0626065407909837,
            -3.49158990170215,
            -5.756090626205294,
            -9.271420968967009,
            -9.9343561493292,
            -11.48453560578008,
            -11.911801900617965,
            -11.819015580045388,
            -11.66326731895027,
            -11.775792167984912,
            -12.029076746324732,
            -12.043521986683151
           ],
           "z": [
            0,
            0.14680773637226768,
            0.8230071223116434,
            1.252093994538947,
            1.3652636267906726,
            1.4136495779368077,
            3.035033212402596,
            4.290226487115323,
            4.94184643854307,
            5.244391933134368,
            5.551625476526083,
            6.388530200381991,
            7.418613154999725,
            7.730564362218613,
            7.97771036125448,
            8.47553010271145
           ]
          }
         ],
         "name": "7"
        },
        {
         "data": [
          {
           "hovertemplate": "<b>%{hovertext}</b><br><br>particle=8<br>x=%{x}<br>y=%{y}<br>z=%{z}<extra></extra>",
           "hovertext": [
            8,
            8,
            8,
            8,
            8,
            8,
            8,
            8,
            8,
            8,
            8
           ],
           "ids": [
            "6",
            "6",
            "6",
            "6",
            "6",
            "6",
            "6",
            "6",
            "6",
            "6",
            "6"
           ],
           "legendgroup": "",
           "line": {
            "color": "#636efa",
            "dash": "solid"
           },
           "mode": "lines",
           "name": "",
           "scene": "scene",
           "showlegend": false,
           "type": "scatter3d",
           "x": [
            0,
            0,
            1.1176125628754916,
            1.1680722114128894,
            1.4789697850128505,
            1.2946200087665676,
            1.3439500024998017,
            2.5085193861286728,
            2.0752270599713585,
            2.0418725006113947,
            0.907878018278294
           ],
           "y": [
            0,
            0,
            -0.16468554022956353,
            0.33269799845638875,
            0.460307518000333,
            -0.03828919200245149,
            -0.06604189555908392,
            -1.4422781523416892,
            -1.6761891167536545,
            -1.6812477700453805,
            -1.2657619773144593
           ],
           "z": [
            0,
            0.6994306210475096,
            1.3256771743739073,
            1.6818174836756337,
            2.288485874301652,
            2.943908933878301,
            2.959834000388041,
            3.895564544900432,
            4.392369567027966,
            4.392413586149685,
            6.490111507368964
           ]
          }
         ],
         "name": "8"
        },
        {
         "data": [
          {
           "hovertemplate": "<b>%{hovertext}</b><br><br>particle=9<br>x=%{x}<br>y=%{y}<br>z=%{z}<extra></extra>",
           "hovertext": [
            9,
            9,
            9,
            9,
            9,
            9,
            9,
            9,
            9,
            9,
            9,
            9,
            9,
            9,
            9,
            9
           ],
           "ids": [
            "6",
            "6",
            "6",
            "6",
            "6",
            "6",
            "6",
            "6",
            "6",
            "6",
            "6",
            "6",
            "6",
            "6",
            "6",
            "6"
           ],
           "legendgroup": "",
           "line": {
            "color": "#636efa",
            "dash": "solid"
           },
           "mode": "lines",
           "name": "",
           "scene": "scene",
           "showlegend": false,
           "type": "scatter3d",
           "x": [
            0,
            0,
            -0.503860418771476,
            -0.9087947510007576,
            -1.0110384020699057,
            -1.0487688575450702,
            -0.7034774527018473,
            -0.4813137935236709,
            -0.671240124784698,
            -0.019043740576763654,
            -0.9054807446294744,
            -1.6339097853833275,
            -2.536916867129046,
            -2.6773791689079323,
            -2.398592769235066,
            -2.3829283443655687
           ],
           "y": [
            0,
            0,
            0.16030062125055278,
            0.13781200962266035,
            0.1869092959471464,
            0.33635101852545995,
            0.8177789242963925,
            2.7762408818225137,
            3.07572488823736,
            4.046549315569754,
            6.946499472466296,
            7.446361987312273,
            7.541661824393131,
            7.716381787255243,
            8.248114329700286,
            8.793609713133117
           ],
           "z": [
            0,
            0.2838785459417575,
            0.7563426093256781,
            1.3763329120616077,
            1.4204708540486957,
            1.4259136703988944,
            1.5138217978819462,
            2.385020210723803,
            2.6003640837787447,
            3.020964379820193,
            3.915051494827644,
            5.027622398492141,
            5.5827817111947216,
            5.712995928750497,
            5.896860435885712,
            6.000582174741457
           ]
          }
         ],
         "name": "9"
        },
        {
         "data": [
          {
           "hovertemplate": "<b>%{hovertext}</b><br><br>particle=10<br>x=%{x}<br>y=%{y}<br>z=%{z}<extra></extra>",
           "hovertext": [
            10,
            10,
            10,
            10,
            10,
            10,
            10,
            10,
            10,
            10,
            10,
            10,
            10,
            10,
            10,
            10,
            10,
            10,
            10,
            10,
            10,
            10
           ],
           "ids": [
            "6",
            "6",
            "6",
            "6",
            "6",
            "6",
            "6",
            "6",
            "6",
            "6",
            "6",
            "6",
            "6",
            "6",
            "6",
            "6",
            "6",
            "6",
            "6",
            "6",
            "6",
            "6"
           ],
           "legendgroup": "",
           "line": {
            "color": "#636efa",
            "dash": "solid"
           },
           "mode": "lines",
           "name": "",
           "scene": "scene",
           "showlegend": false,
           "type": "scatter3d",
           "x": [
            0,
            0,
            -0.22190149492413647,
            0.0384735024800098,
            0.2403193529598731,
            2.646453208765182,
            3.651836441082241,
            4.596797749229465,
            5.789298020754706,
            9.469776498130269,
            9.447025531802048,
            8.741195976842315,
            8.72953743995006,
            8.895194618972418,
            9.113468605712162,
            9.287749174961922,
            9.304133357762842,
            9.705628911663746,
            9.779466032857203,
            9.785027458867935,
            9.900804825577058,
            10.00251881832803
           ],
           "y": [
            0,
            0,
            0.3962026932107519,
            0.34245303430200813,
            0.1497026534598163,
            0.03014276182445392,
            -0.29812958502797854,
            -0.17167587017855312,
            -0.3073444749639028,
            -3.061721055931652,
            -3.8558683546248975,
            -6.336483895110627,
            -6.391022203595639,
            -6.576762314944047,
            -6.547617562450881,
            -6.188798778324966,
            -6.1819810922113065,
            -6.1489378437655535,
            -6.162053881778584,
            -6.292304300853824,
            -6.340468686566733,
            -6.294829763565001
           ],
           "z": [
            0,
            1.1510562346380089,
            1.632233046702661,
            2.39075821070534,
            2.5346985440522136,
            2.546964167350211,
            3.0298783647883454,
            3.123553195066624,
            3.654702032276985,
            3.8473407759849967,
            4.877972664217913,
            5.900302983737757,
            5.9848432456271246,
            6.083237097714898,
            6.169064599246815,
            6.509755413132313,
            6.520589234194811,
            6.785436938947801,
            6.852231915855447,
            6.981337488616799,
            7.1242866268444685,
            7.144741805177626
           ]
          }
         ],
         "name": "10"
        },
        {
         "data": [
          {
           "hovertemplate": "<b>%{hovertext}</b><br><br>particle=11<br>x=%{x}<br>y=%{y}<br>z=%{z}<extra></extra>",
           "hovertext": [
            11,
            11,
            11,
            11,
            11,
            11,
            11,
            11,
            11,
            11,
            11,
            11,
            11,
            11
           ],
           "ids": [
            "6",
            "6",
            "6",
            "6",
            "6",
            "6",
            "6",
            "6",
            "6",
            "6",
            "6",
            "6",
            "6",
            "6"
           ],
           "legendgroup": "",
           "line": {
            "color": "#636efa",
            "dash": "solid"
           },
           "mode": "lines",
           "name": "",
           "scene": "scene",
           "showlegend": false,
           "type": "scatter3d",
           "x": [
            0,
            0,
            -1.385532437113679,
            -0.9688920137628872,
            -0.8951798876460504,
            0.11028629731228773,
            0.8760593410906563,
            2.2824869325846984,
            2.3103548572306427,
            2.311589684184871,
            2.007218556928504,
            2.1717529285908928,
            3.198499425348996,
            4.447402487164691
           ],
           "y": [
            0,
            0,
            0.365821760552928,
            0.9255065048265028,
            1.0524094544318048,
            1.4134839968792907,
            1.695116453466044,
            2.013060986648,
            2.063945860725812,
            2.065834667984141,
            2.415810014209566,
            2.430689605902604,
            3.9398875615230575,
            4.49282231163235
           ],
           "z": [
            0,
            1.6253625883164085,
            3.063194569796434,
            3.7530308439901714,
            3.8157386125489303,
            4.169351707639659,
            4.517035758226521,
            5.465132053096744,
            5.587476637683494,
            5.591071044534812,
            6.525862266568588,
            6.65270430218439,
            8.448752028463863,
            8.727945713449948
           ]
          }
         ],
         "name": "11"
        },
        {
         "data": [
          {
           "hovertemplate": "<b>%{hovertext}</b><br><br>particle=12<br>x=%{x}<br>y=%{y}<br>z=%{z}<extra></extra>",
           "hovertext": [
            12,
            12,
            12,
            12,
            12,
            12,
            12,
            12,
            12,
            12,
            12,
            12,
            12,
            12,
            12
           ],
           "ids": [
            "6",
            "6",
            "6",
            "6",
            "6",
            "6",
            "6",
            "6",
            "6",
            "6",
            "6",
            "6",
            "6",
            "6",
            "6"
           ],
           "legendgroup": "",
           "line": {
            "color": "#636efa",
            "dash": "solid"
           },
           "mode": "lines",
           "name": "",
           "scene": "scene",
           "showlegend": false,
           "type": "scatter3d",
           "x": [
            0,
            0,
            -1.8254445913086303,
            -2.0076657054605853,
            -2.257020138626303,
            -3.027177529799996,
            -3.4860740985469665,
            -3.368155094800517,
            -3.1648547390033848,
            -2.172199078291114,
            -2.162341503693916,
            -2.19131065575738,
            -3.669312231185157,
            -3.626814357271512,
            -3.3198434968950865
           ],
           "y": [
            0,
            0,
            -0.15483806425730198,
            -0.6921628398811182,
            -0.913046310696611,
            -2.0448921700166003,
            -3.1196122589059407,
            -3.2785565072563867,
            -3.7501872349995327,
            -5.91072250027724,
            -5.932892866513088,
            -5.954851548217582,
            -10.556472421806946,
            -10.635399849154293,
            -11.185771964613645
           ],
           "z": [
            0,
            1.4743910149984647,
            2.5415129299937327,
            2.9905309215163864,
            3.010117844708608,
            3.7650074860235994,
            4.316789201495543,
            4.430906391132521,
            5.40591195720214,
            7.155820575359687,
            7.172595302915127,
            7.180862688777864,
            9.31313432858581,
            9.317486244449746,
            9.752244066816083
           ]
          }
         ],
         "name": "12"
        },
        {
         "data": [
          {
           "hovertemplate": "<b>%{hovertext}</b><br><br>particle=13<br>x=%{x}<br>y=%{y}<br>z=%{z}<extra></extra>",
           "hovertext": [
            13,
            13,
            13,
            13,
            13,
            13,
            13,
            13,
            13,
            13,
            13,
            13,
            13,
            13,
            13
           ],
           "ids": [
            "6",
            "6",
            "6",
            "6",
            "6",
            "6",
            "6",
            "6",
            "6",
            "6",
            "6",
            "6",
            "6",
            "6",
            "6"
           ],
           "legendgroup": "",
           "line": {
            "color": "#636efa",
            "dash": "solid"
           },
           "mode": "lines",
           "name": "",
           "scene": "scene",
           "showlegend": false,
           "type": "scatter3d",
           "x": [
            0,
            0,
            -0.4547915318626566,
            -0.3755005381424824,
            0.4031623861949468,
            0.6953123664345744,
            1.1642863283352418,
            1.1750150746525878,
            1.5654224105121954,
            1.9302758927552317,
            2.3317856578075062,
            3.4093891876640976,
            0.27103943509562634,
            -0.0835879045258856,
            0.7831983875855163
           ],
           "y": [
            0,
            0,
            -0.989582551066394,
            -1.0881274389195776,
            -1.7463881437519906,
            -1.6196177123216364,
            -1.5944153685577684,
            -1.565140909161608,
            -1.2269549244521871,
            -1.1951558914833813,
            -0.4046017513607557,
            0.5510764292367405,
            2.067524170863424,
            2.4155212073514685,
            2.463876245276119
           ],
           "z": [
            0,
            0.8326969862476582,
            1.3992468351683278,
            1.4837170208597434,
            1.6895603029431352,
            1.814788730600441,
            1.892018985430216,
            1.9024617304753817,
            2.1248824943707607,
            2.5463662697568226,
            3.468345430804433,
            5.373155013745105,
            8.944819102496414,
            9.328893509371513,
            11.072111940227394
           ]
          }
         ],
         "name": "13"
        },
        {
         "data": [
          {
           "hovertemplate": "<b>%{hovertext}</b><br><br>particle=14<br>x=%{x}<br>y=%{y}<br>z=%{z}<extra></extra>",
           "hovertext": [
            14,
            14,
            14,
            14,
            14,
            14,
            14,
            14,
            14,
            14,
            14,
            14
           ],
           "ids": [
            "6",
            "6",
            "6",
            "6",
            "6",
            "6",
            "6",
            "6",
            "6",
            "6",
            "6",
            "6"
           ],
           "legendgroup": "",
           "line": {
            "color": "#636efa",
            "dash": "solid"
           },
           "mode": "lines",
           "name": "",
           "scene": "scene",
           "showlegend": false,
           "type": "scatter3d",
           "x": [
            0,
            0,
            0.5734470123913925,
            0.7923944405336182,
            0.8472662787785189,
            0.9688655381551492,
            1.2402485869562805,
            1.5534421362747732,
            2.4541169047405726,
            2.3291982001953144,
            3.6887623853603215,
            3.680182527157677
           ],
           "y": [
            0,
            0,
            0.24941602322438636,
            0.5427073035400194,
            0.7077187785338193,
            0.454412290213309,
            0.4098527671861287,
            0.24906293463157686,
            -2.4263614510418448,
            -3.947102378157236,
            -5.466932371061398,
            -5.883516557815771
           ],
           "z": [
            0,
            0.3186871259510931,
            1.0539597220204775,
            1.3174628417470091,
            1.4958662483908431,
            1.754418673716852,
            2.224171198299894,
            2.325748084803772,
            3.4907133475096663,
            4.2191093104010635,
            4.3454857721223545,
            4.754061681304093
           ]
          }
         ],
         "name": "14"
        },
        {
         "data": [
          {
           "hovertemplate": "<b>%{hovertext}</b><br><br>particle=15<br>x=%{x}<br>y=%{y}<br>z=%{z}<extra></extra>",
           "hovertext": [
            15,
            15,
            15,
            15,
            15,
            15,
            15,
            15,
            15,
            15,
            15,
            15,
            15,
            15,
            15,
            15,
            15,
            15,
            15,
            15
           ],
           "ids": [
            "6",
            "6",
            "6",
            "6",
            "6",
            "6",
            "6",
            "6",
            "6",
            "6",
            "6",
            "6",
            "6",
            "6",
            "6",
            "6",
            "6",
            "6",
            "6",
            "6"
           ],
           "legendgroup": "",
           "line": {
            "color": "#636efa",
            "dash": "solid"
           },
           "mode": "lines",
           "name": "",
           "scene": "scene",
           "showlegend": false,
           "type": "scatter3d",
           "x": [
            0,
            0,
            0.3608104459706652,
            0.9921951741680431,
            1.047804180356691,
            0.9483387792535596,
            0.899958109064329,
            0.7954792687247139,
            0.7559739014308429,
            2.0378600544950327,
            2.993811308980343,
            4.030511914464559,
            6.93231366532628,
            8.054545996301778,
            8.324817805467992,
            9.349099805555568,
            11.550064644619374,
            11.761692298151024,
            12.475480316664724,
            12.264147474627874
           ],
           "y": [
            0,
            0,
            1.3158133427658687,
            1.9676619320444864,
            2.35040305035245,
            2.3900614250812584,
            2.430527971385577,
            3.086947703166259,
            3.9542173252371287,
            5.088909276535359,
            5.449522061028532,
            4.7535412109734505,
            4.449732567070537,
            5.636451442145472,
            5.722330273995228,
            6.001259465275736,
            4.9858692281536685,
            5.233262544170904,
            5.0101403314298185,
            4.1401231158789455
           ],
           "z": [
            0,
            4.252828268320193,
            6.112542426433561,
            7.802749464974104,
            8.548968011316918,
            8.711602954363286,
            8.717358115214223,
            9.091407966349385,
            9.493459854985444,
            10.078575782550805,
            10.371442886663038,
            11.53756406495768,
            12.724034207759338,
            12.98666029833551,
            12.992881931920117,
            13.502200356972587,
            14.617790540147706,
            15.479585907950367,
            15.917658301989427,
            17.391949304096233
           ]
          }
         ],
         "name": "15"
        },
        {
         "data": [
          {
           "hovertemplate": "<b>%{hovertext}</b><br><br>particle=16<br>x=%{x}<br>y=%{y}<br>z=%{z}<extra></extra>",
           "hovertext": [
            16,
            16,
            16,
            16,
            16,
            16,
            16,
            16,
            16
           ],
           "ids": [
            "6",
            "6",
            "6",
            "6",
            "6",
            "6",
            "6",
            "6",
            "6"
           ],
           "legendgroup": "",
           "line": {
            "color": "#636efa",
            "dash": "solid"
           },
           "mode": "lines",
           "name": "",
           "scene": "scene",
           "showlegend": false,
           "type": "scatter3d",
           "x": [
            0,
            0,
            0.4733212419264802,
            0.5780108532767432,
            1.4025554303496508,
            1.3451533003771612,
            0.9964153790145516,
            2.0683317028120887,
            1.7529584325559766
           ],
           "y": [
            0,
            0,
            -0.10373266768516014,
            -0.12491321883282737,
            -2.308514104044224,
            -3.1048738972133014,
            -3.3358925975373173,
            -5.1400206842792615,
            -5.546603019008955
           ],
           "z": [
            0,
            0.06884688513545352,
            0.699482008105856,
            0.8555304073384322,
            1.9851113723232048,
            3.2491477957038266,
            4.182139015193662,
            5.61367884475696,
            5.6410613791252215
           ]
          }
         ],
         "name": "16"
        },
        {
         "data": [
          {
           "hovertemplate": "<b>%{hovertext}</b><br><br>particle=17<br>x=%{x}<br>y=%{y}<br>z=%{z}<extra></extra>",
           "hovertext": [
            17,
            17,
            17,
            17,
            17,
            17,
            17,
            17,
            17
           ],
           "ids": [
            "6",
            "6",
            "6",
            "6",
            "6",
            "6",
            "6",
            "6",
            "6"
           ],
           "legendgroup": "",
           "line": {
            "color": "#636efa",
            "dash": "solid"
           },
           "mode": "lines",
           "name": "",
           "scene": "scene",
           "showlegend": false,
           "type": "scatter3d",
           "x": [
            0,
            0,
            0.8213035843400318,
            0.3643417310819109,
            0.3294061632131913,
            -0.9384007241783276,
            1.263642679106297,
            -0.09893524292337971,
            -1.3134512034117665
           ],
           "y": [
            0,
            0,
            1.8835193491138555,
            3.3214050467103124,
            3.3312571664996886,
            3.2853641690649167,
            2.920058774062239,
            2.8432682343210307,
            2.5366713056696657
           ],
           "z": [
            0,
            0.22078356650128814,
            0.6922519455252333,
            1.633978540477432,
            1.6545437462279289,
            4.485233530425704,
            6.257030007047041,
            8.017433075998898,
            8.318960495041686
           ]
          }
         ],
         "name": "17"
        },
        {
         "data": [
          {
           "hovertemplate": "<b>%{hovertext}</b><br><br>particle=18<br>x=%{x}<br>y=%{y}<br>z=%{z}<extra></extra>",
           "hovertext": [
            18,
            18,
            18,
            18,
            18,
            18,
            18,
            18,
            18,
            18,
            18,
            18,
            18,
            18,
            18,
            18,
            18,
            18,
            18,
            18
           ],
           "ids": [
            "6",
            "6",
            "6",
            "6",
            "6",
            "6",
            "6",
            "6",
            "6",
            "6",
            "6",
            "6",
            "6",
            "6",
            "6",
            "6",
            "6",
            "6",
            "6",
            "6"
           ],
           "legendgroup": "",
           "line": {
            "color": "#636efa",
            "dash": "solid"
           },
           "mode": "lines",
           "name": "",
           "scene": "scene",
           "showlegend": false,
           "type": "scatter3d",
           "x": [
            0,
            0,
            0.12739966862150795,
            0.6110985099974318,
            0.7987512096064587,
            1.263406253906432,
            2.1808275113029763,
            2.7292096526871608,
            2.667718932270516,
            3.5742369089414634,
            3.9115200481884833,
            3.909230420560569,
            3.625203205246639,
            2.9199540375154003,
            2.259404015447209,
            2.211073761741836,
            1.670738263697665,
            1.558672608005965,
            1.5428469644216487,
            1.095756423196233
           ],
           "y": [
            0,
            0,
            -0.22443211422426096,
            -1.3983090197831252,
            -2.0586823055897887,
            -2.410274094559668,
            -2.234495011452435,
            -0.835291433588965,
            0.3968347945716641,
            0.7319416466787699,
            2.1418404291665234,
            2.553035080563072,
            2.7640313347605074,
            3.1120742526881906,
            2.9784984351150947,
            2.9763914056244647,
            2.9762708615865607,
            2.869926838705455,
            2.812401734215284,
            1.9434312864410692
           ],
           "z": [
            0,
            0.9648260116882698,
            1.057320538567378,
            1.1674499618042733,
            1.4525200696601288,
            1.4985105772365246,
            1.6345898396753518,
            1.772556643169038,
            2.0204183694122366,
            2.1878212651065967,
            3.5561635234299125,
            3.687897335664608,
            3.8618417402708034,
            4.5632880821576105,
            4.858764446072764,
            4.878326687016314,
            5.0785378356869675,
            5.11511312182995,
            5.115481745129415,
            6.513370881971391
           ]
          }
         ],
         "name": "18"
        },
        {
         "data": [
          {
           "hovertemplate": "<b>%{hovertext}</b><br><br>particle=19<br>x=%{x}<br>y=%{y}<br>z=%{z}<extra></extra>",
           "hovertext": [
            19,
            19,
            19,
            19,
            19,
            19,
            19,
            19,
            19,
            19,
            19,
            19,
            19,
            19,
            19,
            19,
            19
           ],
           "ids": [
            "6",
            "6",
            "6",
            "6",
            "6",
            "6",
            "6",
            "6",
            "6",
            "6",
            "6",
            "6",
            "6",
            "6",
            "6",
            "6",
            "6"
           ],
           "legendgroup": "",
           "line": {
            "color": "#636efa",
            "dash": "solid"
           },
           "mode": "lines",
           "name": "",
           "scene": "scene",
           "showlegend": false,
           "type": "scatter3d",
           "x": [
            0,
            0,
            -0.1708043265432082,
            -0.17724541413335573,
            -0.729684254729195,
            -1.1234987512533876,
            -2.368963932742294,
            -2.585831138187785,
            -3.981091467700856,
            -4.006027592599343,
            -3.5971580062329345,
            -3.4220292892030573,
            -4.05577364430126,
            -4.2809530352769976,
            -4.197518373572871,
            -4.953510307103029,
            -4.55432103020408
           ],
           "y": [
            0,
            0,
            0.2298799942427171,
            0.2353594596046664,
            0.6847803505661304,
            0.5237956218696038,
            -0.19630155026166116,
            -0.3435435812416143,
            -1.029530403684572,
            -0.9889889527270108,
            -0.6193871199549688,
            -0.471141457228385,
            1.0679317574115643,
            1.1651285935032594,
            0.5203928747271466,
            0.3751359057875063,
            0.5164280354443586
           ],
           "z": [
            0,
            0.03795807479844605,
            0.41952494540710705,
            0.42626557714448415,
            1.8876035240765745,
            2.444169735608849,
            2.7973042283096783,
            2.936480881394673,
            4.317345860820707,
            4.388082808702976,
            4.8574282172792485,
            5.558380912795704,
            7.797009633659503,
            8.421330673431267,
            9.141926348585791,
            10.637184487566225,
            11.154525522393048
           ]
          }
         ],
         "name": "19"
        },
        {
         "data": [
          {
           "hovertemplate": "<b>%{hovertext}</b><br><br>particle=20<br>x=%{x}<br>y=%{y}<br>z=%{z}<extra></extra>",
           "hovertext": [
            20,
            20,
            20,
            20,
            20,
            20,
            20,
            20,
            20,
            20,
            20,
            20,
            20,
            20
           ],
           "ids": [
            "6",
            "6",
            "6",
            "6",
            "6",
            "6",
            "6",
            "6",
            "6",
            "6",
            "6",
            "6",
            "6",
            "6"
           ],
           "legendgroup": "",
           "line": {
            "color": "#636efa",
            "dash": "solid"
           },
           "mode": "lines",
           "name": "",
           "scene": "scene",
           "showlegend": false,
           "type": "scatter3d",
           "x": [
            0,
            0,
            0.9035795187821452,
            0.9260742748777424,
            0.9869662006859397,
            1.1151239703611804,
            3.4926558865609683,
            3.6513849957458544,
            3.430328691822559,
            2.92423420106728,
            2.917395880755939,
            2.9721452500391865,
            2.9630762003982936,
            3.7244615989671246
           ],
           "y": [
            0,
            0,
            0.580676349779852,
            0.5404387399329814,
            0.5136378146002991,
            0.42963836895182655,
            -1.0146825987345591,
            -1.1896195078169844,
            -2.411210349509558,
            -2.343935515045375,
            -2.3336577262278326,
            -1.969463114137262,
            -1.9535467264105952,
            -1.0171976165808885
           ],
           "z": [
            0,
            1.5262897575972638,
            2.1402725323180225,
            2.167415915950437,
            2.208677290923552,
            2.3599115662826757,
            3.5161363815997326,
            3.6293700097494255,
            4.243254683487261,
            5.63346064238967,
            5.677220975953207,
            5.870708340133662,
            5.882743084617863,
            6.14382672907836
           ]
          }
         ],
         "name": "20"
        },
        {
         "data": [
          {
           "hovertemplate": "<b>%{hovertext}</b><br><br>particle=21<br>x=%{x}<br>y=%{y}<br>z=%{z}<extra></extra>",
           "hovertext": [
            21,
            21,
            21,
            21,
            21,
            21,
            21,
            21,
            21,
            21,
            21,
            21,
            21,
            21
           ],
           "ids": [
            "6",
            "6",
            "6",
            "6",
            "6",
            "6",
            "6",
            "6",
            "6",
            "6",
            "6",
            "6",
            "6",
            "6"
           ],
           "legendgroup": "",
           "line": {
            "color": "#636efa",
            "dash": "solid"
           },
           "mode": "lines",
           "name": "",
           "scene": "scene",
           "showlegend": false,
           "type": "scatter3d",
           "x": [
            0,
            0,
            1.7035871725396583,
            1.8083701840724504,
            2.2602588068095613,
            2.36289457719032,
            2.413514926630538,
            2.5385196415424023,
            3.5273310415781256,
            3.675800733064584,
            3.6933413459397806,
            3.692291462455709,
            4.444389613179368,
            4.190026258645232
           ],
           "y": [
            0,
            0,
            -0.65785136171625,
            -0.5434186991608284,
            -1.3018431868425415,
            -1.3022852031023806,
            -1.3685497104579505,
            -2.878811241375079,
            -5.165586156415433,
            -5.243442342150249,
            -5.3804481906667085,
            -5.394197036264416,
            -6.986330674648399,
            -7.095711371517697
           ],
           "z": [
            0,
            2.9877662015184296,
            7.961758332498933,
            8.274711959119843,
            8.611066033064299,
            8.668881058463262,
            8.699879900912425,
            9.653516425436118,
            11.626179475227584,
            11.63829806537557,
            11.935198933965347,
            11.93613061712283,
            12.319141038942654,
            13.05052079684909
           ]
          }
         ],
         "name": "21"
        },
        {
         "data": [
          {
           "hovertemplate": "<b>%{hovertext}</b><br><br>particle=22<br>x=%{x}<br>y=%{y}<br>z=%{z}<extra></extra>",
           "hovertext": [
            22,
            22,
            22,
            22,
            22,
            22,
            22,
            22,
            22,
            22,
            22,
            22,
            22,
            22,
            22
           ],
           "ids": [
            "6",
            "6",
            "6",
            "6",
            "6",
            "6",
            "6",
            "6",
            "6",
            "6",
            "6",
            "6",
            "6",
            "6",
            "6"
           ],
           "legendgroup": "",
           "line": {
            "color": "#636efa",
            "dash": "solid"
           },
           "mode": "lines",
           "name": "",
           "scene": "scene",
           "showlegend": false,
           "type": "scatter3d",
           "x": [
            0,
            0,
            -0.7170505023034381,
            -0.6903605240449613,
            -1.8991121001335771,
            -1.9743894859833284,
            -2.9974212569609486,
            -3.2298312877226723,
            -3.197440594139528,
            -3.8499281523993374,
            -3.950722007607171,
            -4.370927634524128,
            -3.6558604717380168,
            -3.6420285932975993,
            -3.592105255200404
           ],
           "y": [
            0,
            0,
            -1.8310742369437945,
            -2.0877955272110973,
            -1.867818003752307,
            -1.3244743770785288,
            -0.901530511415544,
            -1.0947317455400372,
            -1.2212858789339447,
            -1.502246426613424,
            -1.6739615292364367,
            -1.730990381349072,
            -1.95310718539686,
            -1.9528484032396487,
            -1.3499681697813253
           ],
           "z": [
            0,
            0.9107279429758196,
            1.4969198381324924,
            1.5784479860313347,
            2.8821247052389305,
            3.462881182045912,
            4.280750254479878,
            4.616441453030793,
            4.7737499002918415,
            5.58615959793635,
            5.959381378195546,
            7.451051360353015,
            8.728259562823462,
            8.735698388628046,
            9.15860804320746
           ]
          }
         ],
         "name": "22"
        },
        {
         "data": [
          {
           "hovertemplate": "<b>%{hovertext}</b><br><br>particle=23<br>x=%{x}<br>y=%{y}<br>z=%{z}<extra></extra>",
           "hovertext": [
            23,
            23,
            23,
            23,
            23,
            23,
            23,
            23,
            23,
            23,
            23,
            23
           ],
           "ids": [
            "6",
            "6",
            "6",
            "6",
            "6",
            "6",
            "6",
            "6",
            "6",
            "6",
            "6",
            "6"
           ],
           "legendgroup": "",
           "line": {
            "color": "#636efa",
            "dash": "solid"
           },
           "mode": "lines",
           "name": "",
           "scene": "scene",
           "showlegend": false,
           "type": "scatter3d",
           "x": [
            0,
            0,
            0.7887204391214514,
            0.8744734935342446,
            0.1641055647300702,
            0.18705225602689354,
            0.5288746376779516,
            0.883200720295597,
            1.3866719839306982,
            2.03762967590511,
            2.04414921966053,
            2.10717568989796
           ],
           "y": [
            0,
            0,
            2.646090528402158,
            3.303726704057607,
            3.2559043843865703,
            3.0092684858408183,
            2.92753140493148,
            3.1184362391749043,
            2.5940616280103015,
            0.27049562662502186,
            0.2613338519004931,
            0.6711194970217909
           ],
           "z": [
            0,
            0.2856210976285242,
            1.0764280572595388,
            1.4451592936386746,
            2.700539690268985,
            2.812896833551244,
            3.2110679750925346,
            4.51476184401124,
            5.566910449310647,
            7.933384795672373,
            7.952154653728499,
            8.226556729281036
           ]
          }
         ],
         "name": "23"
        },
        {
         "data": [
          {
           "hovertemplate": "<b>%{hovertext}</b><br><br>particle=24<br>x=%{x}<br>y=%{y}<br>z=%{z}<extra></extra>",
           "hovertext": [
            24,
            24,
            24,
            24,
            24,
            24,
            24,
            24
           ],
           "ids": [
            "6",
            "6",
            "6",
            "6",
            "6",
            "6",
            "6",
            "6"
           ],
           "legendgroup": "",
           "line": {
            "color": "#636efa",
            "dash": "solid"
           },
           "mode": "lines",
           "name": "",
           "scene": "scene",
           "showlegend": false,
           "type": "scatter3d",
           "x": [
            0,
            0,
            -0.21271341397468888,
            -0.5928756050341055,
            -0.9438979019755612,
            -1.0289167893615387,
            -1.3944362959722427,
            -1.2569515641464108
           ],
           "y": [
            0,
            0,
            -0.06912398698819144,
            -0.4409963022172444,
            -0.14839938187762616,
            0.00518334692833778,
            -0.011313675502669695,
            -0.08331087304035846
           ],
           "z": [
            0,
            0.7104604989382522,
            1.0003858579103628,
            1.3665434253732722,
            2.1851258629710744,
            2.189052279681937,
            2.7091081048979064,
            2.8189106172298404
           ]
          }
         ],
         "name": "24"
        },
        {
         "data": [
          {
           "hovertemplate": "<b>%{hovertext}</b><br><br>particle=25<br>x=%{x}<br>y=%{y}<br>z=%{z}<extra></extra>",
           "hovertext": [
            25,
            25,
            25,
            25,
            25,
            25,
            25,
            25
           ],
           "ids": [
            "6",
            "6",
            "6",
            "6",
            "6",
            "6",
            "6",
            "6"
           ],
           "legendgroup": "",
           "line": {
            "color": "#636efa",
            "dash": "solid"
           },
           "mode": "lines",
           "name": "",
           "scene": "scene",
           "showlegend": false,
           "type": "scatter3d",
           "x": [
            0,
            0,
            0.925730828773458,
            0.9217481059334014,
            0.8962000083428538,
            0.0694064371440588,
            0.05972067337375726,
            0.11743175231207745
           ],
           "y": [
            0,
            0,
            0.7172474489598978,
            1.0043116070896507,
            2.415422954541263,
            2.475313048461921,
            2.4734844567538907,
            0.3737548768977083
           ],
           "z": [
            0,
            0.04250222942865069,
            1.3068196219248378,
            1.3647991753398712,
            1.6093250552442138,
            2.1883860388290306,
            2.191728224806012,
            3.5497646803233622
           ]
          }
         ],
         "name": "25"
        },
        {
         "data": [
          {
           "hovertemplate": "<b>%{hovertext}</b><br><br>particle=26<br>x=%{x}<br>y=%{y}<br>z=%{z}<extra></extra>",
           "hovertext": [
            26,
            26,
            26,
            26,
            26,
            26,
            26,
            26,
            26,
            26,
            26,
            26,
            26,
            26,
            26,
            26,
            26,
            26,
            26
           ],
           "ids": [
            "6",
            "6",
            "6",
            "6",
            "6",
            "6",
            "6",
            "6",
            "6",
            "6",
            "6",
            "6",
            "6",
            "6",
            "6",
            "6",
            "6",
            "6",
            "6"
           ],
           "legendgroup": "",
           "line": {
            "color": "#636efa",
            "dash": "solid"
           },
           "mode": "lines",
           "name": "",
           "scene": "scene",
           "showlegend": false,
           "type": "scatter3d",
           "x": [
            0,
            0,
            -0.00947751121762373,
            -1.3453735936023623,
            -1.364633747256942,
            -1.308933632560541,
            -1.3076091960195606,
            0.7113453886607386,
            1.024613898790622,
            0.7595574806331425,
            0.8739637453184147,
            2.673118720261604,
            2.5669879721530324,
            1.9891553462648872,
            2.1411799116196555,
            2.051469215235143,
            2.0383041868191203,
            1.9924951285462684,
            1.4813724026187391
           ],
           "y": [
            0,
            0,
            0.5948547797469512,
            0.16307358501048475,
            0.18157066854455725,
            0.19286750183973367,
            0.19213159130765453,
            -1.2460465940878174,
            -1.6443282195455813,
            -2.101096564859623,
            -2.351347087347964,
            -4.08412977860332,
            -4.182065861948313,
            -4.7629405025720315,
            -4.715600596131067,
            -4.14699208836829,
            -4.131105715611869,
            -4.130752585198276,
            -4.671065925569899
           ],
           "z": [
            0,
            0.27590867859443235,
            0.7082394970626724,
            3.025154290761884,
            3.078193676553925,
            3.280713749059227,
            3.2830283777418976,
            3.4997880949625544,
            3.7795539445918767,
            3.891209540123519,
            3.9953359016712904,
            4.669054621004558,
            5.144146162133036,
            5.870144368015209,
            6.230933323644626,
            6.466883685020636,
            6.512982453064452,
            6.567252174976675,
            6.77094451073522
           ]
          }
         ],
         "name": "26"
        },
        {
         "data": [
          {
           "hovertemplate": "<b>%{hovertext}</b><br><br>particle=27<br>x=%{x}<br>y=%{y}<br>z=%{z}<extra></extra>",
           "hovertext": [
            27,
            27,
            27,
            27,
            27,
            27,
            27,
            27,
            27,
            27,
            27,
            27,
            27,
            27,
            27,
            27,
            27,
            27,
            27,
            27,
            27,
            27,
            27,
            27,
            27
           ],
           "ids": [
            "6",
            "6",
            "6",
            "6",
            "6",
            "6",
            "6",
            "6",
            "6",
            "6",
            "6",
            "6",
            "6",
            "6",
            "6",
            "6",
            "6",
            "6",
            "6",
            "6",
            "6",
            "6",
            "6",
            "6",
            "6"
           ],
           "legendgroup": "",
           "line": {
            "color": "#636efa",
            "dash": "solid"
           },
           "mode": "lines",
           "name": "",
           "scene": "scene",
           "showlegend": false,
           "type": "scatter3d",
           "x": [
            0,
            0,
            -0.04135978805754385,
            -0.8459082528324638,
            -0.8705550822167064,
            -1.0052247077043466,
            -1.238792794374212,
            -1.9715533154376257,
            -2.3081663476344643,
            -2.8017568767164422,
            -2.7636530704119315,
            -2.6379696072544,
            -2.506144819814199,
            -1.979985822379886,
            -1.2268321577235357,
            -1.1530464372221894,
            -1.039435519962432,
            -0.6270314504404106,
            0.3456784947542525,
            1.5622457226345494,
            1.766251574265432,
            1.7889097515376344,
            1.7186618644812333,
            2.1070626611940466,
            1.606362520621202
           ],
           "y": [
            0,
            0,
            0.08587235762477961,
            1.0580417037308685,
            1.1210120004478514,
            1.1836322275171207,
            1.1595270456422826,
            1.1756807386810104,
            0.7773032612488949,
            -0.29436937353802445,
            -0.38939735886593463,
            -0.6344067484414012,
            -1.1272989031040097,
            -1.2457115505556062,
            -1.0583690547554545,
            -1.04967915088032,
            -0.7364185642986057,
            -0.5966442612665158,
            -0.12703172374431054,
            -0.4712926893464777,
            -0.3714974690442001,
            -0.4086992862958615,
            -0.3605275787130111,
            0.03734248873738678,
            -0.6016329984526048
           ],
           "z": [
            0,
            0.100318757524668,
            0.1543462878206685,
            0.4345942575830593,
            0.4841017693808861,
            0.6404646804875055,
            0.7730867299898923,
            1.7900361593485203,
            2.003868988389529,
            2.061806039772886,
            2.092549984053341,
            2.202536574595231,
            2.5072209792123448,
            2.6075329269449767,
            3.6016209913091974,
            3.6725079637322735,
            4.595650197549695,
            8.003561816543161,
            9.166384385427955,
            9.601165714209143,
            10.651995116987386,
            10.906016672996637,
            11.281530310658374,
            13.797671708750356,
            14.353627146829824
           ]
          }
         ],
         "name": "27"
        },
        {
         "data": [
          {
           "hovertemplate": "<b>%{hovertext}</b><br><br>particle=28<br>x=%{x}<br>y=%{y}<br>z=%{z}<extra></extra>",
           "hovertext": [
            28,
            28,
            28,
            28,
            28,
            28,
            28,
            28,
            28,
            28,
            28
           ],
           "ids": [
            "6",
            "6",
            "6",
            "6",
            "6",
            "6",
            "6",
            "6",
            "6",
            "6",
            "6"
           ],
           "legendgroup": "",
           "line": {
            "color": "#636efa",
            "dash": "solid"
           },
           "mode": "lines",
           "name": "",
           "scene": "scene",
           "showlegend": false,
           "type": "scatter3d",
           "x": [
            0,
            0,
            -0.1908989192002576,
            -0.2785052576405492,
            -0.2426531564447364,
            0.19616053900863856,
            0.5442165881509937,
            0.7294388564347034,
            3.796674446562693,
            3.824349728013068,
            4.381111264000434
           ],
           "y": [
            0,
            0,
            0.11215847379088173,
            0.2328972168244416,
            0.2950653802042327,
            0.4685151125336137,
            0.3360988039989317,
            0.7083620758634948,
            2.2137748458078335,
            2.381042388689106,
            2.469343207358919
           ],
           "z": [
            0,
            0.19695823581784933,
            0.4566968958866674,
            0.5667394100701821,
            0.6545676724521861,
            1.5213496644308495,
            1.8789789986356444,
            2.130578686101973,
            3.461190366868659,
            3.5232659903671344,
            3.6870652300744178
           ]
          }
         ],
         "name": "28"
        }
       ],
       "layout": {
        "autosize": false,
        "height": 800,
        "legend": {
         "tracegroupgap": 0
        },
        "margin": {
         "t": 60
        },
        "scene": {
         "aspectmode": "manual",
         "aspectratio": {
          "x": 1,
          "y": 1,
          "z": 0.7
         },
         "camera": {
          "eye": {
           "x": 0,
           "y": 1.0707,
           "z": 1
          },
          "up": {
           "x": 0,
           "y": 0,
           "z": 1
          }
         },
         "domain": {
          "x": [
           0,
           1
          ],
          "y": [
           0,
           1
          ]
         },
         "xaxis": {
          "range": [
           -15,
           15
          ],
          "title": {
           "text": "x"
          }
         },
         "yaxis": {
          "range": [
           -10,
           10
          ],
          "title": {
           "text": "y"
          }
         },
         "zaxis": {
          "range": [
           0,
           10
          ],
          "title": {
           "text": "z"
          }
         }
        },
        "sliders": [
         {
          "active": 0,
          "currentvalue": {
           "prefix": "particle="
          },
          "len": 0.9,
          "pad": {
           "b": 10,
           "t": 60
          },
          "steps": [
           {
            "args": [
             [
              "1"
             ],
             {
              "frame": {
               "duration": 0,
               "redraw": true
              },
              "fromcurrent": true,
              "mode": "immediate",
              "transition": {
               "duration": 0,
               "easing": "linear"
              }
             }
            ],
            "label": "1",
            "method": "animate"
           },
           {
            "args": [
             [
              "2"
             ],
             {
              "frame": {
               "duration": 0,
               "redraw": true
              },
              "fromcurrent": true,
              "mode": "immediate",
              "transition": {
               "duration": 0,
               "easing": "linear"
              }
             }
            ],
            "label": "2",
            "method": "animate"
           },
           {
            "args": [
             [
              "3"
             ],
             {
              "frame": {
               "duration": 0,
               "redraw": true
              },
              "fromcurrent": true,
              "mode": "immediate",
              "transition": {
               "duration": 0,
               "easing": "linear"
              }
             }
            ],
            "label": "3",
            "method": "animate"
           },
           {
            "args": [
             [
              "4"
             ],
             {
              "frame": {
               "duration": 0,
               "redraw": true
              },
              "fromcurrent": true,
              "mode": "immediate",
              "transition": {
               "duration": 0,
               "easing": "linear"
              }
             }
            ],
            "label": "4",
            "method": "animate"
           },
           {
            "args": [
             [
              "5"
             ],
             {
              "frame": {
               "duration": 0,
               "redraw": true
              },
              "fromcurrent": true,
              "mode": "immediate",
              "transition": {
               "duration": 0,
               "easing": "linear"
              }
             }
            ],
            "label": "5",
            "method": "animate"
           },
           {
            "args": [
             [
              "6"
             ],
             {
              "frame": {
               "duration": 0,
               "redraw": true
              },
              "fromcurrent": true,
              "mode": "immediate",
              "transition": {
               "duration": 0,
               "easing": "linear"
              }
             }
            ],
            "label": "6",
            "method": "animate"
           },
           {
            "args": [
             [
              "7"
             ],
             {
              "frame": {
               "duration": 0,
               "redraw": true
              },
              "fromcurrent": true,
              "mode": "immediate",
              "transition": {
               "duration": 0,
               "easing": "linear"
              }
             }
            ],
            "label": "7",
            "method": "animate"
           },
           {
            "args": [
             [
              "8"
             ],
             {
              "frame": {
               "duration": 0,
               "redraw": true
              },
              "fromcurrent": true,
              "mode": "immediate",
              "transition": {
               "duration": 0,
               "easing": "linear"
              }
             }
            ],
            "label": "8",
            "method": "animate"
           },
           {
            "args": [
             [
              "9"
             ],
             {
              "frame": {
               "duration": 0,
               "redraw": true
              },
              "fromcurrent": true,
              "mode": "immediate",
              "transition": {
               "duration": 0,
               "easing": "linear"
              }
             }
            ],
            "label": "9",
            "method": "animate"
           },
           {
            "args": [
             [
              "10"
             ],
             {
              "frame": {
               "duration": 0,
               "redraw": true
              },
              "fromcurrent": true,
              "mode": "immediate",
              "transition": {
               "duration": 0,
               "easing": "linear"
              }
             }
            ],
            "label": "10",
            "method": "animate"
           },
           {
            "args": [
             [
              "11"
             ],
             {
              "frame": {
               "duration": 0,
               "redraw": true
              },
              "fromcurrent": true,
              "mode": "immediate",
              "transition": {
               "duration": 0,
               "easing": "linear"
              }
             }
            ],
            "label": "11",
            "method": "animate"
           },
           {
            "args": [
             [
              "12"
             ],
             {
              "frame": {
               "duration": 0,
               "redraw": true
              },
              "fromcurrent": true,
              "mode": "immediate",
              "transition": {
               "duration": 0,
               "easing": "linear"
              }
             }
            ],
            "label": "12",
            "method": "animate"
           },
           {
            "args": [
             [
              "13"
             ],
             {
              "frame": {
               "duration": 0,
               "redraw": true
              },
              "fromcurrent": true,
              "mode": "immediate",
              "transition": {
               "duration": 0,
               "easing": "linear"
              }
             }
            ],
            "label": "13",
            "method": "animate"
           },
           {
            "args": [
             [
              "14"
             ],
             {
              "frame": {
               "duration": 0,
               "redraw": true
              },
              "fromcurrent": true,
              "mode": "immediate",
              "transition": {
               "duration": 0,
               "easing": "linear"
              }
             }
            ],
            "label": "14",
            "method": "animate"
           },
           {
            "args": [
             [
              "15"
             ],
             {
              "frame": {
               "duration": 0,
               "redraw": true
              },
              "fromcurrent": true,
              "mode": "immediate",
              "transition": {
               "duration": 0,
               "easing": "linear"
              }
             }
            ],
            "label": "15",
            "method": "animate"
           },
           {
            "args": [
             [
              "16"
             ],
             {
              "frame": {
               "duration": 0,
               "redraw": true
              },
              "fromcurrent": true,
              "mode": "immediate",
              "transition": {
               "duration": 0,
               "easing": "linear"
              }
             }
            ],
            "label": "16",
            "method": "animate"
           },
           {
            "args": [
             [
              "17"
             ],
             {
              "frame": {
               "duration": 0,
               "redraw": true
              },
              "fromcurrent": true,
              "mode": "immediate",
              "transition": {
               "duration": 0,
               "easing": "linear"
              }
             }
            ],
            "label": "17",
            "method": "animate"
           },
           {
            "args": [
             [
              "18"
             ],
             {
              "frame": {
               "duration": 0,
               "redraw": true
              },
              "fromcurrent": true,
              "mode": "immediate",
              "transition": {
               "duration": 0,
               "easing": "linear"
              }
             }
            ],
            "label": "18",
            "method": "animate"
           },
           {
            "args": [
             [
              "19"
             ],
             {
              "frame": {
               "duration": 0,
               "redraw": true
              },
              "fromcurrent": true,
              "mode": "immediate",
              "transition": {
               "duration": 0,
               "easing": "linear"
              }
             }
            ],
            "label": "19",
            "method": "animate"
           },
           {
            "args": [
             [
              "20"
             ],
             {
              "frame": {
               "duration": 0,
               "redraw": true
              },
              "fromcurrent": true,
              "mode": "immediate",
              "transition": {
               "duration": 0,
               "easing": "linear"
              }
             }
            ],
            "label": "20",
            "method": "animate"
           },
           {
            "args": [
             [
              "21"
             ],
             {
              "frame": {
               "duration": 0,
               "redraw": true
              },
              "fromcurrent": true,
              "mode": "immediate",
              "transition": {
               "duration": 0,
               "easing": "linear"
              }
             }
            ],
            "label": "21",
            "method": "animate"
           },
           {
            "args": [
             [
              "22"
             ],
             {
              "frame": {
               "duration": 0,
               "redraw": true
              },
              "fromcurrent": true,
              "mode": "immediate",
              "transition": {
               "duration": 0,
               "easing": "linear"
              }
             }
            ],
            "label": "22",
            "method": "animate"
           },
           {
            "args": [
             [
              "23"
             ],
             {
              "frame": {
               "duration": 0,
               "redraw": true
              },
              "fromcurrent": true,
              "mode": "immediate",
              "transition": {
               "duration": 0,
               "easing": "linear"
              }
             }
            ],
            "label": "23",
            "method": "animate"
           },
           {
            "args": [
             [
              "24"
             ],
             {
              "frame": {
               "duration": 0,
               "redraw": true
              },
              "fromcurrent": true,
              "mode": "immediate",
              "transition": {
               "duration": 0,
               "easing": "linear"
              }
             }
            ],
            "label": "24",
            "method": "animate"
           },
           {
            "args": [
             [
              "25"
             ],
             {
              "frame": {
               "duration": 0,
               "redraw": true
              },
              "fromcurrent": true,
              "mode": "immediate",
              "transition": {
               "duration": 0,
               "easing": "linear"
              }
             }
            ],
            "label": "25",
            "method": "animate"
           },
           {
            "args": [
             [
              "26"
             ],
             {
              "frame": {
               "duration": 0,
               "redraw": true
              },
              "fromcurrent": true,
              "mode": "immediate",
              "transition": {
               "duration": 0,
               "easing": "linear"
              }
             }
            ],
            "label": "26",
            "method": "animate"
           },
           {
            "args": [
             [
              "27"
             ],
             {
              "frame": {
               "duration": 0,
               "redraw": true
              },
              "fromcurrent": true,
              "mode": "immediate",
              "transition": {
               "duration": 0,
               "easing": "linear"
              }
             }
            ],
            "label": "27",
            "method": "animate"
           },
           {
            "args": [
             [
              "28"
             ],
             {
              "frame": {
               "duration": 0,
               "redraw": true
              },
              "fromcurrent": true,
              "mode": "immediate",
              "transition": {
               "duration": 0,
               "easing": "linear"
              }
             }
            ],
            "label": "28",
            "method": "animate"
           }
          ],
          "x": 0.1,
          "xanchor": "left",
          "y": 0,
          "yanchor": "top"
         }
        ],
        "template": {
         "data": {
          "bar": [
           {
            "error_x": {
             "color": "#2a3f5f"
            },
            "error_y": {
             "color": "#2a3f5f"
            },
            "marker": {
             "line": {
              "color": "#E5ECF6",
              "width": 0.5
             }
            },
            "type": "bar"
           }
          ],
          "barpolar": [
           {
            "marker": {
             "line": {
              "color": "#E5ECF6",
              "width": 0.5
             }
            },
            "type": "barpolar"
           }
          ],
          "carpet": [
           {
            "aaxis": {
             "endlinecolor": "#2a3f5f",
             "gridcolor": "white",
             "linecolor": "white",
             "minorgridcolor": "white",
             "startlinecolor": "#2a3f5f"
            },
            "baxis": {
             "endlinecolor": "#2a3f5f",
             "gridcolor": "white",
             "linecolor": "white",
             "minorgridcolor": "white",
             "startlinecolor": "#2a3f5f"
            },
            "type": "carpet"
           }
          ],
          "choropleth": [
           {
            "colorbar": {
             "outlinewidth": 0,
             "ticks": ""
            },
            "type": "choropleth"
           }
          ],
          "contour": [
           {
            "colorbar": {
             "outlinewidth": 0,
             "ticks": ""
            },
            "colorscale": [
             [
              0,
              "#0d0887"
             ],
             [
              0.1111111111111111,
              "#46039f"
             ],
             [
              0.2222222222222222,
              "#7201a8"
             ],
             [
              0.3333333333333333,
              "#9c179e"
             ],
             [
              0.4444444444444444,
              "#bd3786"
             ],
             [
              0.5555555555555556,
              "#d8576b"
             ],
             [
              0.6666666666666666,
              "#ed7953"
             ],
             [
              0.7777777777777778,
              "#fb9f3a"
             ],
             [
              0.8888888888888888,
              "#fdca26"
             ],
             [
              1,
              "#f0f921"
             ]
            ],
            "type": "contour"
           }
          ],
          "contourcarpet": [
           {
            "colorbar": {
             "outlinewidth": 0,
             "ticks": ""
            },
            "type": "contourcarpet"
           }
          ],
          "heatmap": [
           {
            "colorbar": {
             "outlinewidth": 0,
             "ticks": ""
            },
            "colorscale": [
             [
              0,
              "#0d0887"
             ],
             [
              0.1111111111111111,
              "#46039f"
             ],
             [
              0.2222222222222222,
              "#7201a8"
             ],
             [
              0.3333333333333333,
              "#9c179e"
             ],
             [
              0.4444444444444444,
              "#bd3786"
             ],
             [
              0.5555555555555556,
              "#d8576b"
             ],
             [
              0.6666666666666666,
              "#ed7953"
             ],
             [
              0.7777777777777778,
              "#fb9f3a"
             ],
             [
              0.8888888888888888,
              "#fdca26"
             ],
             [
              1,
              "#f0f921"
             ]
            ],
            "type": "heatmap"
           }
          ],
          "heatmapgl": [
           {
            "colorbar": {
             "outlinewidth": 0,
             "ticks": ""
            },
            "colorscale": [
             [
              0,
              "#0d0887"
             ],
             [
              0.1111111111111111,
              "#46039f"
             ],
             [
              0.2222222222222222,
              "#7201a8"
             ],
             [
              0.3333333333333333,
              "#9c179e"
             ],
             [
              0.4444444444444444,
              "#bd3786"
             ],
             [
              0.5555555555555556,
              "#d8576b"
             ],
             [
              0.6666666666666666,
              "#ed7953"
             ],
             [
              0.7777777777777778,
              "#fb9f3a"
             ],
             [
              0.8888888888888888,
              "#fdca26"
             ],
             [
              1,
              "#f0f921"
             ]
            ],
            "type": "heatmapgl"
           }
          ],
          "histogram": [
           {
            "marker": {
             "colorbar": {
              "outlinewidth": 0,
              "ticks": ""
             }
            },
            "type": "histogram"
           }
          ],
          "histogram2d": [
           {
            "colorbar": {
             "outlinewidth": 0,
             "ticks": ""
            },
            "colorscale": [
             [
              0,
              "#0d0887"
             ],
             [
              0.1111111111111111,
              "#46039f"
             ],
             [
              0.2222222222222222,
              "#7201a8"
             ],
             [
              0.3333333333333333,
              "#9c179e"
             ],
             [
              0.4444444444444444,
              "#bd3786"
             ],
             [
              0.5555555555555556,
              "#d8576b"
             ],
             [
              0.6666666666666666,
              "#ed7953"
             ],
             [
              0.7777777777777778,
              "#fb9f3a"
             ],
             [
              0.8888888888888888,
              "#fdca26"
             ],
             [
              1,
              "#f0f921"
             ]
            ],
            "type": "histogram2d"
           }
          ],
          "histogram2dcontour": [
           {
            "colorbar": {
             "outlinewidth": 0,
             "ticks": ""
            },
            "colorscale": [
             [
              0,
              "#0d0887"
             ],
             [
              0.1111111111111111,
              "#46039f"
             ],
             [
              0.2222222222222222,
              "#7201a8"
             ],
             [
              0.3333333333333333,
              "#9c179e"
             ],
             [
              0.4444444444444444,
              "#bd3786"
             ],
             [
              0.5555555555555556,
              "#d8576b"
             ],
             [
              0.6666666666666666,
              "#ed7953"
             ],
             [
              0.7777777777777778,
              "#fb9f3a"
             ],
             [
              0.8888888888888888,
              "#fdca26"
             ],
             [
              1,
              "#f0f921"
             ]
            ],
            "type": "histogram2dcontour"
           }
          ],
          "mesh3d": [
           {
            "colorbar": {
             "outlinewidth": 0,
             "ticks": ""
            },
            "type": "mesh3d"
           }
          ],
          "parcoords": [
           {
            "line": {
             "colorbar": {
              "outlinewidth": 0,
              "ticks": ""
             }
            },
            "type": "parcoords"
           }
          ],
          "pie": [
           {
            "automargin": true,
            "type": "pie"
           }
          ],
          "scatter": [
           {
            "marker": {
             "colorbar": {
              "outlinewidth": 0,
              "ticks": ""
             }
            },
            "type": "scatter"
           }
          ],
          "scatter3d": [
           {
            "line": {
             "colorbar": {
              "outlinewidth": 0,
              "ticks": ""
             }
            },
            "marker": {
             "colorbar": {
              "outlinewidth": 0,
              "ticks": ""
             }
            },
            "type": "scatter3d"
           }
          ],
          "scattercarpet": [
           {
            "marker": {
             "colorbar": {
              "outlinewidth": 0,
              "ticks": ""
             }
            },
            "type": "scattercarpet"
           }
          ],
          "scattergeo": [
           {
            "marker": {
             "colorbar": {
              "outlinewidth": 0,
              "ticks": ""
             }
            },
            "type": "scattergeo"
           }
          ],
          "scattergl": [
           {
            "marker": {
             "colorbar": {
              "outlinewidth": 0,
              "ticks": ""
             }
            },
            "type": "scattergl"
           }
          ],
          "scattermapbox": [
           {
            "marker": {
             "colorbar": {
              "outlinewidth": 0,
              "ticks": ""
             }
            },
            "type": "scattermapbox"
           }
          ],
          "scatterpolar": [
           {
            "marker": {
             "colorbar": {
              "outlinewidth": 0,
              "ticks": ""
             }
            },
            "type": "scatterpolar"
           }
          ],
          "scatterpolargl": [
           {
            "marker": {
             "colorbar": {
              "outlinewidth": 0,
              "ticks": ""
             }
            },
            "type": "scatterpolargl"
           }
          ],
          "scatterternary": [
           {
            "marker": {
             "colorbar": {
              "outlinewidth": 0,
              "ticks": ""
             }
            },
            "type": "scatterternary"
           }
          ],
          "surface": [
           {
            "colorbar": {
             "outlinewidth": 0,
             "ticks": ""
            },
            "colorscale": [
             [
              0,
              "#0d0887"
             ],
             [
              0.1111111111111111,
              "#46039f"
             ],
             [
              0.2222222222222222,
              "#7201a8"
             ],
             [
              0.3333333333333333,
              "#9c179e"
             ],
             [
              0.4444444444444444,
              "#bd3786"
             ],
             [
              0.5555555555555556,
              "#d8576b"
             ],
             [
              0.6666666666666666,
              "#ed7953"
             ],
             [
              0.7777777777777778,
              "#fb9f3a"
             ],
             [
              0.8888888888888888,
              "#fdca26"
             ],
             [
              1,
              "#f0f921"
             ]
            ],
            "type": "surface"
           }
          ],
          "table": [
           {
            "cells": {
             "fill": {
              "color": "#EBF0F8"
             },
             "line": {
              "color": "white"
             }
            },
            "header": {
             "fill": {
              "color": "#C8D4E3"
             },
             "line": {
              "color": "white"
             }
            },
            "type": "table"
           }
          ]
         },
         "layout": {
          "annotationdefaults": {
           "arrowcolor": "#2a3f5f",
           "arrowhead": 0,
           "arrowwidth": 1
          },
          "autotypenumbers": "strict",
          "coloraxis": {
           "colorbar": {
            "outlinewidth": 0,
            "ticks": ""
           }
          },
          "colorscale": {
           "diverging": [
            [
             0,
             "#8e0152"
            ],
            [
             0.1,
             "#c51b7d"
            ],
            [
             0.2,
             "#de77ae"
            ],
            [
             0.3,
             "#f1b6da"
            ],
            [
             0.4,
             "#fde0ef"
            ],
            [
             0.5,
             "#f7f7f7"
            ],
            [
             0.6,
             "#e6f5d0"
            ],
            [
             0.7,
             "#b8e186"
            ],
            [
             0.8,
             "#7fbc41"
            ],
            [
             0.9,
             "#4d9221"
            ],
            [
             1,
             "#276419"
            ]
           ],
           "sequential": [
            [
             0,
             "#0d0887"
            ],
            [
             0.1111111111111111,
             "#46039f"
            ],
            [
             0.2222222222222222,
             "#7201a8"
            ],
            [
             0.3333333333333333,
             "#9c179e"
            ],
            [
             0.4444444444444444,
             "#bd3786"
            ],
            [
             0.5555555555555556,
             "#d8576b"
            ],
            [
             0.6666666666666666,
             "#ed7953"
            ],
            [
             0.7777777777777778,
             "#fb9f3a"
            ],
            [
             0.8888888888888888,
             "#fdca26"
            ],
            [
             1,
             "#f0f921"
            ]
           ],
           "sequentialminus": [
            [
             0,
             "#0d0887"
            ],
            [
             0.1111111111111111,
             "#46039f"
            ],
            [
             0.2222222222222222,
             "#7201a8"
            ],
            [
             0.3333333333333333,
             "#9c179e"
            ],
            [
             0.4444444444444444,
             "#bd3786"
            ],
            [
             0.5555555555555556,
             "#d8576b"
            ],
            [
             0.6666666666666666,
             "#ed7953"
            ],
            [
             0.7777777777777778,
             "#fb9f3a"
            ],
            [
             0.8888888888888888,
             "#fdca26"
            ],
            [
             1,
             "#f0f921"
            ]
           ]
          },
          "colorway": [
           "#636efa",
           "#EF553B",
           "#00cc96",
           "#ab63fa",
           "#FFA15A",
           "#19d3f3",
           "#FF6692",
           "#B6E880",
           "#FF97FF",
           "#FECB52"
          ],
          "font": {
           "color": "#2a3f5f"
          },
          "geo": {
           "bgcolor": "white",
           "lakecolor": "white",
           "landcolor": "#E5ECF6",
           "showlakes": true,
           "showland": true,
           "subunitcolor": "white"
          },
          "hoverlabel": {
           "align": "left"
          },
          "hovermode": "closest",
          "mapbox": {
           "style": "light"
          },
          "paper_bgcolor": "white",
          "plot_bgcolor": "#E5ECF6",
          "polar": {
           "angularaxis": {
            "gridcolor": "white",
            "linecolor": "white",
            "ticks": ""
           },
           "bgcolor": "#E5ECF6",
           "radialaxis": {
            "gridcolor": "white",
            "linecolor": "white",
            "ticks": ""
           }
          },
          "scene": {
           "xaxis": {
            "backgroundcolor": "#E5ECF6",
            "gridcolor": "white",
            "gridwidth": 2,
            "linecolor": "white",
            "showbackground": true,
            "ticks": "",
            "zerolinecolor": "white"
           },
           "yaxis": {
            "backgroundcolor": "#E5ECF6",
            "gridcolor": "white",
            "gridwidth": 2,
            "linecolor": "white",
            "showbackground": true,
            "ticks": "",
            "zerolinecolor": "white"
           },
           "zaxis": {
            "backgroundcolor": "#E5ECF6",
            "gridcolor": "white",
            "gridwidth": 2,
            "linecolor": "white",
            "showbackground": true,
            "ticks": "",
            "zerolinecolor": "white"
           }
          },
          "shapedefaults": {
           "line": {
            "color": "#2a3f5f"
           }
          },
          "ternary": {
           "aaxis": {
            "gridcolor": "white",
            "linecolor": "white",
            "ticks": ""
           },
           "baxis": {
            "gridcolor": "white",
            "linecolor": "white",
            "ticks": ""
           },
           "bgcolor": "#E5ECF6",
           "caxis": {
            "gridcolor": "white",
            "linecolor": "white",
            "ticks": ""
           }
          },
          "title": {
           "x": 0.05
          },
          "xaxis": {
           "automargin": true,
           "gridcolor": "white",
           "linecolor": "white",
           "ticks": "",
           "title": {
            "standoff": 15
           },
           "zerolinecolor": "white",
           "zerolinewidth": 2
          },
          "yaxis": {
           "automargin": true,
           "gridcolor": "white",
           "linecolor": "white",
           "ticks": "",
           "title": {
            "standoff": 15
           },
           "zerolinecolor": "white",
           "zerolinewidth": 2
          }
         }
        },
        "updatemenus": [
         {
          "buttons": [
           {
            "args": [
             null,
             {
              "frame": {
               "duration": 500,
               "redraw": true
              },
              "fromcurrent": true,
              "mode": "immediate",
              "transition": {
               "duration": 500,
               "easing": "linear"
              }
             }
            ],
            "label": "&#9654;",
            "method": "animate"
           },
           {
            "args": [
             [
              null
             ],
             {
              "frame": {
               "duration": 0,
               "redraw": true
              },
              "fromcurrent": true,
              "mode": "immediate",
              "transition": {
               "duration": 0,
               "easing": "linear"
              }
             }
            ],
            "label": "&#9724;",
            "method": "animate"
           }
          ],
          "direction": "left",
          "pad": {
           "r": 10,
           "t": 70
          },
          "showactive": false,
          "type": "buttons",
          "x": 0.1,
          "xanchor": "right",
          "y": 0,
          "yanchor": "top"
         }
        ],
        "width": 800
       }
      },
      "text/html": [
       "<div>                            <div id=\"9b6972e8-bd45-4e8d-8bd3-214d116aa4d7\" class=\"plotly-graph-div\" style=\"height:800px; width:800px;\"></div>            <script type=\"text/javascript\">                require([\"plotly\"], function(Plotly) {                    window.PLOTLYENV=window.PLOTLYENV || {};                                    if (document.getElementById(\"9b6972e8-bd45-4e8d-8bd3-214d116aa4d7\")) {                    Plotly.newPlot(                        \"9b6972e8-bd45-4e8d-8bd3-214d116aa4d7\",                        [{\"hovertemplate\": \"<b>%{hovertext}</b><br><br>particle=1<br>x=%{x}<br>y=%{y}<br>z=%{z}<extra></extra>\", \"hovertext\": [1.0, 1.0, 1.0, 1.0, 1.0, 1.0, 1.0, 1.0, 1.0, 1.0, 1.0, 1.0, 1.0, 1.0, 1.0], \"ids\": [\"6\", \"6\", \"6\", \"6\", \"6\", \"6\", \"6\", \"6\", \"6\", \"6\", \"6\", \"6\", \"6\", \"6\", \"6\"], \"legendgroup\": \"\", \"line\": {\"color\": \"#636efa\", \"dash\": \"solid\"}, \"mode\": \"lines\", \"name\": \"\", \"scene\": \"scene\", \"showlegend\": false, \"type\": \"scatter3d\", \"x\": [0.0, 0.0, -0.12016467406302413, -0.186019578152938, -0.34769175556103066, -1.1186753956045128, -1.358032122656638, -1.9120514933151056, -3.034136400750428, -3.0502171814509134, -3.542327982914184, -3.680439708747429, -3.5681975877082497, -3.5125693432931286, 3.553459562457756], \"y\": [0.0, 0.0, 0.011495905282586007, -0.16331128319918964, -0.4900556125538286, -0.8471411003223246, -0.7955122014028477, -0.07063827133085158, 0.24168901282607055, 0.8453300533588542, 2.4626393055504345, 5.183022328884782, 5.273949810155369, 5.402051508685895, 9.101468899944836], \"z\": [0.0, 0.9023538087836064, 1.2102272784223511, 1.3224218270648147, 1.448690531654036, 1.9048613882174357, 2.221135550507955, 2.3350480330125283, 2.417812654678403, 2.6296112453630505, 3.0498108798938657, 5.803809488656412, 5.876194553960496, 6.0709096975617, 7.22841622577697]}],                        {\"autosize\": false, \"height\": 800, \"legend\": {\"tracegroupgap\": 0}, \"margin\": {\"t\": 60}, \"scene\": {\"aspectmode\": \"manual\", \"aspectratio\": {\"x\": 1, \"y\": 1, \"z\": 0.7}, \"camera\": {\"eye\": {\"x\": 0, \"y\": 1.0707, \"z\": 1}, \"up\": {\"x\": 0, \"y\": 0, \"z\": 1}}, \"domain\": {\"x\": [0.0, 1.0], \"y\": [0.0, 1.0]}, \"xaxis\": {\"range\": [-15, 15], \"title\": {\"text\": \"x\"}}, \"yaxis\": {\"range\": [-10, 10], \"title\": {\"text\": \"y\"}}, \"zaxis\": {\"range\": [0, 10], \"title\": {\"text\": \"z\"}}}, \"sliders\": [{\"active\": 0, \"currentvalue\": {\"prefix\": \"particle=\"}, \"len\": 0.9, \"pad\": {\"b\": 10, \"t\": 60}, \"steps\": [{\"args\": [[\"1\"], {\"frame\": {\"duration\": 0, \"redraw\": true}, \"fromcurrent\": true, \"mode\": \"immediate\", \"transition\": {\"duration\": 0, \"easing\": \"linear\"}}], \"label\": \"1\", \"method\": \"animate\"}, {\"args\": [[\"2\"], {\"frame\": {\"duration\": 0, \"redraw\": true}, \"fromcurrent\": true, \"mode\": \"immediate\", \"transition\": {\"duration\": 0, \"easing\": \"linear\"}}], \"label\": \"2\", \"method\": \"animate\"}, {\"args\": [[\"3\"], {\"frame\": {\"duration\": 0, \"redraw\": true}, \"fromcurrent\": true, \"mode\": \"immediate\", \"transition\": {\"duration\": 0, \"easing\": \"linear\"}}], \"label\": \"3\", \"method\": \"animate\"}, {\"args\": [[\"4\"], {\"frame\": {\"duration\": 0, \"redraw\": true}, \"fromcurrent\": true, \"mode\": \"immediate\", \"transition\": {\"duration\": 0, \"easing\": \"linear\"}}], \"label\": \"4\", \"method\": \"animate\"}, {\"args\": [[\"5\"], {\"frame\": {\"duration\": 0, \"redraw\": true}, \"fromcurrent\": true, \"mode\": \"immediate\", \"transition\": {\"duration\": 0, \"easing\": \"linear\"}}], \"label\": \"5\", \"method\": \"animate\"}, {\"args\": [[\"6\"], {\"frame\": {\"duration\": 0, \"redraw\": true}, \"fromcurrent\": true, \"mode\": \"immediate\", \"transition\": {\"duration\": 0, \"easing\": \"linear\"}}], \"label\": \"6\", \"method\": \"animate\"}, {\"args\": [[\"7\"], {\"frame\": {\"duration\": 0, \"redraw\": true}, \"fromcurrent\": true, \"mode\": \"immediate\", \"transition\": {\"duration\": 0, \"easing\": \"linear\"}}], \"label\": \"7\", \"method\": \"animate\"}, {\"args\": [[\"8\"], {\"frame\": {\"duration\": 0, \"redraw\": true}, \"fromcurrent\": true, \"mode\": \"immediate\", \"transition\": {\"duration\": 0, \"easing\": \"linear\"}}], \"label\": \"8\", \"method\": \"animate\"}, {\"args\": [[\"9\"], {\"frame\": {\"duration\": 0, \"redraw\": true}, \"fromcurrent\": true, \"mode\": \"immediate\", \"transition\": {\"duration\": 0, \"easing\": \"linear\"}}], \"label\": \"9\", \"method\": \"animate\"}, {\"args\": [[\"10\"], {\"frame\": {\"duration\": 0, \"redraw\": true}, \"fromcurrent\": true, \"mode\": \"immediate\", \"transition\": {\"duration\": 0, \"easing\": \"linear\"}}], \"label\": \"10\", \"method\": \"animate\"}, {\"args\": [[\"11\"], {\"frame\": {\"duration\": 0, \"redraw\": true}, \"fromcurrent\": true, \"mode\": \"immediate\", \"transition\": {\"duration\": 0, \"easing\": \"linear\"}}], \"label\": \"11\", \"method\": \"animate\"}, {\"args\": [[\"12\"], {\"frame\": {\"duration\": 0, \"redraw\": true}, \"fromcurrent\": true, \"mode\": \"immediate\", \"transition\": {\"duration\": 0, \"easing\": \"linear\"}}], \"label\": \"12\", \"method\": \"animate\"}, {\"args\": [[\"13\"], {\"frame\": {\"duration\": 0, \"redraw\": true}, \"fromcurrent\": true, \"mode\": \"immediate\", \"transition\": {\"duration\": 0, \"easing\": \"linear\"}}], \"label\": \"13\", \"method\": \"animate\"}, {\"args\": [[\"14\"], {\"frame\": {\"duration\": 0, \"redraw\": true}, \"fromcurrent\": true, \"mode\": \"immediate\", \"transition\": {\"duration\": 0, \"easing\": \"linear\"}}], \"label\": \"14\", \"method\": \"animate\"}, {\"args\": [[\"15\"], {\"frame\": {\"duration\": 0, \"redraw\": true}, \"fromcurrent\": true, \"mode\": \"immediate\", \"transition\": {\"duration\": 0, \"easing\": \"linear\"}}], \"label\": \"15\", \"method\": \"animate\"}, {\"args\": [[\"16\"], {\"frame\": {\"duration\": 0, \"redraw\": true}, \"fromcurrent\": true, \"mode\": \"immediate\", \"transition\": {\"duration\": 0, \"easing\": \"linear\"}}], \"label\": \"16\", \"method\": \"animate\"}, {\"args\": [[\"17\"], {\"frame\": {\"duration\": 0, \"redraw\": true}, \"fromcurrent\": true, \"mode\": \"immediate\", \"transition\": {\"duration\": 0, \"easing\": \"linear\"}}], \"label\": \"17\", \"method\": \"animate\"}, {\"args\": [[\"18\"], {\"frame\": {\"duration\": 0, \"redraw\": true}, \"fromcurrent\": true, \"mode\": \"immediate\", \"transition\": {\"duration\": 0, \"easing\": \"linear\"}}], \"label\": \"18\", \"method\": \"animate\"}, {\"args\": [[\"19\"], {\"frame\": {\"duration\": 0, \"redraw\": true}, \"fromcurrent\": true, \"mode\": \"immediate\", \"transition\": {\"duration\": 0, \"easing\": \"linear\"}}], \"label\": \"19\", \"method\": \"animate\"}, {\"args\": [[\"20\"], {\"frame\": {\"duration\": 0, \"redraw\": true}, \"fromcurrent\": true, \"mode\": \"immediate\", \"transition\": {\"duration\": 0, \"easing\": \"linear\"}}], \"label\": \"20\", \"method\": \"animate\"}, {\"args\": [[\"21\"], {\"frame\": {\"duration\": 0, \"redraw\": true}, \"fromcurrent\": true, \"mode\": \"immediate\", \"transition\": {\"duration\": 0, \"easing\": \"linear\"}}], \"label\": \"21\", \"method\": \"animate\"}, {\"args\": [[\"22\"], {\"frame\": {\"duration\": 0, \"redraw\": true}, \"fromcurrent\": true, \"mode\": \"immediate\", \"transition\": {\"duration\": 0, \"easing\": \"linear\"}}], \"label\": \"22\", \"method\": \"animate\"}, {\"args\": [[\"23\"], {\"frame\": {\"duration\": 0, \"redraw\": true}, \"fromcurrent\": true, \"mode\": \"immediate\", \"transition\": {\"duration\": 0, \"easing\": \"linear\"}}], \"label\": \"23\", \"method\": \"animate\"}, {\"args\": [[\"24\"], {\"frame\": {\"duration\": 0, \"redraw\": true}, \"fromcurrent\": true, \"mode\": \"immediate\", \"transition\": {\"duration\": 0, \"easing\": \"linear\"}}], \"label\": \"24\", \"method\": \"animate\"}, {\"args\": [[\"25\"], {\"frame\": {\"duration\": 0, \"redraw\": true}, \"fromcurrent\": true, \"mode\": \"immediate\", \"transition\": {\"duration\": 0, \"easing\": \"linear\"}}], \"label\": \"25\", \"method\": \"animate\"}, {\"args\": [[\"26\"], {\"frame\": {\"duration\": 0, \"redraw\": true}, \"fromcurrent\": true, \"mode\": \"immediate\", \"transition\": {\"duration\": 0, \"easing\": \"linear\"}}], \"label\": \"26\", \"method\": \"animate\"}, {\"args\": [[\"27\"], {\"frame\": {\"duration\": 0, \"redraw\": true}, \"fromcurrent\": true, \"mode\": \"immediate\", \"transition\": {\"duration\": 0, \"easing\": \"linear\"}}], \"label\": \"27\", \"method\": \"animate\"}, {\"args\": [[\"28\"], {\"frame\": {\"duration\": 0, \"redraw\": true}, \"fromcurrent\": true, \"mode\": \"immediate\", \"transition\": {\"duration\": 0, \"easing\": \"linear\"}}], \"label\": \"28\", \"method\": \"animate\"}], \"x\": 0.1, \"xanchor\": \"left\", \"y\": 0, \"yanchor\": \"top\"}], \"template\": {\"data\": {\"bar\": [{\"error_x\": {\"color\": \"#2a3f5f\"}, \"error_y\": {\"color\": \"#2a3f5f\"}, \"marker\": {\"line\": {\"color\": \"#E5ECF6\", \"width\": 0.5}}, \"type\": \"bar\"}], \"barpolar\": [{\"marker\": {\"line\": {\"color\": \"#E5ECF6\", \"width\": 0.5}}, \"type\": \"barpolar\"}], \"carpet\": [{\"aaxis\": {\"endlinecolor\": \"#2a3f5f\", \"gridcolor\": \"white\", \"linecolor\": \"white\", \"minorgridcolor\": \"white\", \"startlinecolor\": \"#2a3f5f\"}, \"baxis\": {\"endlinecolor\": \"#2a3f5f\", \"gridcolor\": \"white\", \"linecolor\": \"white\", \"minorgridcolor\": \"white\", \"startlinecolor\": \"#2a3f5f\"}, \"type\": \"carpet\"}], \"choropleth\": [{\"colorbar\": {\"outlinewidth\": 0, \"ticks\": \"\"}, \"type\": \"choropleth\"}], \"contour\": [{\"colorbar\": {\"outlinewidth\": 0, \"ticks\": \"\"}, \"colorscale\": [[0.0, \"#0d0887\"], [0.1111111111111111, \"#46039f\"], [0.2222222222222222, \"#7201a8\"], [0.3333333333333333, \"#9c179e\"], [0.4444444444444444, \"#bd3786\"], [0.5555555555555556, \"#d8576b\"], [0.6666666666666666, \"#ed7953\"], [0.7777777777777778, \"#fb9f3a\"], [0.8888888888888888, \"#fdca26\"], [1.0, \"#f0f921\"]], \"type\": \"contour\"}], \"contourcarpet\": [{\"colorbar\": {\"outlinewidth\": 0, \"ticks\": \"\"}, \"type\": \"contourcarpet\"}], \"heatmap\": [{\"colorbar\": {\"outlinewidth\": 0, \"ticks\": \"\"}, \"colorscale\": [[0.0, \"#0d0887\"], [0.1111111111111111, \"#46039f\"], [0.2222222222222222, \"#7201a8\"], [0.3333333333333333, \"#9c179e\"], [0.4444444444444444, \"#bd3786\"], [0.5555555555555556, \"#d8576b\"], [0.6666666666666666, \"#ed7953\"], [0.7777777777777778, \"#fb9f3a\"], [0.8888888888888888, \"#fdca26\"], [1.0, \"#f0f921\"]], \"type\": \"heatmap\"}], \"heatmapgl\": [{\"colorbar\": {\"outlinewidth\": 0, \"ticks\": \"\"}, \"colorscale\": [[0.0, \"#0d0887\"], [0.1111111111111111, \"#46039f\"], [0.2222222222222222, \"#7201a8\"], [0.3333333333333333, \"#9c179e\"], [0.4444444444444444, \"#bd3786\"], [0.5555555555555556, \"#d8576b\"], [0.6666666666666666, \"#ed7953\"], [0.7777777777777778, \"#fb9f3a\"], [0.8888888888888888, \"#fdca26\"], [1.0, \"#f0f921\"]], \"type\": \"heatmapgl\"}], \"histogram\": [{\"marker\": {\"colorbar\": {\"outlinewidth\": 0, \"ticks\": \"\"}}, \"type\": \"histogram\"}], \"histogram2d\": [{\"colorbar\": {\"outlinewidth\": 0, \"ticks\": \"\"}, \"colorscale\": [[0.0, \"#0d0887\"], [0.1111111111111111, \"#46039f\"], [0.2222222222222222, \"#7201a8\"], [0.3333333333333333, \"#9c179e\"], [0.4444444444444444, \"#bd3786\"], [0.5555555555555556, \"#d8576b\"], [0.6666666666666666, \"#ed7953\"], [0.7777777777777778, \"#fb9f3a\"], [0.8888888888888888, \"#fdca26\"], [1.0, \"#f0f921\"]], \"type\": \"histogram2d\"}], \"histogram2dcontour\": [{\"colorbar\": {\"outlinewidth\": 0, \"ticks\": \"\"}, \"colorscale\": [[0.0, \"#0d0887\"], [0.1111111111111111, \"#46039f\"], [0.2222222222222222, \"#7201a8\"], [0.3333333333333333, \"#9c179e\"], [0.4444444444444444, \"#bd3786\"], [0.5555555555555556, \"#d8576b\"], [0.6666666666666666, \"#ed7953\"], [0.7777777777777778, \"#fb9f3a\"], [0.8888888888888888, \"#fdca26\"], [1.0, \"#f0f921\"]], \"type\": \"histogram2dcontour\"}], \"mesh3d\": [{\"colorbar\": {\"outlinewidth\": 0, \"ticks\": \"\"}, \"type\": \"mesh3d\"}], \"parcoords\": [{\"line\": {\"colorbar\": {\"outlinewidth\": 0, \"ticks\": \"\"}}, \"type\": \"parcoords\"}], \"pie\": [{\"automargin\": true, \"type\": \"pie\"}], \"scatter\": [{\"marker\": {\"colorbar\": {\"outlinewidth\": 0, \"ticks\": \"\"}}, \"type\": \"scatter\"}], \"scatter3d\": [{\"line\": {\"colorbar\": {\"outlinewidth\": 0, \"ticks\": \"\"}}, \"marker\": {\"colorbar\": {\"outlinewidth\": 0, \"ticks\": \"\"}}, \"type\": \"scatter3d\"}], \"scattercarpet\": [{\"marker\": {\"colorbar\": {\"outlinewidth\": 0, \"ticks\": \"\"}}, \"type\": \"scattercarpet\"}], \"scattergeo\": [{\"marker\": {\"colorbar\": {\"outlinewidth\": 0, \"ticks\": \"\"}}, \"type\": \"scattergeo\"}], \"scattergl\": [{\"marker\": {\"colorbar\": {\"outlinewidth\": 0, \"ticks\": \"\"}}, \"type\": \"scattergl\"}], \"scattermapbox\": [{\"marker\": {\"colorbar\": {\"outlinewidth\": 0, \"ticks\": \"\"}}, \"type\": \"scattermapbox\"}], \"scatterpolar\": [{\"marker\": {\"colorbar\": {\"outlinewidth\": 0, \"ticks\": \"\"}}, \"type\": \"scatterpolar\"}], \"scatterpolargl\": [{\"marker\": {\"colorbar\": {\"outlinewidth\": 0, \"ticks\": \"\"}}, \"type\": \"scatterpolargl\"}], \"scatterternary\": [{\"marker\": {\"colorbar\": {\"outlinewidth\": 0, \"ticks\": \"\"}}, \"type\": \"scatterternary\"}], \"surface\": [{\"colorbar\": {\"outlinewidth\": 0, \"ticks\": \"\"}, \"colorscale\": [[0.0, \"#0d0887\"], [0.1111111111111111, \"#46039f\"], [0.2222222222222222, \"#7201a8\"], [0.3333333333333333, \"#9c179e\"], [0.4444444444444444, \"#bd3786\"], [0.5555555555555556, \"#d8576b\"], [0.6666666666666666, \"#ed7953\"], [0.7777777777777778, \"#fb9f3a\"], [0.8888888888888888, \"#fdca26\"], [1.0, \"#f0f921\"]], \"type\": \"surface\"}], \"table\": [{\"cells\": {\"fill\": {\"color\": \"#EBF0F8\"}, \"line\": {\"color\": \"white\"}}, \"header\": {\"fill\": {\"color\": \"#C8D4E3\"}, \"line\": {\"color\": \"white\"}}, \"type\": \"table\"}]}, \"layout\": {\"annotationdefaults\": {\"arrowcolor\": \"#2a3f5f\", \"arrowhead\": 0, \"arrowwidth\": 1}, \"autotypenumbers\": \"strict\", \"coloraxis\": {\"colorbar\": {\"outlinewidth\": 0, \"ticks\": \"\"}}, \"colorscale\": {\"diverging\": [[0, \"#8e0152\"], [0.1, \"#c51b7d\"], [0.2, \"#de77ae\"], [0.3, \"#f1b6da\"], [0.4, \"#fde0ef\"], [0.5, \"#f7f7f7\"], [0.6, \"#e6f5d0\"], [0.7, \"#b8e186\"], [0.8, \"#7fbc41\"], [0.9, \"#4d9221\"], [1, \"#276419\"]], \"sequential\": [[0.0, \"#0d0887\"], [0.1111111111111111, \"#46039f\"], [0.2222222222222222, \"#7201a8\"], [0.3333333333333333, \"#9c179e\"], [0.4444444444444444, \"#bd3786\"], [0.5555555555555556, \"#d8576b\"], [0.6666666666666666, \"#ed7953\"], [0.7777777777777778, \"#fb9f3a\"], [0.8888888888888888, \"#fdca26\"], [1.0, \"#f0f921\"]], \"sequentialminus\": [[0.0, \"#0d0887\"], [0.1111111111111111, \"#46039f\"], [0.2222222222222222, \"#7201a8\"], [0.3333333333333333, \"#9c179e\"], [0.4444444444444444, \"#bd3786\"], [0.5555555555555556, \"#d8576b\"], [0.6666666666666666, \"#ed7953\"], [0.7777777777777778, \"#fb9f3a\"], [0.8888888888888888, \"#fdca26\"], [1.0, \"#f0f921\"]]}, \"colorway\": [\"#636efa\", \"#EF553B\", \"#00cc96\", \"#ab63fa\", \"#FFA15A\", \"#19d3f3\", \"#FF6692\", \"#B6E880\", \"#FF97FF\", \"#FECB52\"], \"font\": {\"color\": \"#2a3f5f\"}, \"geo\": {\"bgcolor\": \"white\", \"lakecolor\": \"white\", \"landcolor\": \"#E5ECF6\", \"showlakes\": true, \"showland\": true, \"subunitcolor\": \"white\"}, \"hoverlabel\": {\"align\": \"left\"}, \"hovermode\": \"closest\", \"mapbox\": {\"style\": \"light\"}, \"paper_bgcolor\": \"white\", \"plot_bgcolor\": \"#E5ECF6\", \"polar\": {\"angularaxis\": {\"gridcolor\": \"white\", \"linecolor\": \"white\", \"ticks\": \"\"}, \"bgcolor\": \"#E5ECF6\", \"radialaxis\": {\"gridcolor\": \"white\", \"linecolor\": \"white\", \"ticks\": \"\"}}, \"scene\": {\"xaxis\": {\"backgroundcolor\": \"#E5ECF6\", \"gridcolor\": \"white\", \"gridwidth\": 2, \"linecolor\": \"white\", \"showbackground\": true, \"ticks\": \"\", \"zerolinecolor\": \"white\"}, \"yaxis\": {\"backgroundcolor\": \"#E5ECF6\", \"gridcolor\": \"white\", \"gridwidth\": 2, \"linecolor\": \"white\", \"showbackground\": true, \"ticks\": \"\", \"zerolinecolor\": \"white\"}, \"zaxis\": {\"backgroundcolor\": \"#E5ECF6\", \"gridcolor\": \"white\", \"gridwidth\": 2, \"linecolor\": \"white\", \"showbackground\": true, \"ticks\": \"\", \"zerolinecolor\": \"white\"}}, \"shapedefaults\": {\"line\": {\"color\": \"#2a3f5f\"}}, \"ternary\": {\"aaxis\": {\"gridcolor\": \"white\", \"linecolor\": \"white\", \"ticks\": \"\"}, \"baxis\": {\"gridcolor\": \"white\", \"linecolor\": \"white\", \"ticks\": \"\"}, \"bgcolor\": \"#E5ECF6\", \"caxis\": {\"gridcolor\": \"white\", \"linecolor\": \"white\", \"ticks\": \"\"}}, \"title\": {\"x\": 0.05}, \"xaxis\": {\"automargin\": true, \"gridcolor\": \"white\", \"linecolor\": \"white\", \"ticks\": \"\", \"title\": {\"standoff\": 15}, \"zerolinecolor\": \"white\", \"zerolinewidth\": 2}, \"yaxis\": {\"automargin\": true, \"gridcolor\": \"white\", \"linecolor\": \"white\", \"ticks\": \"\", \"title\": {\"standoff\": 15}, \"zerolinecolor\": \"white\", \"zerolinewidth\": 2}}}, \"updatemenus\": [{\"buttons\": [{\"args\": [null, {\"frame\": {\"duration\": 500, \"redraw\": true}, \"fromcurrent\": true, \"mode\": \"immediate\", \"transition\": {\"duration\": 500, \"easing\": \"linear\"}}], \"label\": \"&#9654;\", \"method\": \"animate\"}, {\"args\": [[null], {\"frame\": {\"duration\": 0, \"redraw\": true}, \"fromcurrent\": true, \"mode\": \"immediate\", \"transition\": {\"duration\": 0, \"easing\": \"linear\"}}], \"label\": \"&#9724;\", \"method\": \"animate\"}], \"direction\": \"left\", \"pad\": {\"r\": 10, \"t\": 70}, \"showactive\": false, \"type\": \"buttons\", \"x\": 0.1, \"xanchor\": \"right\", \"y\": 0, \"yanchor\": \"top\"}], \"width\": 800},                        {\"responsive\": true}                    ).then(function(){\n",
       "                            Plotly.addFrames('9b6972e8-bd45-4e8d-8bd3-214d116aa4d7', [{\"data\": [{\"hovertemplate\": \"<b>%{hovertext}</b><br><br>particle=1<br>x=%{x}<br>y=%{y}<br>z=%{z}<extra></extra>\", \"hovertext\": [1.0, 1.0, 1.0, 1.0, 1.0, 1.0, 1.0, 1.0, 1.0, 1.0, 1.0, 1.0, 1.0, 1.0, 1.0], \"ids\": [\"6\", \"6\", \"6\", \"6\", \"6\", \"6\", \"6\", \"6\", \"6\", \"6\", \"6\", \"6\", \"6\", \"6\", \"6\"], \"legendgroup\": \"\", \"line\": {\"color\": \"#636efa\", \"dash\": \"solid\"}, \"mode\": \"lines\", \"name\": \"\", \"scene\": \"scene\", \"showlegend\": false, \"x\": [0.0, 0.0, -0.12016467406302413, -0.186019578152938, -0.34769175556103066, -1.1186753956045128, -1.358032122656638, -1.9120514933151056, -3.034136400750428, -3.0502171814509134, -3.542327982914184, -3.680439708747429, -3.5681975877082497, -3.5125693432931286, 3.553459562457756], \"y\": [0.0, 0.0, 0.011495905282586007, -0.16331128319918964, -0.4900556125538286, -0.8471411003223246, -0.7955122014028477, -0.07063827133085158, 0.24168901282607055, 0.8453300533588542, 2.4626393055504345, 5.183022328884782, 5.273949810155369, 5.402051508685895, 9.101468899944836], \"z\": [0.0, 0.9023538087836064, 1.2102272784223511, 1.3224218270648147, 1.448690531654036, 1.9048613882174357, 2.221135550507955, 2.3350480330125283, 2.417812654678403, 2.6296112453630505, 3.0498108798938657, 5.803809488656412, 5.876194553960496, 6.0709096975617, 7.22841622577697], \"type\": \"scatter3d\"}], \"name\": \"1\"}, {\"data\": [{\"hovertemplate\": \"<b>%{hovertext}</b><br><br>particle=2<br>x=%{x}<br>y=%{y}<br>z=%{z}<extra></extra>\", \"hovertext\": [2.0, 2.0, 2.0, 2.0, 2.0, 2.0, 2.0, 2.0, 2.0, 2.0, 2.0, 2.0], \"ids\": [\"6\", \"6\", \"6\", \"6\", \"6\", \"6\", \"6\", \"6\", \"6\", \"6\", \"6\", \"6\"], \"legendgroup\": \"\", \"line\": {\"color\": \"#636efa\", \"dash\": \"solid\"}, \"mode\": \"lines\", \"name\": \"\", \"scene\": \"scene\", \"showlegend\": false, \"x\": [0.0, 0.0, -0.3656768236202069, 0.6198896898694943, 1.0053214599402815, 1.0552326117697737, 1.4136289157380224, 2.143763683486817, 2.580801231159802, 3.0007012492849774, 4.120964600300464, 4.572993260281674], \"y\": [0.0, 0.0, -0.7717957679628221, -2.3062222864081763, -2.721321963478999, -2.722241322855921, -2.8035509052144216, -2.2976426895148667, -2.387489048648991, -2.0917512617608947, -1.944945510094668, -0.625635209776124], \"z\": [0.0, 2.0494244277317955, 3.1004307800633955, 3.2466839111776955, 3.709374439157091, 3.712231011351832, 3.932280415964637, 4.088111776968157, 4.097892041261264, 4.472496770799494, 4.603162195200198, 4.821951903274121], \"type\": \"scatter3d\"}], \"name\": \"2\"}, {\"data\": [{\"hovertemplate\": \"<b>%{hovertext}</b><br><br>particle=3<br>x=%{x}<br>y=%{y}<br>z=%{z}<extra></extra>\", \"hovertext\": [3.0, 3.0, 3.0, 3.0, 3.0, 3.0, 3.0, 3.0, 3.0, 3.0, 3.0, 3.0], \"ids\": [\"6\", \"6\", \"6\", \"6\", \"6\", \"6\", \"6\", \"6\", \"6\", \"6\", \"6\", \"6\"], \"legendgroup\": \"\", \"line\": {\"color\": \"#636efa\", \"dash\": \"solid\"}, \"mode\": \"lines\", \"name\": \"\", \"scene\": \"scene\", \"showlegend\": false, \"x\": [0.0, 0.0, 0.25106081830405835, 0.9075696107943948, 0.9838182384258785, 1.0958508913460372, 1.1560896822896096, 1.5381142889985118, 0.46323247199586, 1.3712546291361312, 1.390207392403643, 1.4471206522963938], \"y\": [0.0, 0.0, 0.4515184646653459, 0.5430979015420727, 0.8170184948466246, 0.8138320409737461, 0.8478330697141317, 1.741318526999774, 2.6867940921653, 3.4831827943948106, 3.531927215542411, 3.9130638294918234], \"z\": [0.0, 0.1663868269808662, 0.720422086197333, 1.7142610542431365, 1.9256261170479831, 1.9822273758930864, 1.9897572923916915, 2.970398487585227, 4.075701053906164, 6.531947590793542, 6.623272219725171, 6.740458512439326], \"type\": \"scatter3d\"}], \"name\": \"3\"}, {\"data\": [{\"hovertemplate\": \"<b>%{hovertext}</b><br><br>particle=4<br>x=%{x}<br>y=%{y}<br>z=%{z}<extra></extra>\", \"hovertext\": [4.0, 4.0, 4.0, 4.0, 4.0, 4.0, 4.0, 4.0, 4.0, 4.0, 4.0, 4.0, 4.0, 4.0, 4.0], \"ids\": [\"6\", \"6\", \"6\", \"6\", \"6\", \"6\", \"6\", \"6\", \"6\", \"6\", \"6\", \"6\", \"6\", \"6\", \"6\"], \"legendgroup\": \"\", \"line\": {\"color\": \"#636efa\", \"dash\": \"solid\"}, \"mode\": \"lines\", \"name\": \"\", \"scene\": \"scene\", \"showlegend\": false, \"x\": [0.0, 0.0, 0.05034756368659792, 1.9605207837562224, 1.9851582369545673, 2.0559115165195294, 2.289350693373147, 2.289139344747428, 1.5249095279982463, 0.6750213984258129, 0.1628289848933328, -0.13596504188215194, -1.7628982462668863, -2.999473537082832, -2.9857584490047246], \"y\": [0.0, 0.0, 0.009003262840474424, 0.5766794162960789, 0.7780616339830694, 1.0071522582584356, 1.358577534037508, 1.3597441864877964, 1.7444683870139182, 1.272336246084829, 0.22543806347045625, 0.2211239604362908, -0.04463126861806922, 1.1316460734947251, 1.1527730387991038], \"z\": [0.0, 3.0556574659233138, 3.1132695349028703, 3.6674876902979983, 3.794232297878666, 3.810760916632992, 3.965687831147216, 3.966006682341928, 4.000028485734364, 4.398559790347467, 4.789235672388222, 4.869042853928828, 5.8836573602383515, 6.55889149778447, 6.599758624938022], \"type\": \"scatter3d\"}], \"name\": \"4\"}, {\"data\": [{\"hovertemplate\": \"<b>%{hovertext}</b><br><br>particle=5<br>x=%{x}<br>y=%{y}<br>z=%{z}<extra></extra>\", \"hovertext\": [5.0, 5.0, 5.0, 5.0, 5.0, 5.0, 5.0, 5.0, 5.0, 5.0, 5.0, 5.0, 5.0], \"ids\": [\"6\", \"6\", \"6\", \"6\", \"6\", \"6\", \"6\", \"6\", \"6\", \"6\", \"6\", \"6\", \"6\"], \"legendgroup\": \"\", \"line\": {\"color\": \"#636efa\", \"dash\": \"solid\"}, \"mode\": \"lines\", \"name\": \"\", \"scene\": \"scene\", \"showlegend\": false, \"x\": [0.0, 0.0, -0.27571696298744386, -0.39661969160244853, 0.4573254013964052, 0.6636867801504907, 1.1496449911057145, 1.2477038635164546, 2.087834825152004, 2.1933829332689125, 2.3988071942964884, 2.5502232802184683, 2.5072300195659207], \"y\": [0.0, 0.0, 2.5003276477555216, 2.4308178876068705, 1.5924554515446547, 1.6715667896288533, 1.885531673035782, 1.7934614071351345, 1.420077518559092, 1.1974843879862809, 0.986354460934585, 0.09862346901590896, 0.08405251548062516], \"z\": [0.0, 0.16143306634020355, 3.567256776158484, 4.785235784917569, 5.34383906020584, 5.427431213725101, 5.471839038646859, 5.503200352292626, 6.581867175677126, 7.438417071237053, 7.564512093637779, 7.650100277922861, 7.65094012796583], \"type\": \"scatter3d\"}], \"name\": \"5\"}, {\"data\": [{\"hovertemplate\": \"<b>%{hovertext}</b><br><br>particle=6<br>x=%{x}<br>y=%{y}<br>z=%{z}<extra></extra>\", \"hovertext\": [6.0, 6.0, 6.0, 6.0, 6.0, 6.0, 6.0, 6.0, 6.0, 6.0, 6.0], \"ids\": [\"6\", \"6\", \"6\", \"6\", \"6\", \"6\", \"6\", \"6\", \"6\", \"6\", \"6\"], \"legendgroup\": \"\", \"line\": {\"color\": \"#636efa\", \"dash\": \"solid\"}, \"mode\": \"lines\", \"name\": \"\", \"scene\": \"scene\", \"showlegend\": false, \"x\": [0.0, 0.0, -0.027386003339725174, -0.2422416953596083, -0.4094507643743335, -0.17548747072756832, 1.0884476073441165, 1.49300071558097, 1.5846576099476393, 1.784817740813106, 3.508362910506636], \"y\": [0.0, 0.0, -0.4657923897242534, -0.5341029494324049, -1.2574241444960694, -1.27040398813767, -1.308108404177316, -1.3143232554183135, -1.2805962996240394, -1.2713186239932093, -0.5668009294505102], \"z\": [0.0, 1.4380321340885789, 2.3873283361301887, 2.5966108933639647, 3.123886385196279, 3.4250409178486727, 3.5573955955702523, 4.243367849234549, 4.53740060909759, 4.680269977785797, 6.3032179697193165], \"type\": \"scatter3d\"}], \"name\": \"6\"}, {\"data\": [{\"hovertemplate\": \"<b>%{hovertext}</b><br><br>particle=7<br>x=%{x}<br>y=%{y}<br>z=%{z}<extra></extra>\", \"hovertext\": [7.0, 7.0, 7.0, 7.0, 7.0, 7.0, 7.0, 7.0, 7.0, 7.0, 7.0, 7.0, 7.0, 7.0, 7.0, 7.0], \"ids\": [\"6\", \"6\", \"6\", \"6\", \"6\", \"6\", \"6\", \"6\", \"6\", \"6\", \"6\", \"6\", \"6\", \"6\", \"6\", \"6\"], \"legendgroup\": \"\", \"line\": {\"color\": \"#636efa\", \"dash\": \"solid\"}, \"mode\": \"lines\", \"name\": \"\", \"scene\": \"scene\", \"showlegend\": false, \"x\": [0.0, 0.0, -1.9358351332379768, -2.565417112484212, -2.570135465191152, -2.304735080380554, 0.4929607228590863, 0.7694708045714302, 1.4552873011014773, 1.7979459868132854, 1.8121957734012453, 2.2117966544547683, 2.9927124337021955, 3.138627812274653, 3.948450195326272, 4.134967601247856], \"y\": [0.0, 0.0, -1.4356262055881208, -2.7745394371438405, -3.0626065407909837, -3.49158990170215, -5.756090626205294, -9.271420968967009, -9.9343561493292, -11.48453560578008, -11.911801900617965, -11.819015580045388, -11.66326731895027, -11.775792167984912, -12.029076746324732, -12.043521986683151], \"z\": [0.0, 0.14680773637226768, 0.8230071223116434, 1.252093994538947, 1.3652636267906726, 1.4136495779368077, 3.035033212402596, 4.290226487115323, 4.94184643854307, 5.244391933134368, 5.551625476526083, 6.388530200381991, 7.418613154999725, 7.730564362218613, 7.97771036125448, 8.47553010271145], \"type\": \"scatter3d\"}], \"name\": \"7\"}, {\"data\": [{\"hovertemplate\": \"<b>%{hovertext}</b><br><br>particle=8<br>x=%{x}<br>y=%{y}<br>z=%{z}<extra></extra>\", \"hovertext\": [8.0, 8.0, 8.0, 8.0, 8.0, 8.0, 8.0, 8.0, 8.0, 8.0, 8.0], \"ids\": [\"6\", \"6\", \"6\", \"6\", \"6\", \"6\", \"6\", \"6\", \"6\", \"6\", \"6\"], \"legendgroup\": \"\", \"line\": {\"color\": \"#636efa\", \"dash\": \"solid\"}, \"mode\": \"lines\", \"name\": \"\", \"scene\": \"scene\", \"showlegend\": false, \"x\": [0.0, 0.0, 1.1176125628754916, 1.1680722114128894, 1.4789697850128505, 1.2946200087665676, 1.3439500024998017, 2.5085193861286728, 2.0752270599713585, 2.0418725006113947, 0.907878018278294], \"y\": [0.0, 0.0, -0.16468554022956353, 0.33269799845638875, 0.460307518000333, -0.03828919200245149, -0.06604189555908392, -1.4422781523416892, -1.6761891167536545, -1.6812477700453805, -1.2657619773144593], \"z\": [0.0, 0.6994306210475096, 1.3256771743739073, 1.6818174836756337, 2.288485874301652, 2.943908933878301, 2.959834000388041, 3.895564544900432, 4.392369567027966, 4.392413586149685, 6.490111507368964], \"type\": \"scatter3d\"}], \"name\": \"8\"}, {\"data\": [{\"hovertemplate\": \"<b>%{hovertext}</b><br><br>particle=9<br>x=%{x}<br>y=%{y}<br>z=%{z}<extra></extra>\", \"hovertext\": [9.0, 9.0, 9.0, 9.0, 9.0, 9.0, 9.0, 9.0, 9.0, 9.0, 9.0, 9.0, 9.0, 9.0, 9.0, 9.0], \"ids\": [\"6\", \"6\", \"6\", \"6\", \"6\", \"6\", \"6\", \"6\", \"6\", \"6\", \"6\", \"6\", \"6\", \"6\", \"6\", \"6\"], \"legendgroup\": \"\", \"line\": {\"color\": \"#636efa\", \"dash\": \"solid\"}, \"mode\": \"lines\", \"name\": \"\", \"scene\": \"scene\", \"showlegend\": false, \"x\": [0.0, 0.0, -0.503860418771476, -0.9087947510007576, -1.0110384020699057, -1.0487688575450702, -0.7034774527018473, -0.4813137935236709, -0.671240124784698, -0.019043740576763654, -0.9054807446294744, -1.6339097853833275, -2.536916867129046, -2.6773791689079323, -2.398592769235066, -2.3829283443655687], \"y\": [0.0, 0.0, 0.16030062125055278, 0.13781200962266035, 0.1869092959471464, 0.33635101852545995, 0.8177789242963925, 2.7762408818225137, 3.07572488823736, 4.046549315569754, 6.946499472466296, 7.446361987312273, 7.541661824393131, 7.716381787255243, 8.248114329700286, 8.793609713133117], \"z\": [0.0, 0.2838785459417575, 0.7563426093256781, 1.3763329120616077, 1.4204708540486957, 1.4259136703988944, 1.5138217978819462, 2.385020210723803, 2.6003640837787447, 3.020964379820193, 3.915051494827644, 5.027622398492141, 5.5827817111947216, 5.712995928750497, 5.896860435885712, 6.000582174741457], \"type\": \"scatter3d\"}], \"name\": \"9\"}, {\"data\": [{\"hovertemplate\": \"<b>%{hovertext}</b><br><br>particle=10<br>x=%{x}<br>y=%{y}<br>z=%{z}<extra></extra>\", \"hovertext\": [10.0, 10.0, 10.0, 10.0, 10.0, 10.0, 10.0, 10.0, 10.0, 10.0, 10.0, 10.0, 10.0, 10.0, 10.0, 10.0, 10.0, 10.0, 10.0, 10.0, 10.0, 10.0], \"ids\": [\"6\", \"6\", \"6\", \"6\", \"6\", \"6\", \"6\", \"6\", \"6\", \"6\", \"6\", \"6\", \"6\", \"6\", \"6\", \"6\", \"6\", \"6\", \"6\", \"6\", \"6\", \"6\"], \"legendgroup\": \"\", \"line\": {\"color\": \"#636efa\", \"dash\": \"solid\"}, \"mode\": \"lines\", \"name\": \"\", \"scene\": \"scene\", \"showlegend\": false, \"x\": [0.0, 0.0, -0.22190149492413647, 0.0384735024800098, 0.2403193529598731, 2.646453208765182, 3.651836441082241, 4.596797749229465, 5.789298020754706, 9.469776498130269, 9.447025531802048, 8.741195976842315, 8.72953743995006, 8.895194618972418, 9.113468605712162, 9.287749174961922, 9.304133357762842, 9.705628911663746, 9.779466032857203, 9.785027458867935, 9.900804825577058, 10.00251881832803], \"y\": [0.0, 0.0, 0.3962026932107519, 0.34245303430200813, 0.1497026534598163, 0.03014276182445392, -0.29812958502797854, -0.17167587017855312, -0.3073444749639028, -3.061721055931652, -3.8558683546248975, -6.336483895110627, -6.391022203595639, -6.576762314944047, -6.547617562450881, -6.188798778324966, -6.1819810922113065, -6.1489378437655535, -6.162053881778584, -6.292304300853824, -6.340468686566733, -6.294829763565001], \"z\": [0.0, 1.1510562346380089, 1.632233046702661, 2.39075821070534, 2.5346985440522136, 2.546964167350211, 3.0298783647883454, 3.123553195066624, 3.654702032276985, 3.8473407759849967, 4.877972664217913, 5.900302983737757, 5.9848432456271246, 6.083237097714898, 6.169064599246815, 6.509755413132313, 6.520589234194811, 6.785436938947801, 6.852231915855447, 6.981337488616799, 7.1242866268444685, 7.144741805177626], \"type\": \"scatter3d\"}], \"name\": \"10\"}, {\"data\": [{\"hovertemplate\": \"<b>%{hovertext}</b><br><br>particle=11<br>x=%{x}<br>y=%{y}<br>z=%{z}<extra></extra>\", \"hovertext\": [11.0, 11.0, 11.0, 11.0, 11.0, 11.0, 11.0, 11.0, 11.0, 11.0, 11.0, 11.0, 11.0, 11.0], \"ids\": [\"6\", \"6\", \"6\", \"6\", \"6\", \"6\", \"6\", \"6\", \"6\", \"6\", \"6\", \"6\", \"6\", \"6\"], \"legendgroup\": \"\", \"line\": {\"color\": \"#636efa\", \"dash\": \"solid\"}, \"mode\": \"lines\", \"name\": \"\", \"scene\": \"scene\", \"showlegend\": false, \"x\": [0.0, 0.0, -1.385532437113679, -0.9688920137628872, -0.8951798876460504, 0.11028629731228773, 0.8760593410906563, 2.2824869325846984, 2.3103548572306427, 2.311589684184871, 2.007218556928504, 2.1717529285908928, 3.198499425348996, 4.447402487164691], \"y\": [0.0, 0.0, 0.365821760552928, 0.9255065048265028, 1.0524094544318048, 1.4134839968792907, 1.695116453466044, 2.013060986648, 2.063945860725812, 2.065834667984141, 2.415810014209566, 2.430689605902604, 3.9398875615230575, 4.49282231163235], \"z\": [0.0, 1.6253625883164085, 3.063194569796434, 3.7530308439901714, 3.8157386125489303, 4.169351707639659, 4.517035758226521, 5.465132053096744, 5.587476637683494, 5.591071044534812, 6.525862266568588, 6.65270430218439, 8.448752028463863, 8.727945713449948], \"type\": \"scatter3d\"}], \"name\": \"11\"}, {\"data\": [{\"hovertemplate\": \"<b>%{hovertext}</b><br><br>particle=12<br>x=%{x}<br>y=%{y}<br>z=%{z}<extra></extra>\", \"hovertext\": [12.0, 12.0, 12.0, 12.0, 12.0, 12.0, 12.0, 12.0, 12.0, 12.0, 12.0, 12.0, 12.0, 12.0, 12.0], \"ids\": [\"6\", \"6\", \"6\", \"6\", \"6\", \"6\", \"6\", \"6\", \"6\", \"6\", \"6\", \"6\", \"6\", \"6\", \"6\"], \"legendgroup\": \"\", \"line\": {\"color\": \"#636efa\", \"dash\": \"solid\"}, \"mode\": \"lines\", \"name\": \"\", \"scene\": \"scene\", \"showlegend\": false, \"x\": [0.0, 0.0, -1.8254445913086303, -2.0076657054605853, -2.257020138626303, -3.027177529799996, -3.4860740985469665, -3.368155094800517, -3.1648547390033848, -2.172199078291114, -2.162341503693916, -2.19131065575738, -3.669312231185157, -3.626814357271512, -3.3198434968950865], \"y\": [0.0, 0.0, -0.15483806425730198, -0.6921628398811182, -0.913046310696611, -2.0448921700166003, -3.1196122589059407, -3.2785565072563867, -3.7501872349995327, -5.91072250027724, -5.932892866513088, -5.954851548217582, -10.556472421806946, -10.635399849154293, -11.185771964613645], \"z\": [0.0, 1.4743910149984647, 2.5415129299937327, 2.9905309215163864, 3.010117844708608, 3.7650074860235994, 4.316789201495543, 4.430906391132521, 5.40591195720214, 7.155820575359687, 7.172595302915127, 7.180862688777864, 9.31313432858581, 9.317486244449746, 9.752244066816083], \"type\": \"scatter3d\"}], \"name\": \"12\"}, {\"data\": [{\"hovertemplate\": \"<b>%{hovertext}</b><br><br>particle=13<br>x=%{x}<br>y=%{y}<br>z=%{z}<extra></extra>\", \"hovertext\": [13.0, 13.0, 13.0, 13.0, 13.0, 13.0, 13.0, 13.0, 13.0, 13.0, 13.0, 13.0, 13.0, 13.0, 13.0], \"ids\": [\"6\", \"6\", \"6\", \"6\", \"6\", \"6\", \"6\", \"6\", \"6\", \"6\", \"6\", \"6\", \"6\", \"6\", \"6\"], \"legendgroup\": \"\", \"line\": {\"color\": \"#636efa\", \"dash\": \"solid\"}, \"mode\": \"lines\", \"name\": \"\", \"scene\": \"scene\", \"showlegend\": false, \"x\": [0.0, 0.0, -0.4547915318626566, -0.3755005381424824, 0.4031623861949468, 0.6953123664345744, 1.1642863283352418, 1.1750150746525878, 1.5654224105121954, 1.9302758927552317, 2.3317856578075062, 3.4093891876640976, 0.27103943509562634, -0.0835879045258856, 0.7831983875855163], \"y\": [0.0, 0.0, -0.989582551066394, -1.0881274389195776, -1.7463881437519906, -1.6196177123216364, -1.5944153685577684, -1.565140909161608, -1.2269549244521871, -1.1951558914833813, -0.4046017513607557, 0.5510764292367405, 2.067524170863424, 2.4155212073514685, 2.463876245276119], \"z\": [0.0, 0.8326969862476582, 1.3992468351683278, 1.4837170208597434, 1.6895603029431352, 1.814788730600441, 1.892018985430216, 1.9024617304753817, 2.1248824943707607, 2.5463662697568226, 3.468345430804433, 5.373155013745105, 8.944819102496414, 9.328893509371513, 11.072111940227394], \"type\": \"scatter3d\"}], \"name\": \"13\"}, {\"data\": [{\"hovertemplate\": \"<b>%{hovertext}</b><br><br>particle=14<br>x=%{x}<br>y=%{y}<br>z=%{z}<extra></extra>\", \"hovertext\": [14.0, 14.0, 14.0, 14.0, 14.0, 14.0, 14.0, 14.0, 14.0, 14.0, 14.0, 14.0], \"ids\": [\"6\", \"6\", \"6\", \"6\", \"6\", \"6\", \"6\", \"6\", \"6\", \"6\", \"6\", \"6\"], \"legendgroup\": \"\", \"line\": {\"color\": \"#636efa\", \"dash\": \"solid\"}, \"mode\": \"lines\", \"name\": \"\", \"scene\": \"scene\", \"showlegend\": false, \"x\": [0.0, 0.0, 0.5734470123913925, 0.7923944405336182, 0.8472662787785189, 0.9688655381551492, 1.2402485869562805, 1.5534421362747732, 2.4541169047405726, 2.3291982001953144, 3.6887623853603215, 3.680182527157677], \"y\": [0.0, 0.0, 0.24941602322438636, 0.5427073035400194, 0.7077187785338193, 0.454412290213309, 0.4098527671861287, 0.24906293463157686, -2.4263614510418448, -3.947102378157236, -5.466932371061398, -5.883516557815771], \"z\": [0.0, 0.3186871259510931, 1.0539597220204775, 1.3174628417470091, 1.4958662483908431, 1.754418673716852, 2.224171198299894, 2.325748084803772, 3.4907133475096663, 4.2191093104010635, 4.3454857721223545, 4.754061681304093], \"type\": \"scatter3d\"}], \"name\": \"14\"}, {\"data\": [{\"hovertemplate\": \"<b>%{hovertext}</b><br><br>particle=15<br>x=%{x}<br>y=%{y}<br>z=%{z}<extra></extra>\", \"hovertext\": [15.0, 15.0, 15.0, 15.0, 15.0, 15.0, 15.0, 15.0, 15.0, 15.0, 15.0, 15.0, 15.0, 15.0, 15.0, 15.0, 15.0, 15.0, 15.0, 15.0], \"ids\": [\"6\", \"6\", \"6\", \"6\", \"6\", \"6\", \"6\", \"6\", \"6\", \"6\", \"6\", \"6\", \"6\", \"6\", \"6\", \"6\", \"6\", \"6\", \"6\", \"6\"], \"legendgroup\": \"\", \"line\": {\"color\": \"#636efa\", \"dash\": \"solid\"}, \"mode\": \"lines\", \"name\": \"\", \"scene\": \"scene\", \"showlegend\": false, \"x\": [0.0, 0.0, 0.3608104459706652, 0.9921951741680431, 1.047804180356691, 0.9483387792535596, 0.899958109064329, 0.7954792687247139, 0.7559739014308429, 2.0378600544950327, 2.993811308980343, 4.030511914464559, 6.93231366532628, 8.054545996301778, 8.324817805467992, 9.349099805555568, 11.550064644619374, 11.761692298151024, 12.475480316664724, 12.264147474627874], \"y\": [0.0, 0.0, 1.3158133427658687, 1.9676619320444864, 2.35040305035245, 2.3900614250812584, 2.430527971385577, 3.086947703166259, 3.9542173252371287, 5.088909276535359, 5.449522061028532, 4.7535412109734505, 4.449732567070537, 5.636451442145472, 5.722330273995228, 6.001259465275736, 4.9858692281536685, 5.233262544170904, 5.0101403314298185, 4.1401231158789455], \"z\": [0.0, 4.252828268320193, 6.112542426433561, 7.802749464974104, 8.548968011316918, 8.711602954363286, 8.717358115214223, 9.091407966349385, 9.493459854985444, 10.078575782550805, 10.371442886663038, 11.53756406495768, 12.724034207759338, 12.98666029833551, 12.992881931920117, 13.502200356972587, 14.617790540147706, 15.479585907950367, 15.917658301989427, 17.391949304096233], \"type\": \"scatter3d\"}], \"name\": \"15\"}, {\"data\": [{\"hovertemplate\": \"<b>%{hovertext}</b><br><br>particle=16<br>x=%{x}<br>y=%{y}<br>z=%{z}<extra></extra>\", \"hovertext\": [16.0, 16.0, 16.0, 16.0, 16.0, 16.0, 16.0, 16.0, 16.0], \"ids\": [\"6\", \"6\", \"6\", \"6\", \"6\", \"6\", \"6\", \"6\", \"6\"], \"legendgroup\": \"\", \"line\": {\"color\": \"#636efa\", \"dash\": \"solid\"}, \"mode\": \"lines\", \"name\": \"\", \"scene\": \"scene\", \"showlegend\": false, \"x\": [0.0, 0.0, 0.4733212419264802, 0.5780108532767432, 1.4025554303496508, 1.3451533003771612, 0.9964153790145516, 2.0683317028120887, 1.7529584325559766], \"y\": [0.0, 0.0, -0.10373266768516014, -0.12491321883282737, -2.308514104044224, -3.1048738972133014, -3.3358925975373173, -5.1400206842792615, -5.546603019008955], \"z\": [0.0, 0.06884688513545352, 0.699482008105856, 0.8555304073384322, 1.9851113723232048, 3.2491477957038266, 4.182139015193662, 5.61367884475696, 5.6410613791252215], \"type\": \"scatter3d\"}], \"name\": \"16\"}, {\"data\": [{\"hovertemplate\": \"<b>%{hovertext}</b><br><br>particle=17<br>x=%{x}<br>y=%{y}<br>z=%{z}<extra></extra>\", \"hovertext\": [17.0, 17.0, 17.0, 17.0, 17.0, 17.0, 17.0, 17.0, 17.0], \"ids\": [\"6\", \"6\", \"6\", \"6\", \"6\", \"6\", \"6\", \"6\", \"6\"], \"legendgroup\": \"\", \"line\": {\"color\": \"#636efa\", \"dash\": \"solid\"}, \"mode\": \"lines\", \"name\": \"\", \"scene\": \"scene\", \"showlegend\": false, \"x\": [0.0, 0.0, 0.8213035843400318, 0.3643417310819109, 0.3294061632131913, -0.9384007241783276, 1.263642679106297, -0.09893524292337971, -1.3134512034117665], \"y\": [0.0, 0.0, 1.8835193491138555, 3.3214050467103124, 3.3312571664996886, 3.2853641690649167, 2.920058774062239, 2.8432682343210307, 2.5366713056696657], \"z\": [0.0, 0.22078356650128814, 0.6922519455252333, 1.633978540477432, 1.6545437462279289, 4.485233530425704, 6.257030007047041, 8.017433075998898, 8.318960495041686], \"type\": \"scatter3d\"}], \"name\": \"17\"}, {\"data\": [{\"hovertemplate\": \"<b>%{hovertext}</b><br><br>particle=18<br>x=%{x}<br>y=%{y}<br>z=%{z}<extra></extra>\", \"hovertext\": [18.0, 18.0, 18.0, 18.0, 18.0, 18.0, 18.0, 18.0, 18.0, 18.0, 18.0, 18.0, 18.0, 18.0, 18.0, 18.0, 18.0, 18.0, 18.0, 18.0], \"ids\": [\"6\", \"6\", \"6\", \"6\", \"6\", \"6\", \"6\", \"6\", \"6\", \"6\", \"6\", \"6\", \"6\", \"6\", \"6\", \"6\", \"6\", \"6\", \"6\", \"6\"], \"legendgroup\": \"\", \"line\": {\"color\": \"#636efa\", \"dash\": \"solid\"}, \"mode\": \"lines\", \"name\": \"\", \"scene\": \"scene\", \"showlegend\": false, \"x\": [0.0, 0.0, 0.12739966862150795, 0.6110985099974318, 0.7987512096064587, 1.263406253906432, 2.1808275113029763, 2.7292096526871608, 2.667718932270516, 3.5742369089414634, 3.9115200481884833, 3.909230420560569, 3.625203205246639, 2.9199540375154003, 2.259404015447209, 2.211073761741836, 1.670738263697665, 1.558672608005965, 1.5428469644216487, 1.095756423196233], \"y\": [0.0, 0.0, -0.22443211422426096, -1.3983090197831252, -2.0586823055897887, -2.410274094559668, -2.234495011452435, -0.835291433588965, 0.3968347945716641, 0.7319416466787699, 2.1418404291665234, 2.553035080563072, 2.7640313347605074, 3.1120742526881906, 2.9784984351150947, 2.9763914056244647, 2.9762708615865607, 2.869926838705455, 2.812401734215284, 1.9434312864410692], \"z\": [0.0, 0.9648260116882698, 1.057320538567378, 1.1674499618042733, 1.4525200696601288, 1.4985105772365246, 1.6345898396753518, 1.772556643169038, 2.0204183694122366, 2.1878212651065967, 3.5561635234299125, 3.687897335664608, 3.8618417402708034, 4.5632880821576105, 4.858764446072764, 4.878326687016314, 5.0785378356869675, 5.11511312182995, 5.115481745129415, 6.513370881971391], \"type\": \"scatter3d\"}], \"name\": \"18\"}, {\"data\": [{\"hovertemplate\": \"<b>%{hovertext}</b><br><br>particle=19<br>x=%{x}<br>y=%{y}<br>z=%{z}<extra></extra>\", \"hovertext\": [19.0, 19.0, 19.0, 19.0, 19.0, 19.0, 19.0, 19.0, 19.0, 19.0, 19.0, 19.0, 19.0, 19.0, 19.0, 19.0, 19.0], \"ids\": [\"6\", \"6\", \"6\", \"6\", \"6\", \"6\", \"6\", \"6\", \"6\", \"6\", \"6\", \"6\", \"6\", \"6\", \"6\", \"6\", \"6\"], \"legendgroup\": \"\", \"line\": {\"color\": \"#636efa\", \"dash\": \"solid\"}, \"mode\": \"lines\", \"name\": \"\", \"scene\": \"scene\", \"showlegend\": false, \"x\": [0.0, 0.0, -0.1708043265432082, -0.17724541413335573, -0.729684254729195, -1.1234987512533876, -2.368963932742294, -2.585831138187785, -3.981091467700856, -4.006027592599343, -3.5971580062329345, -3.4220292892030573, -4.05577364430126, -4.2809530352769976, -4.197518373572871, -4.953510307103029, -4.55432103020408], \"y\": [0.0, 0.0, 0.2298799942427171, 0.2353594596046664, 0.6847803505661304, 0.5237956218696038, -0.19630155026166116, -0.3435435812416143, -1.029530403684572, -0.9889889527270108, -0.6193871199549688, -0.471141457228385, 1.0679317574115643, 1.1651285935032594, 0.5203928747271466, 0.3751359057875063, 0.5164280354443586], \"z\": [0.0, 0.03795807479844605, 0.41952494540710705, 0.42626557714448415, 1.8876035240765745, 2.444169735608849, 2.7973042283096783, 2.936480881394673, 4.317345860820707, 4.388082808702976, 4.8574282172792485, 5.558380912795704, 7.797009633659503, 8.421330673431267, 9.141926348585791, 10.637184487566225, 11.154525522393048], \"type\": \"scatter3d\"}], \"name\": \"19\"}, {\"data\": [{\"hovertemplate\": \"<b>%{hovertext}</b><br><br>particle=20<br>x=%{x}<br>y=%{y}<br>z=%{z}<extra></extra>\", \"hovertext\": [20.0, 20.0, 20.0, 20.0, 20.0, 20.0, 20.0, 20.0, 20.0, 20.0, 20.0, 20.0, 20.0, 20.0], \"ids\": [\"6\", \"6\", \"6\", \"6\", \"6\", \"6\", \"6\", \"6\", \"6\", \"6\", \"6\", \"6\", \"6\", \"6\"], \"legendgroup\": \"\", \"line\": {\"color\": \"#636efa\", \"dash\": \"solid\"}, \"mode\": \"lines\", \"name\": \"\", \"scene\": \"scene\", \"showlegend\": false, \"x\": [0.0, 0.0, 0.9035795187821452, 0.9260742748777424, 0.9869662006859397, 1.1151239703611804, 3.4926558865609683, 3.6513849957458544, 3.430328691822559, 2.92423420106728, 2.917395880755939, 2.9721452500391865, 2.9630762003982936, 3.7244615989671246], \"y\": [0.0, 0.0, 0.580676349779852, 0.5404387399329814, 0.5136378146002991, 0.42963836895182655, -1.0146825987345591, -1.1896195078169844, -2.411210349509558, -2.343935515045375, -2.3336577262278326, -1.969463114137262, -1.9535467264105952, -1.0171976165808885], \"z\": [0.0, 1.5262897575972638, 2.1402725323180225, 2.167415915950437, 2.208677290923552, 2.3599115662826757, 3.5161363815997326, 3.6293700097494255, 4.243254683487261, 5.63346064238967, 5.677220975953207, 5.870708340133662, 5.882743084617863, 6.14382672907836], \"type\": \"scatter3d\"}], \"name\": \"20\"}, {\"data\": [{\"hovertemplate\": \"<b>%{hovertext}</b><br><br>particle=21<br>x=%{x}<br>y=%{y}<br>z=%{z}<extra></extra>\", \"hovertext\": [21.0, 21.0, 21.0, 21.0, 21.0, 21.0, 21.0, 21.0, 21.0, 21.0, 21.0, 21.0, 21.0, 21.0], \"ids\": [\"6\", \"6\", \"6\", \"6\", \"6\", \"6\", \"6\", \"6\", \"6\", \"6\", \"6\", \"6\", \"6\", \"6\"], \"legendgroup\": \"\", \"line\": {\"color\": \"#636efa\", \"dash\": \"solid\"}, \"mode\": \"lines\", \"name\": \"\", \"scene\": \"scene\", \"showlegend\": false, \"x\": [0.0, 0.0, 1.7035871725396583, 1.8083701840724504, 2.2602588068095613, 2.36289457719032, 2.413514926630538, 2.5385196415424023, 3.5273310415781256, 3.675800733064584, 3.6933413459397806, 3.692291462455709, 4.444389613179368, 4.190026258645232], \"y\": [0.0, 0.0, -0.65785136171625, -0.5434186991608284, -1.3018431868425415, -1.3022852031023806, -1.3685497104579505, -2.878811241375079, -5.165586156415433, -5.243442342150249, -5.3804481906667085, -5.394197036264416, -6.986330674648399, -7.095711371517697], \"z\": [0.0, 2.9877662015184296, 7.961758332498933, 8.274711959119843, 8.611066033064299, 8.668881058463262, 8.699879900912425, 9.653516425436118, 11.626179475227584, 11.63829806537557, 11.935198933965347, 11.93613061712283, 12.319141038942654, 13.05052079684909], \"type\": \"scatter3d\"}], \"name\": \"21\"}, {\"data\": [{\"hovertemplate\": \"<b>%{hovertext}</b><br><br>particle=22<br>x=%{x}<br>y=%{y}<br>z=%{z}<extra></extra>\", \"hovertext\": [22.0, 22.0, 22.0, 22.0, 22.0, 22.0, 22.0, 22.0, 22.0, 22.0, 22.0, 22.0, 22.0, 22.0, 22.0], \"ids\": [\"6\", \"6\", \"6\", \"6\", \"6\", \"6\", \"6\", \"6\", \"6\", \"6\", \"6\", \"6\", \"6\", \"6\", \"6\"], \"legendgroup\": \"\", \"line\": {\"color\": \"#636efa\", \"dash\": \"solid\"}, \"mode\": \"lines\", \"name\": \"\", \"scene\": \"scene\", \"showlegend\": false, \"x\": [0.0, 0.0, -0.7170505023034381, -0.6903605240449613, -1.8991121001335771, -1.9743894859833284, -2.9974212569609486, -3.2298312877226723, -3.197440594139528, -3.8499281523993374, -3.950722007607171, -4.370927634524128, -3.6558604717380168, -3.6420285932975993, -3.592105255200404], \"y\": [0.0, 0.0, -1.8310742369437945, -2.0877955272110973, -1.867818003752307, -1.3244743770785288, -0.901530511415544, -1.0947317455400372, -1.2212858789339447, -1.502246426613424, -1.6739615292364367, -1.730990381349072, -1.95310718539686, -1.9528484032396487, -1.3499681697813253], \"z\": [0.0, 0.9107279429758196, 1.4969198381324924, 1.5784479860313347, 2.8821247052389305, 3.462881182045912, 4.280750254479878, 4.616441453030793, 4.7737499002918415, 5.58615959793635, 5.959381378195546, 7.451051360353015, 8.728259562823462, 8.735698388628046, 9.15860804320746], \"type\": \"scatter3d\"}], \"name\": \"22\"}, {\"data\": [{\"hovertemplate\": \"<b>%{hovertext}</b><br><br>particle=23<br>x=%{x}<br>y=%{y}<br>z=%{z}<extra></extra>\", \"hovertext\": [23.0, 23.0, 23.0, 23.0, 23.0, 23.0, 23.0, 23.0, 23.0, 23.0, 23.0, 23.0], \"ids\": [\"6\", \"6\", \"6\", \"6\", \"6\", \"6\", \"6\", \"6\", \"6\", \"6\", \"6\", \"6\"], \"legendgroup\": \"\", \"line\": {\"color\": \"#636efa\", \"dash\": \"solid\"}, \"mode\": \"lines\", \"name\": \"\", \"scene\": \"scene\", \"showlegend\": false, \"x\": [0.0, 0.0, 0.7887204391214514, 0.8744734935342446, 0.1641055647300702, 0.18705225602689354, 0.5288746376779516, 0.883200720295597, 1.3866719839306982, 2.03762967590511, 2.04414921966053, 2.10717568989796], \"y\": [0.0, 0.0, 2.646090528402158, 3.303726704057607, 3.2559043843865703, 3.0092684858408183, 2.92753140493148, 3.1184362391749043, 2.5940616280103015, 0.27049562662502186, 0.2613338519004931, 0.6711194970217909], \"z\": [0.0, 0.2856210976285242, 1.0764280572595388, 1.4451592936386746, 2.700539690268985, 2.812896833551244, 3.2110679750925346, 4.51476184401124, 5.566910449310647, 7.933384795672373, 7.952154653728499, 8.226556729281036], \"type\": \"scatter3d\"}], \"name\": \"23\"}, {\"data\": [{\"hovertemplate\": \"<b>%{hovertext}</b><br><br>particle=24<br>x=%{x}<br>y=%{y}<br>z=%{z}<extra></extra>\", \"hovertext\": [24.0, 24.0, 24.0, 24.0, 24.0, 24.0, 24.0, 24.0], \"ids\": [\"6\", \"6\", \"6\", \"6\", \"6\", \"6\", \"6\", \"6\"], \"legendgroup\": \"\", \"line\": {\"color\": \"#636efa\", \"dash\": \"solid\"}, \"mode\": \"lines\", \"name\": \"\", \"scene\": \"scene\", \"showlegend\": false, \"x\": [0.0, 0.0, -0.21271341397468888, -0.5928756050341055, -0.9438979019755612, -1.0289167893615387, -1.3944362959722427, -1.2569515641464108], \"y\": [0.0, 0.0, -0.06912398698819144, -0.4409963022172444, -0.14839938187762616, 0.00518334692833778, -0.011313675502669695, -0.08331087304035846], \"z\": [0.0, 0.7104604989382522, 1.0003858579103628, 1.3665434253732722, 2.1851258629710744, 2.189052279681937, 2.7091081048979064, 2.8189106172298404], \"type\": \"scatter3d\"}], \"name\": \"24\"}, {\"data\": [{\"hovertemplate\": \"<b>%{hovertext}</b><br><br>particle=25<br>x=%{x}<br>y=%{y}<br>z=%{z}<extra></extra>\", \"hovertext\": [25.0, 25.0, 25.0, 25.0, 25.0, 25.0, 25.0, 25.0], \"ids\": [\"6\", \"6\", \"6\", \"6\", \"6\", \"6\", \"6\", \"6\"], \"legendgroup\": \"\", \"line\": {\"color\": \"#636efa\", \"dash\": \"solid\"}, \"mode\": \"lines\", \"name\": \"\", \"scene\": \"scene\", \"showlegend\": false, \"x\": [0.0, 0.0, 0.925730828773458, 0.9217481059334014, 0.8962000083428538, 0.0694064371440588, 0.05972067337375726, 0.11743175231207745], \"y\": [0.0, 0.0, 0.7172474489598978, 1.0043116070896507, 2.415422954541263, 2.475313048461921, 2.4734844567538907, 0.3737548768977083], \"z\": [0.0, 0.04250222942865069, 1.3068196219248378, 1.3647991753398712, 1.6093250552442138, 2.1883860388290306, 2.191728224806012, 3.5497646803233622], \"type\": \"scatter3d\"}], \"name\": \"25\"}, {\"data\": [{\"hovertemplate\": \"<b>%{hovertext}</b><br><br>particle=26<br>x=%{x}<br>y=%{y}<br>z=%{z}<extra></extra>\", \"hovertext\": [26.0, 26.0, 26.0, 26.0, 26.0, 26.0, 26.0, 26.0, 26.0, 26.0, 26.0, 26.0, 26.0, 26.0, 26.0, 26.0, 26.0, 26.0, 26.0], \"ids\": [\"6\", \"6\", \"6\", \"6\", \"6\", \"6\", \"6\", \"6\", \"6\", \"6\", \"6\", \"6\", \"6\", \"6\", \"6\", \"6\", \"6\", \"6\", \"6\"], \"legendgroup\": \"\", \"line\": {\"color\": \"#636efa\", \"dash\": \"solid\"}, \"mode\": \"lines\", \"name\": \"\", \"scene\": \"scene\", \"showlegend\": false, \"x\": [0.0, 0.0, -0.00947751121762373, -1.3453735936023623, -1.364633747256942, -1.308933632560541, -1.3076091960195606, 0.7113453886607386, 1.024613898790622, 0.7595574806331425, 0.8739637453184147, 2.673118720261604, 2.5669879721530324, 1.9891553462648872, 2.1411799116196555, 2.051469215235143, 2.0383041868191203, 1.9924951285462684, 1.4813724026187391], \"y\": [0.0, 0.0, 0.5948547797469512, 0.16307358501048475, 0.18157066854455725, 0.19286750183973367, 0.19213159130765453, -1.2460465940878174, -1.6443282195455813, -2.101096564859623, -2.351347087347964, -4.08412977860332, -4.182065861948313, -4.7629405025720315, -4.715600596131067, -4.14699208836829, -4.131105715611869, -4.130752585198276, -4.671065925569899], \"z\": [0.0, 0.27590867859443235, 0.7082394970626724, 3.025154290761884, 3.078193676553925, 3.280713749059227, 3.2830283777418976, 3.4997880949625544, 3.7795539445918767, 3.891209540123519, 3.9953359016712904, 4.669054621004558, 5.144146162133036, 5.870144368015209, 6.230933323644626, 6.466883685020636, 6.512982453064452, 6.567252174976675, 6.77094451073522], \"type\": \"scatter3d\"}], \"name\": \"26\"}, {\"data\": [{\"hovertemplate\": \"<b>%{hovertext}</b><br><br>particle=27<br>x=%{x}<br>y=%{y}<br>z=%{z}<extra></extra>\", \"hovertext\": [27.0, 27.0, 27.0, 27.0, 27.0, 27.0, 27.0, 27.0, 27.0, 27.0, 27.0, 27.0, 27.0, 27.0, 27.0, 27.0, 27.0, 27.0, 27.0, 27.0, 27.0, 27.0, 27.0, 27.0, 27.0], \"ids\": [\"6\", \"6\", \"6\", \"6\", \"6\", \"6\", \"6\", \"6\", \"6\", \"6\", \"6\", \"6\", \"6\", \"6\", \"6\", \"6\", \"6\", \"6\", \"6\", \"6\", \"6\", \"6\", \"6\", \"6\", \"6\"], \"legendgroup\": \"\", \"line\": {\"color\": \"#636efa\", \"dash\": \"solid\"}, \"mode\": \"lines\", \"name\": \"\", \"scene\": \"scene\", \"showlegend\": false, \"x\": [0.0, 0.0, -0.04135978805754385, -0.8459082528324638, -0.8705550822167064, -1.0052247077043466, -1.238792794374212, -1.9715533154376257, -2.3081663476344643, -2.8017568767164422, -2.7636530704119315, -2.6379696072544, -2.506144819814199, -1.979985822379886, -1.2268321577235357, -1.1530464372221894, -1.039435519962432, -0.6270314504404106, 0.3456784947542525, 1.5622457226345494, 1.766251574265432, 1.7889097515376344, 1.7186618644812333, 2.1070626611940466, 1.606362520621202], \"y\": [0.0, 0.0, 0.08587235762477961, 1.0580417037308685, 1.1210120004478514, 1.1836322275171207, 1.1595270456422826, 1.1756807386810104, 0.7773032612488949, -0.29436937353802445, -0.38939735886593463, -0.6344067484414012, -1.1272989031040097, -1.2457115505556062, -1.0583690547554545, -1.04967915088032, -0.7364185642986057, -0.5966442612665158, -0.12703172374431054, -0.4712926893464777, -0.3714974690442001, -0.4086992862958615, -0.3605275787130111, 0.03734248873738678, -0.6016329984526048], \"z\": [0.0, 0.100318757524668, 0.1543462878206685, 0.4345942575830593, 0.4841017693808861, 0.6404646804875055, 0.7730867299898923, 1.7900361593485203, 2.003868988389529, 2.061806039772886, 2.092549984053341, 2.202536574595231, 2.5072209792123448, 2.6075329269449767, 3.6016209913091974, 3.6725079637322735, 4.595650197549695, 8.003561816543161, 9.166384385427955, 9.601165714209143, 10.651995116987386, 10.906016672996637, 11.281530310658374, 13.797671708750356, 14.353627146829824], \"type\": \"scatter3d\"}], \"name\": \"27\"}, {\"data\": [{\"hovertemplate\": \"<b>%{hovertext}</b><br><br>particle=28<br>x=%{x}<br>y=%{y}<br>z=%{z}<extra></extra>\", \"hovertext\": [28.0, 28.0, 28.0, 28.0, 28.0, 28.0, 28.0, 28.0, 28.0, 28.0, 28.0], \"ids\": [\"6\", \"6\", \"6\", \"6\", \"6\", \"6\", \"6\", \"6\", \"6\", \"6\", \"6\"], \"legendgroup\": \"\", \"line\": {\"color\": \"#636efa\", \"dash\": \"solid\"}, \"mode\": \"lines\", \"name\": \"\", \"scene\": \"scene\", \"showlegend\": false, \"x\": [0.0, 0.0, -0.1908989192002576, -0.2785052576405492, -0.2426531564447364, 0.19616053900863856, 0.5442165881509937, 0.7294388564347034, 3.796674446562693, 3.824349728013068, 4.381111264000434], \"y\": [0.0, 0.0, 0.11215847379088173, 0.2328972168244416, 0.2950653802042327, 0.4685151125336137, 0.3360988039989317, 0.7083620758634948, 2.2137748458078335, 2.381042388689106, 2.469343207358919], \"z\": [0.0, 0.19695823581784933, 0.4566968958866674, 0.5667394100701821, 0.6545676724521861, 1.5213496644308495, 1.8789789986356444, 2.130578686101973, 3.461190366868659, 3.5232659903671344, 3.6870652300744178], \"type\": \"scatter3d\"}], \"name\": \"28\"}]);\n",
       "                        }).then(function(){\n",
       "                            \n",
       "var gd = document.getElementById('9b6972e8-bd45-4e8d-8bd3-214d116aa4d7');\n",
       "var x = new MutationObserver(function (mutations, observer) {{\n",
       "        var display = window.getComputedStyle(gd).display;\n",
       "        if (!display || display === 'none') {{\n",
       "            console.log([gd, 'removed!']);\n",
       "            Plotly.purge(gd);\n",
       "            observer.disconnect();\n",
       "        }}\n",
       "}});\n",
       "\n",
       "// Listen for the removal of the full notebook cells\n",
       "var notebookContainer = gd.closest('#notebook-container');\n",
       "if (notebookContainer) {{\n",
       "    x.observe(notebookContainer, {childList: true});\n",
       "}}\n",
       "\n",
       "// Listen for the clearing of the current output cell\n",
       "var outputEl = gd.closest('.output');\n",
       "if (outputEl) {{\n",
       "    x.observe(outputEl, {childList: true});\n",
       "}}\n",
       "\n",
       "                        })                };                });            </script>        </div>"
      ]
     },
     "metadata": {},
     "output_type": "display_data"
    }
   ],
   "source": [
    "import plotly.express as px\n",
    "\n",
    "fig = px.line_3d(lineDF, x=\"x\", y=\"y\", z=\"z\", hover_name=\"particle\",\n",
    "  animation_frame=\"particle\",width=800,height=800,range_x=[-15,15],range_y=[-10,10],range_z=[0,10],animation_group=\"group\")# range_y=[0,4000000000])\n",
    "fig.update_layout(\n",
    "    width=800,\n",
    "    height=800,\n",
    "    autosize=False,\n",
    "    scene=dict(\n",
    "        camera=dict(\n",
    "            up=dict(\n",
    "                x=0,\n",
    "                y=0,\n",
    "                z=1\n",
    "            ),\n",
    "            eye=dict(\n",
    "                x=0,\n",
    "                y=1.0707,\n",
    "                z=1,\n",
    "            )\n",
    "        ),\n",
    "        aspectratio = dict( x=1, y=1, z=0.7 ),\n",
    "        aspectmode = 'manual'\n",
    "    ),\n",
    ")\n",
    "fig.show()\n",
    "#fig.write_image(\"Desktop/file.jpg\")"
   ]
  },
  {
   "cell_type": "code",
   "execution_count": 1,
   "id": "saved-skating",
   "metadata": {},
   "outputs": [
    {
     "data": {
      "text/html": [
       "<style>\n",
       ".output_png img {\n",
       "    display: block;\n",
       "    margin-left: auto;\n",
       "    margin-right: auto;\n",
       "}\n",
       ".rendered_html code {\n",
       "  background-color: #d5eaff;\n",
       "  margin: 0px 2px;\n",
       "  font-family: monaco;\n",
       "  border: solid 0.5px white;\n",
       "  box-sizing: border-box;\n",
       "}\n",
       "/* change markdown code snipet style */\n",
       ".rendered_html pre code {\n",
       "  background-color: #f7f7f7;\n",
       "  font-family: monaco;\n",
       "}\n",
       "/* change markdown code snipet wrapper style */\n",
       ".rendered_html pre {\n",
       "  margin: 1em 2em;\n",
       "  padding: 0px;\n",
       "  background-color: #f7f7f7;\n",
       "  border-left: solid 5px #d5eaff;\n",
       "  padding-left: 5px;\n",
       "}\n",
       "/* pull down the position of result output area */\n",
       ".output {\n",
       "  margin-top: 5px;\n",
       "}\n",
       "/* change output area style */\n",
       "div.output_text {\n",
       "  text-align: center;\n",
       "  color: #000;\n",
       "  line-height: 1.21429em;\n",
       "/* border: solid .5px #2af8ff4d; */\n",
       "/*  border-left: solid 3px #2af8ff4d; */\n",
       "}\n",
       "/* decreace the minimam space size of left side of html area and output area */\n",
       ".prompt {\n",
       "  min-width: 13ex;\n",
       "}\n",
       "/* change font of code input area */\n",
       ".CodeMirror-code {\n",
       "    outline: none;\n",
       "    font-family: monaco;\n",
       "}\n",
       "body { background-color: #073642 !important; }\n",
       "\n",
       "#notebook { \n",
       "    background-color: #073642 !important;\n",
       "    box-shadow: inset 20px 36px 20px -35px black !important;\n",
       "}\n",
       ".rendered_html pre, .rendered_html code {\n",
       "    color: inherit !important;\n",
       "    background-color: inherit !important;\n",
       "}\n",
       "</style>\n",
       "\n",
       "\n"
      ],
      "text/plain": [
       "<IPython.core.display.HTML object>"
      ]
     },
     "metadata": {},
     "output_type": "display_data"
    }
   ],
   "source": [
    "%%html\n",
    "<style>\n",
    ".output_png img {\n",
    "    display: block;\n",
    "    margin-left: auto;\n",
    "    margin-right: auto;\n",
    "}\n",
    ".rendered_html code {\n",
    "  background-color: #d5eaff;\n",
    "  margin: 0px 2px;\n",
    "  font-family: monaco;\n",
    "  border: solid 0.5px white;\n",
    "  box-sizing: border-box;\n",
    "}\n",
    "/* change markdown code snipet style */\n",
    ".rendered_html pre code {\n",
    "  background-color: #f7f7f7;\n",
    "  font-family: monaco;\n",
    "}\n",
    "/* change markdown code snipet wrapper style */\n",
    ".rendered_html pre {\n",
    "  margin: 1em 2em;\n",
    "  padding: 0px;\n",
    "  background-color: #f7f7f7;\n",
    "  border-left: solid 5px #d5eaff;\n",
    "  padding-left: 5px;\n",
    "}\n",
    "/* pull down the position of result output area */\n",
    ".output {\n",
    "  margin-top: 5px;\n",
    "}\n",
    "/* change output area style */\n",
    "div.output_text {\n",
    "  text-align: center;\n",
    "  color: #000;\n",
    "  line-height: 1.21429em;\n",
    "/* border: solid .5px #2af8ff4d; */\n",
    "/*  border-left: solid 3px #2af8ff4d; */\n",
    "}\n",
    "/* decreace the minimam space size of left side of html area and output area */\n",
    ".prompt {\n",
    "  min-width: 13ex;\n",
    "}\n",
    "/* change font of code input area */\n",
    ".CodeMirror-code {\n",
    "    outline: none;\n",
    "    font-family: monaco;\n",
    "}\n",
    "body { background-color: #073642 !important; }\n",
    "\n",
    "#notebook { \n",
    "    background-color: #073642 !important;\n",
    "    box-shadow: inset 20px 36px 20px -35px black !important;\n",
    "}\n",
    ".rendered_html pre, .rendered_html code {\n",
    "    color: inherit !important;\n",
    "    background-color: inherit !important;\n",
    "}\n",
    "</style>\n",
    "\n",
    "\n"
   ]
  },
  {
   "cell_type": "code",
   "execution_count": 2,
   "id": "powered-method",
   "metadata": {},
   "outputs": [
    {
     "name": "stderr",
     "output_type": "stream",
     "text": [
      "[NbConvertApp] Converting notebook Neutron_Trajectory_Explorer.ipynb to hide_code_html\n",
      "[NbConvertApp] Writing 544189 bytes to Neutron_Trajectory_Explorer.html\n"
     ]
    }
   ],
   "source": [
    "!jupyter nbconvert --to hide_code_html Neutron_Trajectory_Explorer.ipynb"
   ]
  },
  {
   "cell_type": "code",
   "execution_count": null,
   "id": "personal-wiring",
   "metadata": {},
   "outputs": [],
   "source": []
  }
 ],
 "metadata": {
  "kernelspec": {
   "display_name": "Python 3",
   "language": "python",
   "name": "python3"
  },
  "language_info": {
   "codemirror_mode": {
    "name": "ipython",
    "version": 3
   },
   "file_extension": ".py",
   "mimetype": "text/x-python",
   "name": "python",
   "nbconvert_exporter": "python",
   "pygments_lexer": "ipython3",
   "version": "3.6.13"
  }
 },
 "nbformat": 4,
 "nbformat_minor": 5
}
